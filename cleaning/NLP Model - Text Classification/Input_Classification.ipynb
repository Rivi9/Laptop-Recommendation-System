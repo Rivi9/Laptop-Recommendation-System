{
 "nbformat": 4,
 "nbformat_minor": 0,
 "metadata": {
  "colab": {
   "provenance": []
  },
  "kernelspec": {
   "name": "python3",
   "language": "python",
   "display_name": "Python 3 (ipykernel)"
  },
  "language_info": {
   "name": "python"
  }
 },
 "cells": [
  {
   "cell_type": "markdown",
   "source": [
    "##**Text Classification - FastText**"
   ],
   "metadata": {
    "id": "_PqzDd1YVNSr"
   }
  },
  {
   "cell_type": "markdown",
   "source": [
    "#### Install necessary libraries"
   ],
   "metadata": {
    "id": "4pGnLqbLV25Z"
   }
  },
  {
   "cell_type": "code",
   "execution_count": 1,
   "metadata": {
    "id": "C0OB_OuGove9",
    "colab": {
     "base_uri": "https://localhost:8080/"
    },
    "outputId": "06d0910c-6adc-49ca-a39f-13ac66731742",
    "ExecuteTime": {
     "end_time": "2024-04-05T21:31:50.578753Z",
     "start_time": "2024-04-05T21:31:41.804925Z"
    }
   },
   "outputs": [
    {
     "name": "stdout",
     "output_type": "stream",
     "text": [
      "Collecting fasttext\n",
      "  Using cached fasttext-0.9.2.tar.gz (68 kB)\n",
      "  Preparing metadata (setup.py): started\n",
      "  Preparing metadata (setup.py): finished with status 'done'\n",
      "Requirement already satisfied: pybind11>=2.2 in c:\\python312\\lib\\site-packages (from fasttext) (2.12.0)\n",
      "Requirement already satisfied: setuptools>=0.7.0 in c:\\python312\\lib\\site-packages (from fasttext) (69.0.2)\n",
      "Requirement already satisfied: numpy in c:\\python312\\lib\\site-packages (from fasttext) (1.26.1)\n",
      "Building wheels for collected packages: fasttext\n",
      "  Building wheel for fasttext (setup.py): started\n",
      "  Building wheel for fasttext (setup.py): finished with status 'error'\n",
      "  Running setup.py clean for fasttext\n",
      "Failed to build fasttext\n"
     ]
    },
    {
     "name": "stderr",
     "output_type": "stream",
     "text": [
      "  error: subprocess-exited-with-error\n",
      "  \n",
      "  python setup.py bdist_wheel did not run successfully.\n",
      "  exit code: 1\n",
      "  \n",
      "  [75 lines of output]\n",
      "  C:\\Python312\\Lib\\site-packages\\setuptools\\dist.py:472: SetuptoolsDeprecationWarning: Invalid dash-separated options\n",
      "  !!\n",
      "  \n",
      "          ********************************************************************************\n",
      "          Usage of dash-separated 'description-file' will not be supported in future\n",
      "          versions. Please use the underscore name 'description_file' instead.\n",
      "  \n",
      "          By 2024-Sep-26, you need to update your project and remove deprecated calls\n",
      "          or your builds will no longer be supported.\n",
      "  \n",
      "          See https://setuptools.pypa.io/en/latest/userguide/declarative_config.html for details.\n",
      "          ********************************************************************************\n",
      "  \n",
      "  !!\n",
      "    opt = self.warn_dash_deprecation(opt, section)\n",
      "  running bdist_wheel\n",
      "  running build\n",
      "  running build_py\n",
      "  creating build\n",
      "  creating build\\lib.win-amd64-cpython-312\n",
      "  creating build\\lib.win-amd64-cpython-312\\fasttext\n",
      "  copying python\\fasttext_module\\fasttext\\FastText.py -> build\\lib.win-amd64-cpython-312\\fasttext\n",
      "  copying python\\fasttext_module\\fasttext\\__init__.py -> build\\lib.win-amd64-cpython-312\\fasttext\n",
      "  creating build\\lib.win-amd64-cpython-312\\fasttext\\util\n",
      "  copying python\\fasttext_module\\fasttext\\util\\util.py -> build\\lib.win-amd64-cpython-312\\fasttext\\util\n",
      "  copying python\\fasttext_module\\fasttext\\util\\__init__.py -> build\\lib.win-amd64-cpython-312\\fasttext\\util\n",
      "  creating build\\lib.win-amd64-cpython-312\\fasttext\\tests\n",
      "  copying python\\fasttext_module\\fasttext\\tests\\test_configurations.py -> build\\lib.win-amd64-cpython-312\\fasttext\\tests\n",
      "  copying python\\fasttext_module\\fasttext\\tests\\test_script.py -> build\\lib.win-amd64-cpython-312\\fasttext\\tests\n",
      "  copying python\\fasttext_module\\fasttext\\tests\\__init__.py -> build\\lib.win-amd64-cpython-312\\fasttext\\tests\n",
      "  running build_ext\n",
      "  building 'fasttext_pybind' extension\n",
      "  creating build\\temp.win-amd64-cpython-312\n",
      "  creating build\\temp.win-amd64-cpython-312\\Release\n",
      "  creating build\\temp.win-amd64-cpython-312\\Release\\python\n",
      "  creating build\\temp.win-amd64-cpython-312\\Release\\python\\fasttext_module\n",
      "  creating build\\temp.win-amd64-cpython-312\\Release\\python\\fasttext_module\\fasttext\n",
      "  creating build\\temp.win-amd64-cpython-312\\Release\\python\\fasttext_module\\fasttext\\pybind\n",
      "  creating build\\temp.win-amd64-cpython-312\\Release\\src\n",
      "  \"C:\\Program Files (x86)\\Microsoft Visual Studio\\2022\\BuildTools\\VC\\Tools\\MSVC\\14.39.33519\\bin\\HostX86\\x64\\cl.exe\" /c /nologo /O2 /W3 /GL /DNDEBUG /MD -IC:\\Python312\\Lib\\site-packages\\pybind11\\include -IC:\\Python312\\Lib\\site-packages\\pybind11\\include -Isrc -IC:\\Python312\\include -IC:\\Python312\\Include \"-IC:\\Program Files (x86)\\Microsoft Visual Studio\\2022\\BuildTools\\VC\\Tools\\MSVC\\14.39.33519\\include\" \"-IC:\\Program Files (x86)\\Microsoft Visual Studio\\2022\\BuildTools\\VC\\Auxiliary\\VS\\include\" \"-IC:\\Program Files (x86)\\Windows Kits\\10\\include\\10.0.22621.0\\ucrt\" \"-IC:\\Program Files (x86)\\Windows Kits\\10\\\\include\\10.0.22621.0\\\\um\" \"-IC:\\Program Files (x86)\\Windows Kits\\10\\\\include\\10.0.22621.0\\\\shared\" \"-IC:\\Program Files (x86)\\Windows Kits\\10\\\\include\\10.0.22621.0\\\\winrt\" \"-IC:\\Program Files (x86)\\Windows Kits\\10\\\\include\\10.0.22621.0\\\\cppwinrt\" \"-IC:\\Program Files (x86)\\Windows Kits\\NETFXSDK\\4.7.2\\include\\um\" /EHsc /Tppython/fasttext_module/fasttext/pybind/fasttext_pybind.cc /Fobuild\\temp.win-amd64-cpython-312\\Release\\python/fasttext_module/fasttext/pybind/fasttext_pybind.obj /EHsc /DVERSION_INFO=\\\\\\\"0.9.2\\\\\\\"\n",
      "  fasttext_pybind.cc\n",
      "  python/fasttext_module/fasttext/pybind/fasttext_pybind.cc(171): error C2065: 'ssize_t': undeclared identifier\n",
      "  python/fasttext_module/fasttext/pybind/fasttext_pybind.cc(171): error C2672: 'pybind11::init': no matching overloaded function found\n",
      "  C:\\Python312\\Lib\\site-packages\\pybind11\\include\\pybind11\\pybind11.h(1991): note: could be 'Ret pybind11::init(CFunc &&,AFunc &&)'\n",
      "  python/fasttext_module/fasttext/pybind/fasttext_pybind.cc(171): note: 'pybind11::init': invalid template argument for 'CFunc', type expected\n",
      "  C:\\Python312\\Lib\\site-packages\\pybind11\\include\\pybind11\\pybind11.h(1983): note: or       'Ret pybind11::init(Func &&)'\n",
      "  python/fasttext_module/fasttext/pybind/fasttext_pybind.cc(171): note: 'pybind11::init': invalid template argument for 'Func', type expected\n",
      "  C:\\Python312\\Lib\\site-packages\\pybind11\\include\\pybind11\\pybind11.h(1971): note: or       'pybind11::detail::initimpl::constructor<Args...> pybind11::init(void)'\n",
      "  python/fasttext_module/fasttext/pybind/fasttext_pybind.cc(171): note: 'pybind11::init': invalid template argument for 'Args', type expected\n",
      "  python/fasttext_module/fasttext/pybind/fasttext_pybind.cc(171): error C2672: 'pybind11::class_<fasttext::Vector>::def': no matching overloaded function found\n",
      "  C:\\Python312\\Lib\\site-packages\\pybind11\\include\\pybind11\\pybind11.h(1690): note: could be 'pybind11::class_<fasttext::Vector> &pybind11::class_<fasttext::Vector>::def(pybind11::detail::initimpl::pickle_factory<Args...> &&,const Extra &...)'\n",
      "  C:\\Python312\\Lib\\site-packages\\pybind11\\include\\pybind11\\pybind11.h(1684): note: or       'pybind11::class_<fasttext::Vector> &pybind11::class_<fasttext::Vector>::def(pybind11::detail::initimpl::factory<Args...> &&,const Extra &...)'\n",
      "  C:\\Python312\\Lib\\site-packages\\pybind11\\include\\pybind11\\pybind11.h(1677): note: or       'pybind11::class_<fasttext::Vector> &pybind11::class_<fasttext::Vector>::def(const pybind11::detail::initimpl::alias_constructor<Args...> &,const Extra &...)'\n",
      "  C:\\Python312\\Lib\\site-packages\\pybind11\\include\\pybind11\\pybind11.h(1670): note: or       'pybind11::class_<fasttext::Vector> &pybind11::class_<fasttext::Vector>::def(const pybind11::detail::initimpl::constructor<Args...> &,const Extra &...)'\n",
      "  C:\\Python312\\Lib\\site-packages\\pybind11\\include\\pybind11\\pybind11.h(1658): note: or       'pybind11::class_<fasttext::Vector> &pybind11::class_<fasttext::Vector>::def(const T &,const Extra &...)'\n",
      "  C:\\Python312\\Lib\\site-packages\\pybind11\\include\\pybind11\\pybind11.h(1633): note: or       'pybind11::class_<fasttext::Vector> &pybind11::class_<fasttext::Vector>::def(const char *,Func &&,const Extra &...)'\n",
      "  python/fasttext_module/fasttext/pybind/fasttext_pybind.cc(171): note: 'pybind11::class_<fasttext::Vector> &pybind11::class_<fasttext::Vector>::def(const char *,Func &&,const Extra &...)': expects 3 arguments - 1 provided\n",
      "  python/fasttext_module/fasttext/pybind/fasttext_pybind.cc(185): error C2065: 'ssize_t': undeclared identifier\n",
      "  python/fasttext_module/fasttext/pybind/fasttext_pybind.cc(185): error C2065: 'ssize_t': undeclared identifier\n",
      "  python/fasttext_module/fasttext/pybind/fasttext_pybind.cc(185): error C2672: 'pybind11::init': no matching overloaded function found\n",
      "  C:\\Python312\\Lib\\site-packages\\pybind11\\include\\pybind11\\pybind11.h(1991): note: could be 'Ret pybind11::init(CFunc &&,AFunc &&)'\n",
      "  python/fasttext_module/fasttext/pybind/fasttext_pybind.cc(185): note: 'pybind11::init': invalid template argument for 'CFunc', type expected\n",
      "  C:\\Python312\\Lib\\site-packages\\pybind11\\include\\pybind11\\pybind11.h(1983): note: or       'Ret pybind11::init(Func &&)'\n",
      "  python/fasttext_module/fasttext/pybind/fasttext_pybind.cc(185): note: 'pybind11::init': invalid template argument for 'Func', type expected\n",
      "  C:\\Python312\\Lib\\site-packages\\pybind11\\include\\pybind11\\pybind11.h(1971): note: or       'pybind11::detail::initimpl::constructor<Args...> pybind11::init(void)'\n",
      "  python/fasttext_module/fasttext/pybind/fasttext_pybind.cc(185): note: 'pybind11::init': invalid template argument for 'Args', type expected\n",
      "  python/fasttext_module/fasttext/pybind/fasttext_pybind.cc(185): error C2672: 'pybind11::class_<fasttext::DenseMatrix>::def': no matching overloaded function found\n",
      "  C:\\Python312\\Lib\\site-packages\\pybind11\\include\\pybind11\\pybind11.h(1690): note: could be 'pybind11::class_<fasttext::DenseMatrix> &pybind11::class_<fasttext::DenseMatrix>::def(pybind11::detail::initimpl::pickle_factory<Args...> &&,const Extra &...)'\n",
      "  C:\\Python312\\Lib\\site-packages\\pybind11\\include\\pybind11\\pybind11.h(1684): note: or       'pybind11::class_<fasttext::DenseMatrix> &pybind11::class_<fasttext::DenseMatrix>::def(pybind11::detail::initimpl::factory<Args...> &&,const Extra &...)'\n",
      "  C:\\Python312\\Lib\\site-packages\\pybind11\\include\\pybind11\\pybind11.h(1677): note: or       'pybind11::class_<fasttext::DenseMatrix> &pybind11::class_<fasttext::DenseMatrix>::def(const pybind11::detail::initimpl::alias_constructor<Args...> &,const Extra &...)'\n",
      "  C:\\Python312\\Lib\\site-packages\\pybind11\\include\\pybind11\\pybind11.h(1670): note: or       'pybind11::class_<fasttext::DenseMatrix> &pybind11::class_<fasttext::DenseMatrix>::def(const pybind11::detail::initimpl::constructor<Args...> &,const Extra &...)'\n",
      "  C:\\Python312\\Lib\\site-packages\\pybind11\\include\\pybind11\\pybind11.h(1658): note: or       'pybind11::class_<fasttext::DenseMatrix> &pybind11::class_<fasttext::DenseMatrix>::def(const T &,const Extra &...)'\n",
      "  C:\\Python312\\Lib\\site-packages\\pybind11\\include\\pybind11\\pybind11.h(1633): note: or       'pybind11::class_<fasttext::DenseMatrix> &pybind11::class_<fasttext::DenseMatrix>::def(const char *,Func &&,const Extra &...)'\n",
      "  python/fasttext_module/fasttext/pybind/fasttext_pybind.cc(185): note: 'pybind11::class_<fasttext::DenseMatrix> &pybind11::class_<fasttext::DenseMatrix>::def(const char *,Func &&,const Extra &...)': expects 3 arguments - 1 provided\n",
      "  error: command 'C:\\\\Program Files (x86)\\\\Microsoft Visual Studio\\\\2022\\\\BuildTools\\\\VC\\\\Tools\\\\MSVC\\\\14.39.33519\\\\bin\\\\HostX86\\\\x64\\\\cl.exe' failed with exit code 2\n",
      "  [end of output]\n",
      "  \n",
      "  note: This error originates from a subprocess, and is likely not a problem with pip.\n",
      "  ERROR: Failed building wheel for fasttext\n",
      "ERROR: Could not build wheels for fasttext, which is required to install pyproject.toml-based projects\n",
      "\n",
      "[notice] A new release of pip is available: 23.3.1 -> 24.0\n",
      "[notice] To update, run: python.exe -m pip install --upgrade pip\n"
     ]
    }
   ],
   "source": [
    "!pip install fasttext"
   ]
  },
  {
   "cell_type": "markdown",
   "source": [
    "#### Import necessary libraries"
   ],
   "metadata": {
    "id": "qBCYErdOV7M7"
   }
  },
  {
   "cell_type": "code",
   "source": [
    "import re\n",
    "import nltk\n",
    "import fasttext\n",
    "import numpy as np\n",
    "import pandas as pd\n",
    "import seaborn as sns\n",
    "import matplotlib.pyplot as plt\n",
    "from nltk.corpus import stopwords\n",
    "from nltk.stem import PorterStemmer\n",
    "from nltk.tokenize import word_tokenize\n",
    "from sklearn.model_selection import train_test_split\n",
    "from sklearn.metrics import confusion_matrix, classification_report"
   ],
   "metadata": {
    "id": "JXsegQBBRVfV",
    "ExecuteTime": {
     "end_time": "2024-04-05T22:30:38.321098Z",
     "start_time": "2024-04-05T22:30:37.596309Z"
    }
   },
   "execution_count": 1,
   "outputs": []
  },
  {
   "cell_type": "markdown",
   "source": [
    "#### Download necessary NLTK data"
   ],
   "metadata": {
    "id": "5lmG-m0QWD15"
   }
  },
  {
   "cell_type": "code",
   "source": [
    "nltk.download('punkt')"
   ],
   "metadata": {
    "colab": {
     "base_uri": "https://localhost:8080/"
    },
    "id": "oFFYmYUNWHi2",
    "outputId": "fc592a1a-5657-4e80-ac15-f31404911d53",
    "ExecuteTime": {
     "end_time": "2024-04-05T22:30:38.642248Z",
     "start_time": "2024-04-05T22:30:38.322110Z"
    }
   },
   "execution_count": 2,
   "outputs": [
    {
     "name": "stderr",
     "output_type": "stream",
     "text": [
      "[nltk_data] Downloading package punkt to\n",
      "[nltk_data]     C:\\Users\\DELL\\AppData\\Roaming\\nltk_data...\n",
      "[nltk_data]   Package punkt is already up-to-date!\n"
     ]
    },
    {
     "data": {
      "text/plain": "True"
     },
     "execution_count": 2,
     "metadata": {},
     "output_type": "execute_result"
    }
   ]
  },
  {
   "cell_type": "markdown",
   "source": [
    "#### Load the dataset"
   ],
   "metadata": {
    "id": "rXI-UAGlWSQa"
   }
  },
  {
   "cell_type": "code",
   "source": [
    "# Load the text classsification dataset\n",
    "df = pd.read_csv(\"Inputs.csv\",names = [\"inputs\", \"category\"], header=None)\n",
    "print(df.shape)\n",
    "df.head(6)"
   ],
   "metadata": {
    "colab": {
     "base_uri": "https://localhost:8080/",
     "height": 255
    },
    "id": "HdJWn3CARhuM",
    "outputId": "22bab503-741c-4e2d-f874-b03192da9eb0",
    "ExecuteTime": {
     "end_time": "2024-04-05T22:30:39.103946Z",
     "start_time": "2024-04-05T22:30:38.643257Z"
    }
   },
   "execution_count": 3,
   "outputs": [
    {
     "name": "stdout",
     "output_type": "stream",
     "text": [
      "(3309, 2)\n"
     ]
    },
    {
     "data": {
      "text/plain": "                                inputs category\n0    senior technical support engineer       IT\n1                  head of it services       IT\n2                js front end engineer       IT\n3  privileged access management expert       IT\n4                     devops engineers       IT\n5                        data modeller       IT",
      "text/html": "<div>\n<style scoped>\n    .dataframe tbody tr th:only-of-type {\n        vertical-align: middle;\n    }\n\n    .dataframe tbody tr th {\n        vertical-align: top;\n    }\n\n    .dataframe thead th {\n        text-align: right;\n    }\n</style>\n<table border=\"1\" class=\"dataframe\">\n  <thead>\n    <tr style=\"text-align: right;\">\n      <th></th>\n      <th>inputs</th>\n      <th>category</th>\n    </tr>\n  </thead>\n  <tbody>\n    <tr>\n      <th>0</th>\n      <td>senior technical support engineer</td>\n      <td>IT</td>\n    </tr>\n    <tr>\n      <th>1</th>\n      <td>head of it services</td>\n      <td>IT</td>\n    </tr>\n    <tr>\n      <th>2</th>\n      <td>js front end engineer</td>\n      <td>IT</td>\n    </tr>\n    <tr>\n      <th>3</th>\n      <td>privileged access management expert</td>\n      <td>IT</td>\n    </tr>\n    <tr>\n      <th>4</th>\n      <td>devops engineers</td>\n      <td>IT</td>\n    </tr>\n    <tr>\n      <th>5</th>\n      <td>data modeller</td>\n      <td>IT</td>\n    </tr>\n  </tbody>\n</table>\n</div>"
     },
     "execution_count": 3,
     "metadata": {},
     "output_type": "execute_result"
    }
   ]
  },
  {
   "cell_type": "code",
   "source": [
    "# Drop NA values\n",
    "df.dropna(inplace=True)"
   ],
   "metadata": {
    "id": "BoZzWFeJSnzm",
    "ExecuteTime": {
     "end_time": "2024-04-05T22:30:39.109340Z",
     "start_time": "2024-04-05T22:30:39.104954Z"
    }
   },
   "execution_count": 4,
   "outputs": []
  },
  {
   "cell_type": "code",
   "source": [
    "# Identify the unique categories\n",
    "df.category.unique()"
   ],
   "metadata": {
    "colab": {
     "base_uri": "https://localhost:8080/"
    },
    "id": "r3Dn1NibStmN",
    "outputId": "f6265c39-d1f3-41b1-9c74-d3b53a1e2a85",
    "ExecuteTime": {
     "end_time": "2024-04-05T22:30:39.119407Z",
     "start_time": "2024-04-05T22:30:39.110350Z"
    }
   },
   "execution_count": 5,
   "outputs": [
    {
     "data": {
      "text/plain": "array(['IT', 'Creative_Design', 'Business_Professional', 'Basic',\n       'Student_Education', 'Gaming'], dtype=object)"
     },
     "execution_count": 5,
     "metadata": {},
     "output_type": "execute_result"
    }
   ]
  },
  {
   "cell_type": "code",
   "source": [
    "# Number of records belonging to each category\n",
    "category_counts = df[\"category\"].value_counts()\n",
    "print(category_counts)"
   ],
   "metadata": {
    "colab": {
     "base_uri": "https://localhost:8080/"
    },
    "id": "xlj683h0S1nr",
    "outputId": "ba388522-078b-429c-dae0-eba3ea79292b",
    "ExecuteTime": {
     "end_time": "2024-04-05T22:30:39.126312Z",
     "start_time": "2024-04-05T22:30:39.120414Z"
    }
   },
   "execution_count": 6,
   "outputs": [
    {
     "name": "stdout",
     "output_type": "stream",
     "text": [
      "category\n",
      "IT                       1288\n",
      "Business_Professional     938\n",
      "Student_Education         729\n",
      "Gaming                    142\n",
      "Basic                     111\n",
      "Creative_Design           101\n",
      "Name: count, dtype: int64\n"
     ]
    }
   ]
  },
  {
   "cell_type": "markdown",
   "source": [
    "#### Preprocess the text data\n",
    "\n",
    "*   Removing punctuation\n",
    "*   Convert to lowercase\n",
    "*   Remove extra spaces\n",
    "*   Tokenize\n",
    "*   Remove stopwords\n",
    "*   Perform stemming"
   ],
   "metadata": {
    "id": "bFCWS8y1Xq73"
   }
  },
  {
   "cell_type": "code",
   "source": [
    "# Combine label and inputsth a preprocessing step\n",
    "df['category'] = '__label__' + df['category'].astype(str)\n",
    "\n",
    "def preprocess_with_stemming(text):\n",
    "    # Remove punctuation and make lowercase\n",
    "    text = re.sub(r'[^\\w\\s]', '', text).lower()\n",
    "    # Remove extra spaces\n",
    "    text = re.sub(' +', ' ', text)\n",
    "    # Tokenization\n",
    "    word_tokens = word_tokenize(text)\n",
    "    return ' '.join(word_tokens)\n",
    "\n",
    "# def preprocess_with_stemming(text):\n",
    "#     # Initialize the Porter Stemmer\n",
    "#     stemmer = PorterStemmer()\n",
    "\n",
    "#     # Remove punctuation and make lowercase\n",
    "#     text = re.sub(r'[^\\w\\s]', '', text).lower()\n",
    "\n",
    "#     # Remove extra spaces\n",
    "#     text = re.sub(' +', ' ', text)\n",
    "\n",
    "#     # Tokenization\n",
    "#     word_tokens = word_tokenize(text)\n",
    "\n",
    "#     # Stemming and join the words back into a string\n",
    "#     stemmed_words = [stemmer.stem(word) for word in word_tokens]\n",
    "#     return ' '.join(stemmed_words)\n",
    "\n",
    "df['sentence_description'] = df['category'] + ' ' + df['inputs'].map(preprocess_with_stemming)"
   ],
   "metadata": {
    "id": "n4CAZpvsS5Eo",
    "ExecuteTime": {
     "end_time": "2024-04-05T22:30:39.266227Z",
     "start_time": "2024-04-05T22:30:39.129319Z"
    }
   },
   "execution_count": 7,
   "outputs": []
  },
  {
   "cell_type": "markdown",
   "source": [
    "#### Split data for training and testing - 20%"
   ],
   "metadata": {
    "id": "AOecI4bkYO5P"
   }
  },
  {
   "cell_type": "code",
   "source": [
    "# Split data for training and testing\n",
    "train, test = train_test_split(df, test_size=0.2, random_state=40)\n",
    "\n",
    "# Save training and testing data to files\n",
    "train.to_csv(\"laptop.train\", columns=[\"sentence_description\"], index=False, header=False)\n",
    "test.to_csv(\"laptop.test\", columns=[\"sentence_description\"], index=False, header=False)"
   ],
   "metadata": {
    "id": "yW0DtawDTjp3",
    "ExecuteTime": {
     "end_time": "2024-04-05T22:30:39.287336Z",
     "start_time": "2024-04-05T22:30:39.267231Z"
    }
   },
   "execution_count": 8,
   "outputs": []
  },
  {
   "cell_type": "markdown",
   "source": [
    "#### Train the FastText model"
   ],
   "metadata": {
    "id": "VuqZyWPGYdC0"
   }
  },
  {
   "cell_type": "code",
   "source": [
    "# Train the FastText model\n",
    "model = fasttext.train_supervised(input=\"laptop.train\", lr=0.5, epoch=25, wordNgrams=2, minCount=1)"
   ],
   "metadata": {
    "id": "SPf_ceKgTniN",
    "ExecuteTime": {
     "end_time": "2024-04-05T22:30:40.465925Z",
     "start_time": "2024-04-05T22:30:39.288343Z"
    }
   },
   "execution_count": 9,
   "outputs": []
  },
  {
   "cell_type": "markdown",
   "source": [
    "#### Evaluate model performance"
   ],
   "metadata": {
    "id": "nQ3F0EiUYolM"
   }
  },
  {
   "cell_type": "code",
   "source": [
    "# Evaluate and print model performance\n",
    "print(model.test(\"laptop.test\"))"
   ],
   "metadata": {
    "colab": {
     "base_uri": "https://localhost:8080/"
    },
    "id": "MWEszahgTq_8",
    "outputId": "4d9afa05-5344-4fda-e205-b0fb292184d8",
    "ExecuteTime": {
     "end_time": "2024-04-05T22:30:40.481068Z",
     "start_time": "2024-04-05T22:30:40.467945Z"
    }
   },
   "execution_count": 10,
   "outputs": [
    {
     "name": "stdout",
     "output_type": "stream",
     "text": [
      "(662, 0.8474320241691843, 0.8474320241691843)\n"
     ]
    }
   ]
  },
  {
   "cell_type": "markdown",
   "source": [
    "#### Confusion matrix and Classification report"
   ],
   "metadata": {
    "id": "hskUUDBHY6wj"
   }
  },
  {
   "cell_type": "code",
   "source": [
    "# Load the test data\n",
    "test_df = pd.read_csv(\"laptop.test\", names=[\"sentence_description\"])\n",
    "\n",
    "# Separate the labels and inputs\n",
    "test_df[['true_labels', 'inputs']] = test_df['sentence_description'].str.split(' ',n=1, expand=True)\n",
    "\n",
    "# Preprocess the inputs in the test set\n",
    "test_df['processed_inputs'] = test_df['inputs'].apply(lambda x: preprocess_with_stemming(x))\n",
    "\n",
    "# Predict labels for the test set inputs\n",
    "predictions = test_df['processed_inputs'].apply(lambda sentence: model.predict(sentence)[0][0])\n",
    "\n",
    "# Since predictions are returned as tuples, extract the first element which is the predicted label\n",
    "test_df['predicted_labels'] = predictions\n",
    "\n",
    "# Extract the labels (removing the '__label__' prefix for comparison and reporting)\n",
    "test_df['true_labels'] = test_df['true_labels'].str.replace('__label__', '')\n",
    "test_df['predicted_labels'] = test_df['predicted_labels'].str.replace('__label__', '')\n",
    "\n",
    "# Generate and print the confusion matrix\n",
    "labels = np.unique(test_df['true_labels'])\n",
    "conf_matrix = confusion_matrix(test_df['true_labels'], test_df['predicted_labels'], labels=labels)\n",
    "print(\"Confusion Matrix:\")\n",
    "print(conf_matrix)\n",
    "\n",
    "# Generate and print the classification report\n",
    "print(\"\\nClassification Report:\")\n",
    "print(classification_report(test_df['true_labels'], test_df['predicted_labels'], labels=labels))\n",
    "\n",
    "# Plot confusion matrix\n",
    "plt.figure(figsize=(10, 7))\n",
    "sns.heatmap(conf_matrix, annot=True, fmt='g', cmap='Blues', xticklabels=labels, yticklabels=labels)\n",
    "plt.xlabel('Predicted labels')\n",
    "plt.ylabel('True labels')\n",
    "plt.title('Confusion Matrix')\n",
    "plt.show()"
   ],
   "metadata": {
    "colab": {
     "base_uri": "https://localhost:8080/",
     "height": 1000
    },
    "id": "Dg2qbiD2Uh-Z",
    "outputId": "4f2db2b1-93c7-419f-a400-6928eb696983",
    "ExecuteTime": {
     "end_time": "2024-04-05T22:30:40.923950Z",
     "start_time": "2024-04-05T22:30:40.483077Z"
    }
   },
   "execution_count": 11,
   "outputs": [
    {
     "name": "stdout",
     "output_type": "stream",
     "text": [
      "Confusion Matrix:\n",
      "[[ 14   6   0   0   1   5]\n",
      " [  0 179   0   0  10  13]\n",
      " [  0   3  18   0   2   0]\n",
      " [  0   0   0  22   0   9]\n",
      " [  0  22   0   0 205   2]\n",
      " [  3  16   0   1   8 123]]\n",
      "\n",
      "Classification Report:\n",
      "                       precision    recall  f1-score   support\n",
      "\n",
      "                Basic       0.82      0.54      0.65        26\n",
      "Business_Professional       0.79      0.89      0.84       202\n",
      "      Creative_Design       1.00      0.78      0.88        23\n",
      "               Gaming       0.96      0.71      0.81        31\n",
      "                   IT       0.91      0.90      0.90       229\n",
      "    Student_Education       0.81      0.81      0.81       151\n",
      "\n",
      "             accuracy                           0.85       662\n",
      "            macro avg       0.88      0.77      0.82       662\n",
      "         weighted avg       0.85      0.85      0.85       662\n"
     ]
    },
    {
     "data": {
      "text/plain": "<Figure size 1000x700 with 2 Axes>",
      "image/png": "[encoded data removed]"
     },
     "metadata": {},
     "output_type": "display_data"
    }
   ]
  },
  {
   "cell_type": "markdown",
   "source": [
    "#### Test with custom inputs"
   ],
   "metadata": {
    "id": "9CIXBo8odewx"
   }
  },
  {
   "cell_type": "code",
   "source": [
    "# function for preprocessing individual inputs\n",
    "def preprocess_input(input):\n",
    "    # Preprocess the input\n",
    "    preprocessed_title = preprocess_with_stemming(input)  # Use the same preprocessing function used for training\n",
    "    return preprocessed_title\n",
    "\n",
    "# List of inputs to test\n",
    "inputs_to_test = [\"Software Engineer\", \"Graphic Designer\", \"Marketing lead\",\n",
    "                      \"ml lecturer\", \"computer science\", \"event planner\",\n",
    "                      \"primary educator\", \"UX/UI designer\", \"accounts assistant\",\n",
    "                      \"project lead\", \"intern finance analyst\"]\n",
    "\n",
    "\n",
    "# Preprocess the inputs\n",
    "preprocessed_titles = [preprocess_input(title) for title in inputs_to_test]\n",
    "\n",
    "# Predict categories for the preprocessed inputs\n",
    "for title in preprocessed_titles:\n",
    "    prediction = model.predict(title)\n",
    "    print(f\"input: {title}, Predicted Category: {prediction[0][0].replace('__label__', '')}\")\n"
   ],
   "metadata": {
    "colab": {
     "base_uri": "https://localhost:8080/"
    },
    "id": "KcCHaRlsUlC9",
    "outputId": "bb0c52cd-26c2-4973-9f57-ba0d56067b08",
    "ExecuteTime": {
     "end_time": "2024-04-05T22:30:40.932947Z",
     "start_time": "2024-04-05T22:30:40.926979Z"
    }
   },
   "execution_count": 12,
   "outputs": [
    {
     "name": "stdout",
     "output_type": "stream",
     "text": [
      "input: software engineer, Predicted Category: IT\n",
      "input: graphic designer, Predicted Category: Creative_Design\n",
      "input: marketing lead, Predicted Category: Business_Professional\n",
      "input: ml lecturer, Predicted Category: IT\n",
      "input: computer science, Predicted Category: IT\n",
      "input: event planner, Predicted Category: Business_Professional\n",
      "input: primary educator, Predicted Category: Student_Education\n",
      "input: uxui designer, Predicted Category: Creative_Design\n",
      "input: accounts assistant, Predicted Category: Business_Professional\n",
      "input: project lead, Predicted Category: IT\n",
      "input: intern finance analyst, Predicted Category: IT\n"
     ]
    }
   ]
  },
  {
   "cell_type": "markdown",
   "source": [
    "#### Save the trained model"
   ],
   "metadata": {
    "id": "le_9mYDPhCq5"
   }
  },
  {
   "cell_type": "code",
   "source": [
    "model.save_model(\"input_classificationNew.bin\")"
   ],
   "metadata": {
    "id": "wzdvblhqUnl6",
    "ExecuteTime": {
     "end_time": "2024-04-05T22:30:54.211660Z",
     "start_time": "2024-04-05T22:30:40.933967Z"
    }
   },
   "execution_count": 13,
   "outputs": []
  }
 ]
}
