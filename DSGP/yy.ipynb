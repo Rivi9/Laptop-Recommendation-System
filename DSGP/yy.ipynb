{
 "cells": [
  {
   "cell_type": "code",
   "execution_count": 2,
   "outputs": [
    {
     "name": "stdout",
     "output_type": "stream",
     "text": [
      "Requirement already satisfied: flask in c:\\users\\yeran\\.anaconda\\anaconda3\\lib\\site-packages (2.2.2)\n",
      "Requirement already satisfied: Werkzeug>=2.2.2 in c:\\users\\yeran\\.anaconda\\anaconda3\\lib\\site-packages (from flask) (2.2.3)\n",
      "Requirement already satisfied: Jinja2>=3.0 in c:\\users\\yeran\\.anaconda\\anaconda3\\lib\\site-packages (from flask) (3.1.2)\n",
      "Requirement already satisfied: itsdangerous>=2.0 in c:\\users\\yeran\\.anaconda\\anaconda3\\lib\\site-packages (from flask) (2.0.1)\n",
      "Requirement already satisfied: click>=8.0 in c:\\users\\yeran\\.anaconda\\anaconda3\\lib\\site-packages (from flask) (8.0.4)\n",
      "Requirement already satisfied: colorama in c:\\users\\yeran\\.anaconda\\anaconda3\\lib\\site-packages (from click>=8.0->flask) (0.4.6)\n",
      "Requirement already satisfied: MarkupSafe>=2.0 in c:\\users\\yeran\\.anaconda\\anaconda3\\lib\\site-packages (from Jinja2>=3.0->flask) (2.1.1)\n"
     ]
    }
   ],
   "source": [
    "!pip install flask"
   ],
   "metadata": {
    "collapsed": false,
    "ExecuteTime": {
     "end_time": "2024-04-03T13:04:25.193805Z",
     "start_time": "2024-04-03T13:04:10.001592900Z"
    }
   },
   "id": "62e9d57391f9a160"
  },
  {
   "cell_type": "code",
   "execution_count": 3,
   "id": "initial_id",
   "metadata": {
    "collapsed": true,
    "ExecuteTime": {
     "end_time": "2024-04-03T13:15:41.628338100Z",
     "start_time": "2024-04-03T13:15:39.287246200Z"
    }
   },
   "outputs": [
    {
     "name": "stdout",
     "output_type": "stream",
     "text": [
      "1200.0\n",
      "Intel Core i5-11300H\n"
     ]
    }
   ],
   "source": [
    "import spacy\n",
    "from sklearn.metrics import classification_report\n",
    "\n",
    "# Load your trained spaCy model\n",
    "nlp = spacy.load(\"en_core_web_lg\")\n",
    "\n",
    "# Function to extract GPU, price, and RAM information from a sentence\n",
    "def extract_info(sentence):\n",
    "    \"\"\"Preprocess the text using spaCy.\"\"\"\n",
    "    doc = nlp(sentence)\n",
    "    # Extract price, RAM, and GPU information\n",
    "    price = None\n",
    "    ram = None\n",
    "    gpu = None\n",
    "    # Initialize variables to store the words between \"and\" and \"GPU\"\n",
    "    words_between = []\n",
    "    word_list = sentence.split()\n",
    "    gpu_start_index = 0\n",
    "    gpu_end_index = 0\n",
    "    # Iterate through tokens in the document\n",
    "    for i, token in enumerate(doc):\n",
    "        # Check if the token text is 'price'\n",
    "        if token.text.lower() == '$':\n",
    "            # Check if the next token resembles a number\n",
    "            if i + 1 < len(doc) and doc[i + 1].like_num:\n",
    "                # Extract the numerical value of the next token\n",
    "                price = float(doc[i + 1].text)\n",
    "        elif token.text.lower() == 'gb':\n",
    "            # Check if the next token resembles a number\n",
    "            if i + 1 < len(doc) and doc[i - 1].like_num:\n",
    "                # Extract the numerical value of the next token\n",
    "                ram = int(doc[i - 1].text)\n",
    "                \n",
    "        \n",
    "        # Check if the token text is 'nvidia' or 'amd'\n",
    "        if token.text.lower() in ['nvidia', 'amd', 'intel']:\n",
    "            for j in range(0, len(word_list)):\n",
    "                if word_list[j].lower() in ['nvidia', 'amd', 'intel']:\n",
    "                    words_between.append(word_list[j])\n",
    "                    for k in range(j+1, len(word_list)):\n",
    "                        if word_list[k].lower() in [\".\", \"and\", \"gpu\", \",\", \"gpu,\", \"cpu,\", \"gpu.\", \"cpu.\"]:\n",
    "                            break\n",
    "                        else:\n",
    "                            words_between.append(word_list[k])\n",
    "                    break   \n",
    "                    \n",
    "                    \n",
    "            \n",
    "            # words_between.append(token.text)\n",
    "            # for j in range(i + 1, len(doc)):\n",
    "            #     if doc[j].text.lower() in [\".\", \"and\", \"gpu\", \",\"]:\n",
    "            #         break\n",
    "            #     else:\n",
    "            #         words_between.append(doc[j].text)\n",
    "\n",
    "    # Convert the list of words between 'and' and 'GPU' to a string\n",
    "    if len(words_between) == 0:\n",
    "        gpu = \"None\"\n",
    "    else:\n",
    "        gpu = ' '.join(words_between)\n",
    "    \n",
    "    if price == None:\n",
    "        price = 0.0\n",
    "    # gpu = ' '.join(words_between)\n",
    "    return price, ram, gpu\n",
    "\n",
    "sample_text = \"This laptop features an Intel Core i5-11300H GPU, priced at $1200 with 16GB RAM\"\n",
    "sample_price, sample_ram, sample_gpu = extract_info(sample_text)\n",
    "print(sample_price)\n",
    "print(sample_gpu)"
   ]
  },
  {
   "cell_type": "code",
   "execution_count": null,
   "outputs": [],
   "source": [],
   "metadata": {
    "collapsed": false
   },
   "id": "99e3060dc132f31"
  }
 ],
 "metadata": {
  "kernelspec": {
   "display_name": "Python 3",
   "language": "python",
   "name": "python3"
  },
  "language_info": {
   "codemirror_mode": {
    "name": "ipython",
    "version": 2
   },
   "file_extension": ".py",
   "mimetype": "text/x-python",
   "name": "python",
   "nbconvert_exporter": "python",
   "pygments_lexer": "ipython2",
   "version": "2.7.6"
  }
 },
 "nbformat": 4,
 "nbformat_minor": 5
}
