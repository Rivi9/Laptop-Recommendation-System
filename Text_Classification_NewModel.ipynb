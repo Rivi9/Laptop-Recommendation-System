{
  "nbformat": 4,
  "nbformat_minor": 0,
  "metadata": {
    "colab": {
      "provenance": [],
      "authorship_tag": "ABX9TyNfTk+Y4Yt/z9Z3OC/U5/A1",
      "include_colab_link": true
    },
    "kernelspec": {
      "name": "python3",
      "display_name": "Python 3"
    },
    "language_info": {
      "name": "python"
    }
  },
  "cells": [
    {
      "cell_type": "markdown",
      "metadata": {
        "id": "view-in-github",
        "colab_type": "text"
      },
      "source": [
        "<a href=\"https://colab.research.google.com/github/Rivi9/Laptop-Recommendation-System/blob/NLP-Model/Text_Classification_NewModel.ipynb\" target=\"_parent\"><img src=\"https://colab.research.google.com/assets/colab-badge.svg\" alt=\"Open In Colab\"/></a>"
      ]
    },
    {
      "cell_type": "markdown",
      "source": [
        "##**Text Classification - FastText**"
      ],
      "metadata": {
        "id": "_PqzDd1YVNSr"
      }
    },
    {
      "cell_type": "markdown",
      "source": [
        "#### Install necessary libraries"
      ],
      "metadata": {
        "id": "4pGnLqbLV25Z"
      }
    },
    {
      "cell_type": "code",
      "execution_count": null,
      "metadata": {
        "id": "C0OB_OuGove9",
        "colab": {
          "base_uri": "https://localhost:8080/"
        },
        "outputId": "0b7e81a4-c49f-4bd2-abae-e4d42f8a1cbb"
      },
      "outputs": [
        {
          "output_type": "stream",
          "name": "stdout",
          "text": [
            "Requirement already satisfied: fasttext in /usr/local/lib/python3.10/dist-packages (0.9.2)\n",
            "Requirement already satisfied: pybind11>=2.2 in /usr/local/lib/python3.10/dist-packages (from fasttext) (2.12.0)\n",
            "Requirement already satisfied: setuptools>=0.7.0 in /usr/local/lib/python3.10/dist-packages (from fasttext) (67.7.2)\n",
            "Requirement already satisfied: numpy in /usr/local/lib/python3.10/dist-packages (from fasttext) (1.25.2)\n"
          ]
        }
      ],
      "source": [
        "pip install fasttext"
      ]
    },
    {
      "cell_type": "markdown",
      "source": [
        "#### Import necessary libraries"
      ],
      "metadata": {
        "id": "qBCYErdOV7M7"
      }
    },
    {
      "cell_type": "code",
      "source": [
        "import re\n",
        "import nltk\n",
        "import fasttext\n",
        "import numpy as np\n",
        "import pandas as pd\n",
        "import seaborn as sns\n",
        "import matplotlib.pyplot as plt\n",
        "from nltk.corpus import stopwords\n",
        "from nltk.stem import PorterStemmer\n",
        "from nltk.tokenize import word_tokenize\n",
        "from sklearn.model_selection import train_test_split\n",
        "from sklearn.metrics import confusion_matrix, classification_report"
      ],
      "metadata": {
        "id": "JXsegQBBRVfV"
      },
      "execution_count": null,
      "outputs": []
    },
    {
      "cell_type": "markdown",
      "source": [
        "#### Download necessary NLTK data"
      ],
      "metadata": {
        "id": "5lmG-m0QWD15"
      }
    },
    {
      "cell_type": "code",
      "source": [
        "nltk.download('punkt')\n",
        "nltk.download('stopwords')"
      ],
      "metadata": {
        "colab": {
          "base_uri": "https://localhost:8080/"
        },
        "id": "oFFYmYUNWHi2",
        "outputId": "881f1d8a-ffdf-41c3-f3d2-96cd4f77b101"
      },
      "execution_count": null,
      "outputs": [
        {
          "output_type": "stream",
          "name": "stderr",
          "text": [
            "[nltk_data] Downloading package punkt to /root/nltk_data...\n",
            "[nltk_data]   Package punkt is already up-to-date!\n",
            "[nltk_data] Downloading package stopwords to /root/nltk_data...\n",
            "[nltk_data]   Package stopwords is already up-to-date!\n"
          ]
        },
        {
          "output_type": "execute_result",
          "data": {
            "text/plain": [
              "True"
            ]
          },
          "metadata": {},
          "execution_count": 158
        }
      ]
    },
    {
      "cell_type": "markdown",
      "source": [
        "#### Load the dataset"
      ],
      "metadata": {
        "id": "rXI-UAGlWSQa"
      }
    },
    {
      "cell_type": "code",
      "source": [
        "# Load the text classsification dataset\n",
        "df = pd.read_csv(\"/content/Sentences - Sheet1 (3).csv\",names = [\"inputs\", \"category\"], header=None)\n",
        "print(df.shape)\n",
        "df.head(6)"
      ],
      "metadata": {
        "colab": {
          "base_uri": "https://localhost:8080/",
          "height": 255
        },
        "id": "HdJWn3CARhuM",
        "outputId": "49c3d47f-fc57-4a59-d542-41ca2a048151"
      },
      "execution_count": null,
      "outputs": [
        {
          "output_type": "stream",
          "name": "stdout",
          "text": [
            "(989, 2)\n"
          ]
        },
        {
          "output_type": "execute_result",
          "data": {
            "text/plain": [
              "                     inputs category\n",
              "0            Travel Blogger    Basic\n",
              "1             Food Blogging    Basic\n",
              "2  digital content designer    Basic\n",
              "3            content writer    Basic\n",
              "4              food blogger    Basic\n",
              "5    social media assistant    Basic"
            ],
            "text/html": [
              "\n",
              "  <div id=\"df-7730ea8d-5281-4eda-9ca8-841dc1120b30\" class=\"colab-df-container\">\n",
              "    <div>\n",
              "<style scoped>\n",
              "    .dataframe tbody tr th:only-of-type {\n",
              "        vertical-align: middle;\n",
              "    }\n",
              "\n",
              "    .dataframe tbody tr th {\n",
              "        vertical-align: top;\n",
              "    }\n",
              "\n",
              "    .dataframe thead th {\n",
              "        text-align: right;\n",
              "    }\n",
              "</style>\n",
              "<table border=\"1\" class=\"dataframe\">\n",
              "  <thead>\n",
              "    <tr style=\"text-align: right;\">\n",
              "      <th></th>\n",
              "      <th>inputs</th>\n",
              "      <th>category</th>\n",
              "    </tr>\n",
              "  </thead>\n",
              "  <tbody>\n",
              "    <tr>\n",
              "      <th>0</th>\n",
              "      <td>Travel Blogger</td>\n",
              "      <td>Basic</td>\n",
              "    </tr>\n",
              "    <tr>\n",
              "      <th>1</th>\n",
              "      <td>Food Blogging</td>\n",
              "      <td>Basic</td>\n",
              "    </tr>\n",
              "    <tr>\n",
              "      <th>2</th>\n",
              "      <td>digital content designer</td>\n",
              "      <td>Basic</td>\n",
              "    </tr>\n",
              "    <tr>\n",
              "      <th>3</th>\n",
              "      <td>content writer</td>\n",
              "      <td>Basic</td>\n",
              "    </tr>\n",
              "    <tr>\n",
              "      <th>4</th>\n",
              "      <td>food blogger</td>\n",
              "      <td>Basic</td>\n",
              "    </tr>\n",
              "    <tr>\n",
              "      <th>5</th>\n",
              "      <td>social media assistant</td>\n",
              "      <td>Basic</td>\n",
              "    </tr>\n",
              "  </tbody>\n",
              "</table>\n",
              "</div>\n",
              "    <div class=\"colab-df-buttons\">\n",
              "\n",
              "  <div class=\"colab-df-container\">\n",
              "    <button class=\"colab-df-convert\" onclick=\"convertToInteractive('df-7730ea8d-5281-4eda-9ca8-841dc1120b30')\"\n",
              "            title=\"Convert this dataframe to an interactive table.\"\n",
              "            style=\"display:none;\">\n",
              "\n",
              "  <svg xmlns=\"http://www.w3.org/2000/svg\" height=\"24px\" viewBox=\"0 -960 960 960\">\n",
              "    <path d=\"M120-120v-720h720v720H120Zm60-500h600v-160H180v160Zm220 220h160v-160H400v160Zm0 220h160v-160H400v160ZM180-400h160v-160H180v160Zm440 0h160v-160H620v160ZM180-180h160v-160H180v160Zm440 0h160v-160H620v160Z\"/>\n",
              "  </svg>\n",
              "    </button>\n",
              "\n",
              "  <style>\n",
              "    .colab-df-container {\n",
              "      display:flex;\n",
              "      gap: 12px;\n",
              "    }\n",
              "\n",
              "    .colab-df-convert {\n",
              "      background-color: #E8F0FE;\n",
              "      border: none;\n",
              "      border-radius: 50%;\n",
              "      cursor: pointer;\n",
              "      display: none;\n",
              "      fill: #1967D2;\n",
              "      height: 32px;\n",
              "      padding: 0 0 0 0;\n",
              "      width: 32px;\n",
              "    }\n",
              "\n",
              "    .colab-df-convert:hover {\n",
              "      background-color: #E2EBFA;\n",
              "      box-shadow: 0px 1px 2px rgba(60, 64, 67, 0.3), 0px 1px 3px 1px rgba(60, 64, 67, 0.15);\n",
              "      fill: #174EA6;\n",
              "    }\n",
              "\n",
              "    .colab-df-buttons div {\n",
              "      margin-bottom: 4px;\n",
              "    }\n",
              "\n",
              "    [theme=dark] .colab-df-convert {\n",
              "      background-color: #3B4455;\n",
              "      fill: #D2E3FC;\n",
              "    }\n",
              "\n",
              "    [theme=dark] .colab-df-convert:hover {\n",
              "      background-color: #434B5C;\n",
              "      box-shadow: 0px 1px 3px 1px rgba(0, 0, 0, 0.15);\n",
              "      filter: drop-shadow(0px 1px 2px rgba(0, 0, 0, 0.3));\n",
              "      fill: #FFFFFF;\n",
              "    }\n",
              "  </style>\n",
              "\n",
              "    <script>\n",
              "      const buttonEl =\n",
              "        document.querySelector('#df-7730ea8d-5281-4eda-9ca8-841dc1120b30 button.colab-df-convert');\n",
              "      buttonEl.style.display =\n",
              "        google.colab.kernel.accessAllowed ? 'block' : 'none';\n",
              "\n",
              "      async function convertToInteractive(key) {\n",
              "        const element = document.querySelector('#df-7730ea8d-5281-4eda-9ca8-841dc1120b30');\n",
              "        const dataTable =\n",
              "          await google.colab.kernel.invokeFunction('convertToInteractive',\n",
              "                                                    [key], {});\n",
              "        if (!dataTable) return;\n",
              "\n",
              "        const docLinkHtml = 'Like what you see? Visit the ' +\n",
              "          '<a target=\"_blank\" href=https://colab.research.google.com/notebooks/data_table.ipynb>data table notebook</a>'\n",
              "          + ' to learn more about interactive tables.';\n",
              "        element.innerHTML = '';\n",
              "        dataTable['output_type'] = 'display_data';\n",
              "        await google.colab.output.renderOutput(dataTable, element);\n",
              "        const docLink = document.createElement('div');\n",
              "        docLink.innerHTML = docLinkHtml;\n",
              "        element.appendChild(docLink);\n",
              "      }\n",
              "    </script>\n",
              "  </div>\n",
              "\n",
              "\n",
              "<div id=\"df-04e28bc1-99f4-43de-a400-f1d85bea80fa\">\n",
              "  <button class=\"colab-df-quickchart\" onclick=\"quickchart('df-04e28bc1-99f4-43de-a400-f1d85bea80fa')\"\n",
              "            title=\"Suggest charts\"\n",
              "            style=\"display:none;\">\n",
              "\n",
              "<svg xmlns=\"http://www.w3.org/2000/svg\" height=\"24px\"viewBox=\"0 0 24 24\"\n",
              "     width=\"24px\">\n",
              "    <g>\n",
              "        <path d=\"M19 3H5c-1.1 0-2 .9-2 2v14c0 1.1.9 2 2 2h14c1.1 0 2-.9 2-2V5c0-1.1-.9-2-2-2zM9 17H7v-7h2v7zm4 0h-2V7h2v10zm4 0h-2v-4h2v4z\"/>\n",
              "    </g>\n",
              "</svg>\n",
              "  </button>\n",
              "\n",
              "<style>\n",
              "  .colab-df-quickchart {\n",
              "      --bg-color: #E8F0FE;\n",
              "      --fill-color: #1967D2;\n",
              "      --hover-bg-color: #E2EBFA;\n",
              "      --hover-fill-color: #174EA6;\n",
              "      --disabled-fill-color: #AAA;\n",
              "      --disabled-bg-color: #DDD;\n",
              "  }\n",
              "\n",
              "  [theme=dark] .colab-df-quickchart {\n",
              "      --bg-color: #3B4455;\n",
              "      --fill-color: #D2E3FC;\n",
              "      --hover-bg-color: #434B5C;\n",
              "      --hover-fill-color: #FFFFFF;\n",
              "      --disabled-bg-color: #3B4455;\n",
              "      --disabled-fill-color: #666;\n",
              "  }\n",
              "\n",
              "  .colab-df-quickchart {\n",
              "    background-color: var(--bg-color);\n",
              "    border: none;\n",
              "    border-radius: 50%;\n",
              "    cursor: pointer;\n",
              "    display: none;\n",
              "    fill: var(--fill-color);\n",
              "    height: 32px;\n",
              "    padding: 0;\n",
              "    width: 32px;\n",
              "  }\n",
              "\n",
              "  .colab-df-quickchart:hover {\n",
              "    background-color: var(--hover-bg-color);\n",
              "    box-shadow: 0 1px 2px rgba(60, 64, 67, 0.3), 0 1px 3px 1px rgba(60, 64, 67, 0.15);\n",
              "    fill: var(--button-hover-fill-color);\n",
              "  }\n",
              "\n",
              "  .colab-df-quickchart-complete:disabled,\n",
              "  .colab-df-quickchart-complete:disabled:hover {\n",
              "    background-color: var(--disabled-bg-color);\n",
              "    fill: var(--disabled-fill-color);\n",
              "    box-shadow: none;\n",
              "  }\n",
              "\n",
              "  .colab-df-spinner {\n",
              "    border: 2px solid var(--fill-color);\n",
              "    border-color: transparent;\n",
              "    border-bottom-color: var(--fill-color);\n",
              "    animation:\n",
              "      spin 1s steps(1) infinite;\n",
              "  }\n",
              "\n",
              "  @keyframes spin {\n",
              "    0% {\n",
              "      border-color: transparent;\n",
              "      border-bottom-color: var(--fill-color);\n",
              "      border-left-color: var(--fill-color);\n",
              "    }\n",
              "    20% {\n",
              "      border-color: transparent;\n",
              "      border-left-color: var(--fill-color);\n",
              "      border-top-color: var(--fill-color);\n",
              "    }\n",
              "    30% {\n",
              "      border-color: transparent;\n",
              "      border-left-color: var(--fill-color);\n",
              "      border-top-color: var(--fill-color);\n",
              "      border-right-color: var(--fill-color);\n",
              "    }\n",
              "    40% {\n",
              "      border-color: transparent;\n",
              "      border-right-color: var(--fill-color);\n",
              "      border-top-color: var(--fill-color);\n",
              "    }\n",
              "    60% {\n",
              "      border-color: transparent;\n",
              "      border-right-color: var(--fill-color);\n",
              "    }\n",
              "    80% {\n",
              "      border-color: transparent;\n",
              "      border-right-color: var(--fill-color);\n",
              "      border-bottom-color: var(--fill-color);\n",
              "    }\n",
              "    90% {\n",
              "      border-color: transparent;\n",
              "      border-bottom-color: var(--fill-color);\n",
              "    }\n",
              "  }\n",
              "</style>\n",
              "\n",
              "  <script>\n",
              "    async function quickchart(key) {\n",
              "      const quickchartButtonEl =\n",
              "        document.querySelector('#' + key + ' button');\n",
              "      quickchartButtonEl.disabled = true;  // To prevent multiple clicks.\n",
              "      quickchartButtonEl.classList.add('colab-df-spinner');\n",
              "      try {\n",
              "        const charts = await google.colab.kernel.invokeFunction(\n",
              "            'suggestCharts', [key], {});\n",
              "      } catch (error) {\n",
              "        console.error('Error during call to suggestCharts:', error);\n",
              "      }\n",
              "      quickchartButtonEl.classList.remove('colab-df-spinner');\n",
              "      quickchartButtonEl.classList.add('colab-df-quickchart-complete');\n",
              "    }\n",
              "    (() => {\n",
              "      let quickchartButtonEl =\n",
              "        document.querySelector('#df-04e28bc1-99f4-43de-a400-f1d85bea80fa button');\n",
              "      quickchartButtonEl.style.display =\n",
              "        google.colab.kernel.accessAllowed ? 'block' : 'none';\n",
              "    })();\n",
              "  </script>\n",
              "</div>\n",
              "\n",
              "    </div>\n",
              "  </div>\n"
            ],
            "application/vnd.google.colaboratory.intrinsic+json": {
              "type": "dataframe",
              "variable_name": "df",
              "summary": "{\n  \"name\": \"df\",\n  \"rows\": 989,\n  \"fields\": [\n    {\n      \"column\": \"inputs\",\n      \"properties\": {\n        \"dtype\": \"string\",\n        \"num_unique_values\": 981,\n        \"samples\": [\n          \"charted accountant\",\n          \"Master's in Product Design\",\n          \"Language Translator, Travel Enthusiast\"\n        ],\n        \"semantic_type\": \"\",\n        \"description\": \"\"\n      }\n    },\n    {\n      \"column\": \"category\",\n      \"properties\": {\n        \"dtype\": \"category\",\n        \"num_unique_values\": 6,\n        \"samples\": [\n          \"Basic\",\n          \"IT\",\n          \"Student_Education\"\n        ],\n        \"semantic_type\": \"\",\n        \"description\": \"\"\n      }\n    }\n  ]\n}"
            }
          },
          "metadata": {},
          "execution_count": 159
        }
      ]
    },
    {
      "cell_type": "markdown",
      "source": [
        "#### Exploring the dataset"
      ],
      "metadata": {
        "id": "wGmqaglnxcg1"
      }
    },
    {
      "cell_type": "code",
      "source": [
        "# Basic information about the dataset\n",
        "print(df.info())"
      ],
      "metadata": {
        "colab": {
          "base_uri": "https://localhost:8080/"
        },
        "id": "TgdtrVJNxbeb",
        "outputId": "d58ec56e-2cf0-4ba5-afcd-679244189f1b"
      },
      "execution_count": null,
      "outputs": [
        {
          "output_type": "stream",
          "name": "stdout",
          "text": [
            "<class 'pandas.core.frame.DataFrame'>\n",
            "RangeIndex: 989 entries, 0 to 988\n",
            "Data columns (total 2 columns):\n",
            " #   Column    Non-Null Count  Dtype \n",
            "---  ------    --------------  ----- \n",
            " 0   inputs    989 non-null    object\n",
            " 1   category  988 non-null    object\n",
            "dtypes: object(2)\n",
            "memory usage: 15.6+ KB\n",
            "None\n"
          ]
        }
      ]
    },
    {
      "cell_type": "code",
      "source": [
        "# Identify the unique categories\n",
        "df.category.unique()"
      ],
      "metadata": {
        "id": "r3Dn1NibStmN",
        "colab": {
          "base_uri": "https://localhost:8080/"
        },
        "outputId": "26a4c8f7-8e80-409e-afb5-494662c35b66"
      },
      "execution_count": null,
      "outputs": [
        {
          "output_type": "execute_result",
          "data": {
            "text/plain": [
              "array(['Basic', nan, 'IT', 'Gaming', 'Creative_Design',\n",
              "       'Business_Professional', 'Student_Education'], dtype=object)"
            ]
          },
          "metadata": {},
          "execution_count": 161
        }
      ]
    },
    {
      "cell_type": "code",
      "source": [
        "# Number of records belonging to each category\n",
        "category_counts = df[\"category\"].value_counts()\n",
        "print(category_counts)"
      ],
      "metadata": {
        "id": "xlj683h0S1nr",
        "colab": {
          "base_uri": "https://localhost:8080/"
        },
        "outputId": "e09109a8-7b68-4432-9445-f92e6906715d"
      },
      "execution_count": null,
      "outputs": [
        {
          "output_type": "stream",
          "name": "stdout",
          "text": [
            "category\n",
            "IT                       194\n",
            "Gaming                   159\n",
            "Creative_Design          159\n",
            "Business_Professional    159\n",
            "Student_Education        159\n",
            "Basic                    158\n",
            "Name: count, dtype: int64\n"
          ]
        }
      ]
    },
    {
      "cell_type": "code",
      "source": [
        "# Drop NA values\n",
        "df.dropna(inplace=True)"
      ],
      "metadata": {
        "id": "BoZzWFeJSnzm"
      },
      "execution_count": null,
      "outputs": []
    },
    {
      "cell_type": "code",
      "source": [
        "# Plotting the distribution of categories\n",
        "plt.figure(figsize=(8,5))\n",
        "sns.countplot(y='category', data=df)\n",
        "plt.title('Laptop Category Distribution')\n",
        "plt.xlabel('Count')\n",
        "plt.ylabel('Category')\n",
        "plt.show()"
      ],
      "metadata": {
        "colab": {
          "base_uri": "https://localhost:8080/",
          "height": 487
        },
        "id": "DJvRfWQMyAmH",
        "outputId": "20c523c9-38d1-46e8-fc46-d205f3a1de81"
      },
      "execution_count": null,
      "outputs": [
        {
          "output_type": "display_data",
          "data": {
            "text/plain": [
              "<Figure size 800x500 with 1 Axes>"
            ],
            "image/png": "[encoded data removed]"
          },
          "metadata": {}
        }
      ]
    },
    {
      "cell_type": "markdown",
      "source": [
        "#### Preprocess the text data\n",
        "\n",
        "*   Removing punctuation\n",
        "*   Convert to lowercase\n",
        "*   Remove extra spaces\n",
        "*   Tokenize\n",
        "*   Remove stopwords\n",
        "*   Perform stemming"
      ],
      "metadata": {
        "id": "bFCWS8y1Xq73"
      }
    },
    {
      "cell_type": "code",
      "source": [
        "# Combine label and inputsth a preprocessing step\n",
        "df['category'] = '__label__' + df['category'].astype(str)\n",
        "\n",
        "stop_words = set(stopwords.words('english'))\n",
        "# Add necessary stopwords\n",
        "custom_stopwords = ['tasks', 'task', 'masters, master, bachelor, bachelors',  'advanced']\n",
        "\n",
        "# Extend the stopwords set with custom stopwords\n",
        "stop_words.update(custom_stopwords)\n",
        "\n",
        "def preprocess_with_stemming(text):\n",
        "    # Remove punctuation and make lowercase\n",
        "    text = re.sub(r'[^\\w\\s]', '', text).lower()\n",
        "    # Remove extra spaces\n",
        "    text = re.sub(' +', ' ', text)\n",
        "    # Tokenization\n",
        "    word_tokens = word_tokenize(text)\n",
        "    filtered_text = [word for word in word_tokens if word not in stop_words]\n",
        "    # Stemming\n",
        "    stemmer = PorterStemmer()\n",
        "    # Stemming and join the words back into a string\n",
        "    stemmed_words = [stemmer.stem(word) for word in word_tokens]\n",
        "    return ' '.join(stemmed_words)\n",
        "\n",
        "df['sentence_description'] = df['category'] + ' ' + df['inputs'].map(preprocess_with_stemming)"
      ],
      "metadata": {
        "id": "n4CAZpvsS5Eo"
      },
      "execution_count": null,
      "outputs": []
    },
    {
      "cell_type": "markdown",
      "source": [
        "#### Split data for training and testing - 20%"
      ],
      "metadata": {
        "id": "AOecI4bkYO5P"
      }
    },
    {
      "cell_type": "code",
      "source": [
        "# Split data for training and testing\n",
        "train, test = train_test_split(df, test_size=0.2, random_state=40)\n",
        "\n",
        "# Save training and testing data to files\n",
        "train.to_csv(\"laptop.train\", columns=[\"sentence_description\"], index=False, header=False)\n",
        "test.to_csv(\"laptop.test\", columns=[\"sentence_description\"], index=False, header=False)"
      ],
      "metadata": {
        "id": "yW0DtawDTjp3"
      },
      "execution_count": null,
      "outputs": []
    },
    {
      "cell_type": "markdown",
      "source": [
        "#### Train the FastText model"
      ],
      "metadata": {
        "id": "VuqZyWPGYdC0"
      }
    },
    {
      "cell_type": "code",
      "source": [
        "# Train the FastText model\n",
        "model = fasttext.train_supervised(input=\"laptop.train\", lr=0.5, epoch=25, wordNgrams=2, minCount=1)"
      ],
      "metadata": {
        "id": "SPf_ceKgTniN"
      },
      "execution_count": null,
      "outputs": []
    },
    {
      "cell_type": "markdown",
      "source": [
        "#### Evaluate model performance"
      ],
      "metadata": {
        "id": "nQ3F0EiUYolM"
      }
    },
    {
      "cell_type": "code",
      "source": [
        "# Evaluate and print model performance\n",
        "print(model.test(\"laptop.test\"))"
      ],
      "metadata": {
        "id": "MWEszahgTq_8",
        "colab": {
          "base_uri": "https://localhost:8080/"
        },
        "outputId": "8b631edd-4a80-4a6f-f181-afaa046fe0ee"
      },
      "execution_count": null,
      "outputs": [
        {
          "output_type": "stream",
          "name": "stdout",
          "text": [
            "(198, 0.8333333333333334, 0.8333333333333334)\n"
          ]
        }
      ]
    },
    {
      "cell_type": "markdown",
      "source": [
        "#### Confusion matrix and Classification report"
      ],
      "metadata": {
        "id": "hskUUDBHY6wj"
      }
    },
    {
      "cell_type": "code",
      "source": [
        "# Load the test data\n",
        "test_df = pd.read_csv(\"laptop.test\", names=[\"sentence_description\"])\n",
        "\n",
        "# Separate the labels and inputs\n",
        "# test_df[['true_labels', 'inputs']] = test_df['sentence_description'].str.split(' ', 1, expand=True)\n",
        "# Separate the labels and inputs with correct parameters\n",
        "test_df[['true_labels', 'inputs']] = test_df['sentence_description'].str.split(' ', n=1, expand=True)\n",
        "\n",
        "# Preprocess the inputs in the test set\n",
        "test_df['processed_inputs'] = test_df['inputs'].apply(lambda x: preprocess_with_stemming(x))\n",
        "\n",
        "# Predict labels for the test set inputs\n",
        "predictions = test_df['processed_inputs'].apply(lambda sentence: model.predict(sentence)[0][0])\n",
        "\n",
        "# Since predictions are returned as tuples, extract the first element which is the predicted label\n",
        "test_df['predicted_labels'] = predictions\n",
        "\n",
        "# Extract the labels (removing the '__label__' prefix for comparison and reporting)\n",
        "test_df['true_labels'] = test_df['true_labels'].str.replace('__label__', '')\n",
        "test_df['predicted_labels'] = test_df['predicted_labels'].str.replace('__label__', '')\n",
        "\n",
        "# Generate and print the confusion matrix\n",
        "labels = np.unique(test_df['true_labels'])\n",
        "conf_matrix = confusion_matrix(test_df['true_labels'], test_df['predicted_labels'], labels=labels)\n",
        "print(\"Confusion Matrix:\")\n",
        "print(conf_matrix)\n",
        "\n",
        "# Generate and print the classification report\n",
        "print(\"\\nClassification Report:\")\n",
        "print(classification_report(test_df['true_labels'], test_df['predicted_labels'], labels=labels))\n",
        "\n",
        "# Plot confusion matrix\n",
        "plt.figure(figsize=(10, 7))\n",
        "sns.heatmap(conf_matrix, annot=True, fmt='g', cmap='Blues', xticklabels=labels, yticklabels=labels)\n",
        "plt.xlabel('Predicted labels')\n",
        "plt.ylabel('True labels')\n",
        "plt.title('Confusion Matrix')\n",
        "plt.show()"
      ],
      "metadata": {
        "id": "Dg2qbiD2Uh-Z",
        "colab": {
          "base_uri": "https://localhost:8080/",
          "height": 1000
        },
        "outputId": "7fbcda47-73ac-45e3-9aed-f57a327f77fb"
      },
      "execution_count": null,
      "outputs": [
        {
          "output_type": "stream",
          "name": "stdout",
          "text": [
            "Confusion Matrix:\n",
            "[[32  1  0  0  0  0]\n",
            " [ 3 23  0  0  1  1]\n",
            " [ 4  1 26  0  4  1]\n",
            " [ 0  1  1 22  0  1]\n",
            " [ 0  2  0  0 29  2]\n",
            " [ 2  4  0  0  4 33]]\n",
            "\n",
            "Classification Report:\n",
            "                       precision    recall  f1-score   support\n",
            "\n",
            "                Basic       0.78      0.97      0.86        33\n",
            "Business_Professional       0.72      0.82      0.77        28\n",
            "      Creative_Design       0.96      0.72      0.83        36\n",
            "               Gaming       1.00      0.88      0.94        25\n",
            "                   IT       0.76      0.88      0.82        33\n",
            "    Student_Education       0.87      0.77      0.81        43\n",
            "\n",
            "             accuracy                           0.83       198\n",
            "            macro avg       0.85      0.84      0.84       198\n",
            "         weighted avg       0.85      0.83      0.83       198\n",
            "\n"
          ]
        },
        {
          "output_type": "display_data",
          "data": {
            "text/plain": [
              "<Figure size 1000x700 with 2 Axes>"
            ],
            "image/png": "[encoded data removed]"
          },
          "metadata": {}
        }
      ]
    },
    {
      "cell_type": "markdown",
      "source": [
        "#### Test with custom inputs"
      ],
      "metadata": {
        "id": "9CIXBo8odewx"
      }
    },
    {
      "cell_type": "code",
      "source": [
        "# function for preprocessing individual inputs\n",
        "def preprocess_input(input):\n",
        "    # Preprocess the input\n",
        "    preprocessed_title = preprocess_with_stemming(input)  # Use the same preprocessing function used for training\n",
        "    return preprocessed_title\n",
        "\n",
        "sentences_to_test = [\n",
        "    \"I am a digital artist looking for a laptop that can handle heavy graphic design software.\",\n",
        "    \"As a student studying computer science, I need a laptop with great battery life for coding sessions.\",\n",
        "    \"I love playing the latest PC games, so I'm searching for a laptop with a high-performance GPU.\",\n",
        "    \"Being a freelance writer, I need a lightweight and portable laptop with a comfortable keyboard.\",\n",
        "    \"As an engineering student, I require a laptop that can run CAD software smoothly.\",\n",
        "    \"I'm a business analyst often working with large datasets, so I need a laptop with plenty of RAM and a fast processor.\",\n",
        "    \"As a video editor, I'm in need of a laptop with a high-resolution display and powerful graphics capabilities.\",\n",
        "    \"I teach online courses and need a laptop with a high-quality webcam and microphone for lectures.\",\n",
        "    \"As a travel blogger, I'm looking for a durable laptop that can handle being on the road.\",\n",
        "    \"I am an AI researcher requiring a laptop with advanced computing power for machine learning tasks.\",\n",
        "    \"for coding activities\"\n",
        "]\n",
        "\n",
        "# Predict categories for the inputs\n",
        "for sentence in sentences_to_test:\n",
        "    preprocessed_sentence = preprocess_input(sentence)\n",
        "    prediction = model.predict(preprocessed_sentence)\n",
        "    print(f\"Text: '{sentence}', Predicted Category: {prediction[0][0].replace('__label__', '')}\")"
      ],
      "metadata": {
        "id": "KcCHaRlsUlC9",
        "colab": {
          "base_uri": "https://localhost:8080/"
        },
        "outputId": "6fa2d95c-6be2-435a-a2b2-83fc1308f26b"
      },
      "execution_count": null,
      "outputs": [
        {
          "output_type": "stream",
          "name": "stdout",
          "text": [
            "Text: 'I am a digital artist looking for a laptop that can handle heavy graphic design software.', Predicted Category: Creative_Design\n",
            "Text: 'As a student studying computer science, I need a laptop with great battery life for coding sessions.', Predicted Category: Student_Education\n",
            "Text: 'I love playing the latest PC games, so I'm searching for a laptop with a high-performance GPU.', Predicted Category: Gaming\n",
            "Text: 'Being a freelance writer, I need a lightweight and portable laptop with a comfortable keyboard.', Predicted Category: Basic\n",
            "Text: 'As an engineering student, I require a laptop that can run CAD software smoothly.', Predicted Category: Gaming\n",
            "Text: 'I'm a business analyst often working with large datasets, so I need a laptop with plenty of RAM and a fast processor.', Predicted Category: Gaming\n",
            "Text: 'As a video editor, I'm in need of a laptop with a high-resolution display and powerful graphics capabilities.', Predicted Category: Creative_Design\n",
            "Text: 'I teach online courses and need a laptop with a high-quality webcam and microphone for lectures.', Predicted Category: Student_Education\n",
            "Text: 'As a travel blogger, I'm looking for a durable laptop that can handle being on the road.', Predicted Category: Basic\n",
            "Text: 'I am an AI researcher requiring a laptop with advanced computing power for machine learning tasks.', Predicted Category: IT\n",
            "Text: 'for coding activities', Predicted Category: IT\n"
          ]
        }
      ]
    },
    {
      "cell_type": "code",
      "source": [
        "# List of inputs to test\n",
        "inputs_to_test = [\"Software Engineer\", \"Graphic Designer\", \"Marketing lead\",\n",
        "                      \"ml lecturer\", \"computer science\", \"event planner\",\n",
        "                      \"primary educator\", \"UX/UI designer\", \"accounts assistant\",\n",
        "                      \"project lead\", \"intern finance analyst\", 'gamer',\n",
        "                   'I play flight simulator and go to school',\n",
        "                  'Tutoring students in advanced mathematics',\n",
        "                  'I need a laptop compatible for both software engineering and gaming',\n",
        "                  \"i need a laptop for spanish lessons and graphic designing\",\n",
        "                  \"i need a portable laptop\",\n",
        "                  \"computer science student\",\n",
        "                  \"for an undergraduate\",\n",
        "                  \"for university\",\n",
        "                  \"data science undergraduate and gamer\"\n",
        "                  ]\n",
        "\n",
        "\n",
        "# Predict categories for the inputs\n",
        "for sentence in inputs_to_test:\n",
        "    preprocessed_sentence = preprocess_input(sentence)\n",
        "    prediction = model.predict(preprocessed_sentence)\n",
        "    print(f\"Text: '{sentence}', Predicted Category: {prediction[0][0].replace('__label__', '')}\")"
      ],
      "metadata": {
        "colab": {
          "base_uri": "https://localhost:8080/"
        },
        "id": "iA4vmN-jXQqJ",
        "outputId": "10327426-1ca2-44c1-ef08-8a1f46e76bb3"
      },
      "execution_count": null,
      "outputs": [
        {
          "output_type": "stream",
          "name": "stdout",
          "text": [
            "Text: 'Software Engineer', Predicted Category: IT\n",
            "Text: 'Graphic Designer', Predicted Category: Creative_Design\n",
            "Text: 'Marketing lead', Predicted Category: Business_Professional\n",
            "Text: 'ml lecturer', Predicted Category: IT\n",
            "Text: 'computer science', Predicted Category: IT\n",
            "Text: 'event planner', Predicted Category: Basic\n",
            "Text: 'primary educator', Predicted Category: Student_Education\n",
            "Text: 'UX/UI designer', Predicted Category: Creative_Design\n",
            "Text: 'accounts assistant', Predicted Category: Business_Professional\n",
            "Text: 'project lead', Predicted Category: IT\n",
            "Text: 'intern finance analyst', Predicted Category: IT\n",
            "Text: 'gamer', Predicted Category: Gaming\n",
            "Text: 'I play flight simulator and go to school', Predicted Category: Gaming\n",
            "Text: 'Tutoring students in advanced mathematics', Predicted Category: Student_Education\n",
            "Text: 'I need a laptop compatible for both software engineering and gaming', Predicted Category: Gaming\n",
            "Text: 'i need a laptop for spanish lessons and graphic designing', Predicted Category: Creative_Design\n",
            "Text: 'i need a portable laptop', Predicted Category: Student_Education\n",
            "Text: 'computer science student', Predicted Category: Student_Education\n",
            "Text: 'for an undergraduate', Predicted Category: Student_Education\n",
            "Text: 'for university', Predicted Category: Student_Education\n",
            "Text: 'data science undergraduate and gamer', Predicted Category: Gaming\n"
          ]
        }
      ]
    },
    {
      "cell_type": "code",
      "source": [
        "print(model.predict(\"Searching for a laptop with a color-accurate display and powerful graphics capabilities for digital art creation.\")) # Wrong\n",
        "print(model.predict(\"I want a device with a stylus and touch screen for graphic design and photo editing.\"))"
      ],
      "metadata": {
        "colab": {
          "base_uri": "https://localhost:8080/"
        },
        "id": "pUPvAxO3JCjb",
        "outputId": "cdc9c3ed-1219-4f4b-a198-ee54950bf81d"
      },
      "execution_count": null,
      "outputs": [
        {
          "output_type": "stream",
          "name": "stdout",
          "text": [
            "(('__label__Creative_Design',), array([0.49396914]))\n",
            "(('__label__Creative_Design',), array([0.65365994]))\n"
          ]
        }
      ]
    },
    {
      "cell_type": "code",
      "source": [
        "print(model.predict(\"I require a lightweight laptop with robust security features for my business travels.\"))\n",
        "print(model.predict(\"Looking for a device with long battery life to take to school\"))"
      ],
      "metadata": {
        "colab": {
          "base_uri": "https://localhost:8080/"
        },
        "id": "yJ7-wZliGrGg",
        "outputId": "12f9670d-5c14-4b3a-cf4f-d507c97e4017"
      },
      "execution_count": null,
      "outputs": [
        {
          "output_type": "stream",
          "name": "stdout",
          "text": [
            "(('__label__Business_Professional',), array([0.3101846]))\n",
            "(('__label__Student_Education',), array([0.62445176]))\n"
          ]
        }
      ]
    },
    {
      "cell_type": "markdown",
      "source": [
        "#### Save the trained model"
      ],
      "metadata": {
        "id": "le_9mYDPhCq5"
      }
    },
    {
      "cell_type": "code",
      "source": [
        "# model.save_model(\"input_classification.bin\")"
      ],
      "metadata": {
        "id": "wzdvblhqUnl6"
      },
      "execution_count": null,
      "outputs": []
    }
  ]
}