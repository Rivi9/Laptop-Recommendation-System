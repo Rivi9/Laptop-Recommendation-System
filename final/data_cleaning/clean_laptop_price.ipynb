{
 "cells": [
  {
   "cell_type": "code",
   "execution_count": 69,
   "metadata": {
    "ExecuteTime": {
     "end_time": "2024-04-04T17:04:32.550081400Z",
     "start_time": "2024-04-04T17:04:32.544938Z"
    }
   },
   "outputs": [],
   "source": [
    "# Importing the necessary libraries.\n",
    "import pandas as pd\n",
    "from forex_python.converter import CurrencyRates"
   ]
  },
  {
   "cell_type": "code",
   "execution_count": 70,
   "metadata": {
    "ExecuteTime": {
     "end_time": "2024-04-04T17:04:32.614995500Z",
     "start_time": "2024-04-04T17:04:32.552601900Z"
    }
   },
   "outputs": [
    {
     "data": {
      "text/plain": "          Company                              Product            TypeName  \\\nlaptop_ID                                                                    \n1           Apple                          MacBook Pro           Ultrabook   \n2           Apple                          Macbook Air           Ultrabook   \n3              HP                               250 G6            Notebook   \n4           Apple                          MacBook Pro           Ultrabook   \n5           Apple                          MacBook Pro           Ultrabook   \n...           ...                                  ...                 ...   \n1316       Lenovo                       Yoga 500-14ISK  2 in 1 Convertible   \n1317       Lenovo                       Yoga 900-13ISK  2 in 1 Convertible   \n1318       Lenovo                   IdeaPad 100S-14IBR            Notebook   \n1319           HP  15-AC110nv (i7-6500U/6GB/1TB/Radeon            Notebook   \n1320         Asus  X553SA-XX031T (N3050/4GB/500GB/W10)            Notebook   \n\n           Inches                            ScreenResolution  \\\nlaptop_ID                                                       \n1            13.3          IPS Panel Retina Display 2560x1600   \n2            13.3                                    1440x900   \n3            15.6                           Full HD 1920x1080   \n4            15.4          IPS Panel Retina Display 2880x1800   \n5            13.3          IPS Panel Retina Display 2560x1600   \n...           ...                                         ...   \n1316         14.0   IPS Panel Full HD / Touchscreen 1920x1080   \n1317         13.3  IPS Panel Quad HD+ / Touchscreen 3200x1800   \n1318         14.0                                    1366x768   \n1319         15.6                                    1366x768   \n1320         15.6                                    1366x768   \n\n                                            Cpu   Ram               Memory  \\\nlaptop_ID                                                                    \n1                          Intel Core i5 2.3GHz   8GB            128GB SSD   \n2                          Intel Core i5 1.8GHz   8GB  128GB Flash Storage   \n3                    Intel Core i5 7200U 2.5GHz   8GB            256GB SSD   \n4                          Intel Core i7 2.7GHz  16GB            512GB SSD   \n5                          Intel Core i5 3.1GHz   8GB            256GB SSD   \n...                                         ...   ...                  ...   \n1316                 Intel Core i7 6500U 2.5GHz   4GB            128GB SSD   \n1317                 Intel Core i7 6500U 2.5GHz  16GB            512GB SSD   \n1318       Intel Celeron Dual Core N3050 1.6GHz   2GB   64GB Flash Storage   \n1319                 Intel Core i7 6500U 2.5GHz   6GB              1TB HDD   \n1320       Intel Celeron Dual Core N3050 1.6GHz   4GB            500GB HDD   \n\n                                    Gpu       OpSys  Weight  Price_euros  \nlaptop_ID                                                                 \n1          Intel Iris Plus Graphics 640       macOS  1.37kg      1339.69  \n2                Intel HD Graphics 6000       macOS  1.34kg       898.94  \n3                 Intel HD Graphics 620       No OS  1.86kg       575.00  \n4                    AMD Radeon Pro 455       macOS  1.83kg      2537.45  \n5          Intel Iris Plus Graphics 650       macOS  1.37kg      1803.60  \n...                                 ...         ...     ...          ...  \n1316              Intel HD Graphics 520  Windows 10   1.8kg       638.00  \n1317              Intel HD Graphics 520  Windows 10   1.3kg      1499.00  \n1318                  Intel HD Graphics  Windows 10   1.5kg       229.00  \n1319                 AMD Radeon R5 M330  Windows 10  2.19kg       764.00  \n1320                  Intel HD Graphics  Windows 10   2.2kg       369.00  \n\n[1303 rows x 12 columns]",
      "text/html": "<div>\n<style scoped>\n    .dataframe tbody tr th:only-of-type {\n        vertical-align: middle;\n    }\n\n    .dataframe tbody tr th {\n        vertical-align: top;\n    }\n\n    .dataframe thead th {\n        text-align: right;\n    }\n</style>\n<table border=\"1\" class=\"dataframe\">\n  <thead>\n    <tr style=\"text-align: right;\">\n      <th></th>\n      <th>Company</th>\n      <th>Product</th>\n      <th>TypeName</th>\n      <th>Inches</th>\n      <th>ScreenResolution</th>\n      <th>Cpu</th>\n      <th>Ram</th>\n      <th>Memory</th>\n      <th>Gpu</th>\n      <th>OpSys</th>\n      <th>Weight</th>\n      <th>Price_euros</th>\n    </tr>\n    <tr>\n      <th>laptop_ID</th>\n      <th></th>\n      <th></th>\n      <th></th>\n      <th></th>\n      <th></th>\n      <th></th>\n      <th></th>\n      <th></th>\n      <th></th>\n      <th></th>\n      <th></th>\n      <th></th>\n    </tr>\n  </thead>\n  <tbody>\n    <tr>\n      <th>1</th>\n      <td>Apple</td>\n      <td>MacBook Pro</td>\n      <td>Ultrabook</td>\n      <td>13.3</td>\n      <td>IPS Panel Retina Display 2560x1600</td>\n      <td>Intel Core i5 2.3GHz</td>\n      <td>8GB</td>\n      <td>128GB SSD</td>\n      <td>Intel Iris Plus Graphics 640</td>\n      <td>macOS</td>\n      <td>1.37kg</td>\n      <td>1339.69</td>\n    </tr>\n    <tr>\n      <th>2</th>\n      <td>Apple</td>\n      <td>Macbook Air</td>\n      <td>Ultrabook</td>\n      <td>13.3</td>\n      <td>1440x900</td>\n      <td>Intel Core i5 1.8GHz</td>\n      <td>8GB</td>\n      <td>128GB Flash Storage</td>\n      <td>Intel HD Graphics 6000</td>\n      <td>macOS</td>\n      <td>1.34kg</td>\n      <td>898.94</td>\n    </tr>\n    <tr>\n      <th>3</th>\n      <td>HP</td>\n      <td>250 G6</td>\n      <td>Notebook</td>\n      <td>15.6</td>\n      <td>Full HD 1920x1080</td>\n      <td>Intel Core i5 7200U 2.5GHz</td>\n      <td>8GB</td>\n      <td>256GB SSD</td>\n      <td>Intel HD Graphics 620</td>\n      <td>No OS</td>\n      <td>1.86kg</td>\n      <td>575.00</td>\n    </tr>\n    <tr>\n      <th>4</th>\n      <td>Apple</td>\n      <td>MacBook Pro</td>\n      <td>Ultrabook</td>\n      <td>15.4</td>\n      <td>IPS Panel Retina Display 2880x1800</td>\n      <td>Intel Core i7 2.7GHz</td>\n      <td>16GB</td>\n      <td>512GB SSD</td>\n      <td>AMD Radeon Pro 455</td>\n      <td>macOS</td>\n      <td>1.83kg</td>\n      <td>2537.45</td>\n    </tr>\n    <tr>\n      <th>5</th>\n      <td>Apple</td>\n      <td>MacBook Pro</td>\n      <td>Ultrabook</td>\n      <td>13.3</td>\n      <td>IPS Panel Retina Display 2560x1600</td>\n      <td>Intel Core i5 3.1GHz</td>\n      <td>8GB</td>\n      <td>256GB SSD</td>\n      <td>Intel Iris Plus Graphics 650</td>\n      <td>macOS</td>\n      <td>1.37kg</td>\n      <td>1803.60</td>\n    </tr>\n    <tr>\n      <th>...</th>\n      <td>...</td>\n      <td>...</td>\n      <td>...</td>\n      <td>...</td>\n      <td>...</td>\n      <td>...</td>\n      <td>...</td>\n      <td>...</td>\n      <td>...</td>\n      <td>...</td>\n      <td>...</td>\n      <td>...</td>\n    </tr>\n    <tr>\n      <th>1316</th>\n      <td>Lenovo</td>\n      <td>Yoga 500-14ISK</td>\n      <td>2 in 1 Convertible</td>\n      <td>14.0</td>\n      <td>IPS Panel Full HD / Touchscreen 1920x1080</td>\n      <td>Intel Core i7 6500U 2.5GHz</td>\n      <td>4GB</td>\n      <td>128GB SSD</td>\n      <td>Intel HD Graphics 520</td>\n      <td>Windows 10</td>\n      <td>1.8kg</td>\n      <td>638.00</td>\n    </tr>\n    <tr>\n      <th>1317</th>\n      <td>Lenovo</td>\n      <td>Yoga 900-13ISK</td>\n      <td>2 in 1 Convertible</td>\n      <td>13.3</td>\n      <td>IPS Panel Quad HD+ / Touchscreen 3200x1800</td>\n      <td>Intel Core i7 6500U 2.5GHz</td>\n      <td>16GB</td>\n      <td>512GB SSD</td>\n      <td>Intel HD Graphics 520</td>\n      <td>Windows 10</td>\n      <td>1.3kg</td>\n      <td>1499.00</td>\n    </tr>\n    <tr>\n      <th>1318</th>\n      <td>Lenovo</td>\n      <td>IdeaPad 100S-14IBR</td>\n      <td>Notebook</td>\n      <td>14.0</td>\n      <td>1366x768</td>\n      <td>Intel Celeron Dual Core N3050 1.6GHz</td>\n      <td>2GB</td>\n      <td>64GB Flash Storage</td>\n      <td>Intel HD Graphics</td>\n      <td>Windows 10</td>\n      <td>1.5kg</td>\n      <td>229.00</td>\n    </tr>\n    <tr>\n      <th>1319</th>\n      <td>HP</td>\n      <td>15-AC110nv (i7-6500U/6GB/1TB/Radeon</td>\n      <td>Notebook</td>\n      <td>15.6</td>\n      <td>1366x768</td>\n      <td>Intel Core i7 6500U 2.5GHz</td>\n      <td>6GB</td>\n      <td>1TB HDD</td>\n      <td>AMD Radeon R5 M330</td>\n      <td>Windows 10</td>\n      <td>2.19kg</td>\n      <td>764.00</td>\n    </tr>\n    <tr>\n      <th>1320</th>\n      <td>Asus</td>\n      <td>X553SA-XX031T (N3050/4GB/500GB/W10)</td>\n      <td>Notebook</td>\n      <td>15.6</td>\n      <td>1366x768</td>\n      <td>Intel Celeron Dual Core N3050 1.6GHz</td>\n      <td>4GB</td>\n      <td>500GB HDD</td>\n      <td>Intel HD Graphics</td>\n      <td>Windows 10</td>\n      <td>2.2kg</td>\n      <td>369.00</td>\n    </tr>\n  </tbody>\n</table>\n<p>1303 rows × 12 columns</p>\n</div>"
     },
     "execution_count": 70,
     "metadata": {},
     "output_type": "execute_result"
    }
   ],
   "source": [
    "# Reading the laptop specifications file\n",
    "df = pd.read_csv(\"laptop_price.csv\",index_col=0)\n",
    "df"
   ]
  },
  {
   "cell_type": "code",
   "execution_count": 71,
   "metadata": {
    "ExecuteTime": {
     "end_time": "2024-04-04T17:04:32.615997Z",
     "start_time": "2024-04-04T17:04:32.573812Z"
    }
   },
   "outputs": [
    {
     "data": {
      "text/plain": "          Company                              Product            TypeName  \\\nlaptop_ID                                                                    \n1           Apple                          MacBook Pro           Ultrabook   \n2           Apple                          Macbook Air           Ultrabook   \n3              HP                               250 G6            Notebook   \n4           Apple                          MacBook Pro           Ultrabook   \n5           Apple                          MacBook Pro           Ultrabook   \n...           ...                                  ...                 ...   \n1288       Lenovo                       Yoga 500-14ISK  2 in 1 Convertible   \n1289       Lenovo                       Yoga 900-13ISK  2 in 1 Convertible   \n1290       Lenovo                   IdeaPad 100S-14IBR            Notebook   \n1291           HP  15-AC110nv (i7-6500U/6GB/1TB/Radeon            Notebook   \n1292         Asus  X553SA-XX031T (N3050/4GB/500GB/W10)            Notebook   \n\n           Inches                            ScreenResolution  \\\nlaptop_ID                                                       \n1            13.3          IPS Panel Retina Display 2560x1600   \n2            13.3                                    1440x900   \n3            15.6                           Full HD 1920x1080   \n4            15.4          IPS Panel Retina Display 2880x1800   \n5            13.3          IPS Panel Retina Display 2560x1600   \n...           ...                                         ...   \n1288         14.0   IPS Panel Full HD / Touchscreen 1920x1080   \n1289         13.3  IPS Panel Quad HD+ / Touchscreen 3200x1800   \n1290         14.0                                    1366x768   \n1291         15.6                                    1366x768   \n1292         15.6                                    1366x768   \n\n                                            Cpu   Ram               Memory  \\\nlaptop_ID                                                                    \n1                          Intel Core i5 2.3GHz   8GB            128GB SSD   \n2                          Intel Core i5 1.8GHz   8GB  128GB Flash Storage   \n3                    Intel Core i5 7200U 2.5GHz   8GB            256GB SSD   \n4                          Intel Core i7 2.7GHz  16GB            512GB SSD   \n5                          Intel Core i5 3.1GHz   8GB            256GB SSD   \n...                                         ...   ...                  ...   \n1288                 Intel Core i7 6500U 2.5GHz   4GB            128GB SSD   \n1289                 Intel Core i7 6500U 2.5GHz  16GB            512GB SSD   \n1290       Intel Celeron Dual Core N3050 1.6GHz   2GB   64GB Flash Storage   \n1291                 Intel Core i7 6500U 2.5GHz   6GB              1TB HDD   \n1292       Intel Celeron Dual Core N3050 1.6GHz   4GB            500GB HDD   \n\n                                    Gpu       OpSys  Weight  Price_euros  \nlaptop_ID                                                                 \n1          Intel Iris Plus Graphics 640       macOS  1.37kg      1339.69  \n2                Intel HD Graphics 6000       macOS  1.34kg       898.94  \n3                 Intel HD Graphics 620       No OS  1.86kg       575.00  \n4                    AMD Radeon Pro 455       macOS  1.83kg      2537.45  \n5          Intel Iris Plus Graphics 650       macOS  1.37kg      1803.60  \n...                                 ...         ...     ...          ...  \n1288              Intel HD Graphics 520  Windows 10   1.8kg       638.00  \n1289              Intel HD Graphics 520  Windows 10   1.3kg      1499.00  \n1290                  Intel HD Graphics  Windows 10   1.5kg       229.00  \n1291                 AMD Radeon R5 M330  Windows 10  2.19kg       764.00  \n1292                  Intel HD Graphics  Windows 10   2.2kg       369.00  \n\n[1275 rows x 12 columns]",
      "text/html": "<div>\n<style scoped>\n    .dataframe tbody tr th:only-of-type {\n        vertical-align: middle;\n    }\n\n    .dataframe tbody tr th {\n        vertical-align: top;\n    }\n\n    .dataframe thead th {\n        text-align: right;\n    }\n</style>\n<table border=\"1\" class=\"dataframe\">\n  <thead>\n    <tr style=\"text-align: right;\">\n      <th></th>\n      <th>Company</th>\n      <th>Product</th>\n      <th>TypeName</th>\n      <th>Inches</th>\n      <th>ScreenResolution</th>\n      <th>Cpu</th>\n      <th>Ram</th>\n      <th>Memory</th>\n      <th>Gpu</th>\n      <th>OpSys</th>\n      <th>Weight</th>\n      <th>Price_euros</th>\n    </tr>\n    <tr>\n      <th>laptop_ID</th>\n      <th></th>\n      <th></th>\n      <th></th>\n      <th></th>\n      <th></th>\n      <th></th>\n      <th></th>\n      <th></th>\n      <th></th>\n      <th></th>\n      <th></th>\n      <th></th>\n    </tr>\n  </thead>\n  <tbody>\n    <tr>\n      <th>1</th>\n      <td>Apple</td>\n      <td>MacBook Pro</td>\n      <td>Ultrabook</td>\n      <td>13.3</td>\n      <td>IPS Panel Retina Display 2560x1600</td>\n      <td>Intel Core i5 2.3GHz</td>\n      <td>8GB</td>\n      <td>128GB SSD</td>\n      <td>Intel Iris Plus Graphics 640</td>\n      <td>macOS</td>\n      <td>1.37kg</td>\n      <td>1339.69</td>\n    </tr>\n    <tr>\n      <th>2</th>\n      <td>Apple</td>\n      <td>Macbook Air</td>\n      <td>Ultrabook</td>\n      <td>13.3</td>\n      <td>1440x900</td>\n      <td>Intel Core i5 1.8GHz</td>\n      <td>8GB</td>\n      <td>128GB Flash Storage</td>\n      <td>Intel HD Graphics 6000</td>\n      <td>macOS</td>\n      <td>1.34kg</td>\n      <td>898.94</td>\n    </tr>\n    <tr>\n      <th>3</th>\n      <td>HP</td>\n      <td>250 G6</td>\n      <td>Notebook</td>\n      <td>15.6</td>\n      <td>Full HD 1920x1080</td>\n      <td>Intel Core i5 7200U 2.5GHz</td>\n      <td>8GB</td>\n      <td>256GB SSD</td>\n      <td>Intel HD Graphics 620</td>\n      <td>No OS</td>\n      <td>1.86kg</td>\n      <td>575.00</td>\n    </tr>\n    <tr>\n      <th>4</th>\n      <td>Apple</td>\n      <td>MacBook Pro</td>\n      <td>Ultrabook</td>\n      <td>15.4</td>\n      <td>IPS Panel Retina Display 2880x1800</td>\n      <td>Intel Core i7 2.7GHz</td>\n      <td>16GB</td>\n      <td>512GB SSD</td>\n      <td>AMD Radeon Pro 455</td>\n      <td>macOS</td>\n      <td>1.83kg</td>\n      <td>2537.45</td>\n    </tr>\n    <tr>\n      <th>5</th>\n      <td>Apple</td>\n      <td>MacBook Pro</td>\n      <td>Ultrabook</td>\n      <td>13.3</td>\n      <td>IPS Panel Retina Display 2560x1600</td>\n      <td>Intel Core i5 3.1GHz</td>\n      <td>8GB</td>\n      <td>256GB SSD</td>\n      <td>Intel Iris Plus Graphics 650</td>\n      <td>macOS</td>\n      <td>1.37kg</td>\n      <td>1803.60</td>\n    </tr>\n    <tr>\n      <th>...</th>\n      <td>...</td>\n      <td>...</td>\n      <td>...</td>\n      <td>...</td>\n      <td>...</td>\n      <td>...</td>\n      <td>...</td>\n      <td>...</td>\n      <td>...</td>\n      <td>...</td>\n      <td>...</td>\n      <td>...</td>\n    </tr>\n    <tr>\n      <th>1288</th>\n      <td>Lenovo</td>\n      <td>Yoga 500-14ISK</td>\n      <td>2 in 1 Convertible</td>\n      <td>14.0</td>\n      <td>IPS Panel Full HD / Touchscreen 1920x1080</td>\n      <td>Intel Core i7 6500U 2.5GHz</td>\n      <td>4GB</td>\n      <td>128GB SSD</td>\n      <td>Intel HD Graphics 520</td>\n      <td>Windows 10</td>\n      <td>1.8kg</td>\n      <td>638.00</td>\n    </tr>\n    <tr>\n      <th>1289</th>\n      <td>Lenovo</td>\n      <td>Yoga 900-13ISK</td>\n      <td>2 in 1 Convertible</td>\n      <td>13.3</td>\n      <td>IPS Panel Quad HD+ / Touchscreen 3200x1800</td>\n      <td>Intel Core i7 6500U 2.5GHz</td>\n      <td>16GB</td>\n      <td>512GB SSD</td>\n      <td>Intel HD Graphics 520</td>\n      <td>Windows 10</td>\n      <td>1.3kg</td>\n      <td>1499.00</td>\n    </tr>\n    <tr>\n      <th>1290</th>\n      <td>Lenovo</td>\n      <td>IdeaPad 100S-14IBR</td>\n      <td>Notebook</td>\n      <td>14.0</td>\n      <td>1366x768</td>\n      <td>Intel Celeron Dual Core N3050 1.6GHz</td>\n      <td>2GB</td>\n      <td>64GB Flash Storage</td>\n      <td>Intel HD Graphics</td>\n      <td>Windows 10</td>\n      <td>1.5kg</td>\n      <td>229.00</td>\n    </tr>\n    <tr>\n      <th>1291</th>\n      <td>HP</td>\n      <td>15-AC110nv (i7-6500U/6GB/1TB/Radeon</td>\n      <td>Notebook</td>\n      <td>15.6</td>\n      <td>1366x768</td>\n      <td>Intel Core i7 6500U 2.5GHz</td>\n      <td>6GB</td>\n      <td>1TB HDD</td>\n      <td>AMD Radeon R5 M330</td>\n      <td>Windows 10</td>\n      <td>2.19kg</td>\n      <td>764.00</td>\n    </tr>\n    <tr>\n      <th>1292</th>\n      <td>Asus</td>\n      <td>X553SA-XX031T (N3050/4GB/500GB/W10)</td>\n      <td>Notebook</td>\n      <td>15.6</td>\n      <td>1366x768</td>\n      <td>Intel Celeron Dual Core N3050 1.6GHz</td>\n      <td>4GB</td>\n      <td>500GB HDD</td>\n      <td>Intel HD Graphics</td>\n      <td>Windows 10</td>\n      <td>2.2kg</td>\n      <td>369.00</td>\n    </tr>\n  </tbody>\n</table>\n<p>1275 rows × 12 columns</p>\n</div>"
     },
     "execution_count": 71,
     "metadata": {},
     "output_type": "execute_result"
    }
   ],
   "source": [
    "# removing all the duplicate records\n",
    "df = df.drop_duplicates()\n",
    "df"
   ]
  },
  {
   "cell_type": "code",
   "execution_count": 72,
   "metadata": {
    "ExecuteTime": {
     "end_time": "2024-04-04T17:04:32.616998700Z",
     "start_time": "2024-04-04T17:04:32.591255900Z"
    }
   },
   "outputs": [
    {
     "name": "stdout",
     "output_type": "stream",
     "text": [
      "object     10\n",
      "float64     2\n",
      "Name: count, dtype: int64\n"
     ]
    }
   ],
   "source": [
    "# data type\n",
    "dtypes_count = df.dtypes.value_counts()\n",
    "print(dtypes_count)"
   ]
  },
  {
   "cell_type": "code",
   "execution_count": 73,
   "outputs": [
    {
     "name": "stderr",
     "output_type": "stream",
     "text": [
      "C:\\Users\\DELL\\AppData\\Local\\Temp\\ipykernel_1844\\654296203.py:5: SettingWithCopyWarning: \n",
      "A value is trying to be set on a copy of a slice from a DataFrame.\n",
      "Try using .loc[row_indexer,col_indexer] = value instead\n",
      "\n",
      "See the caveats in the documentation: https://pandas.pydata.org/pandas-docs/stable/user_guide/indexing.html#returning-a-view-versus-a-copy\n",
      "  df['Price_euros'] = df['Price_euros'].apply(lambda x:round(x*convert_rate,2))\n",
      "C:\\Users\\DELL\\AppData\\Local\\Temp\\ipykernel_1844\\654296203.py:6: SettingWithCopyWarning: \n",
      "A value is trying to be set on a copy of a slice from a DataFrame\n",
      "\n",
      "See the caveats in the documentation: https://pandas.pydata.org/pandas-docs/stable/user_guide/indexing.html#returning-a-view-versus-a-copy\n",
      "  df.rename(columns={'Price_euros': 'Price'},inplace=True)\n"
     ]
    },
    {
     "data": {
      "text/plain": "          Company                              Product            TypeName  \\\nlaptop_ID                                                                    \n1           Apple                          MacBook Pro           Ultrabook   \n2           Apple                          Macbook Air           Ultrabook   \n3              HP                               250 G6            Notebook   \n4           Apple                          MacBook Pro           Ultrabook   \n5           Apple                          MacBook Pro           Ultrabook   \n...           ...                                  ...                 ...   \n1288       Lenovo                       Yoga 500-14ISK  2 in 1 Convertible   \n1289       Lenovo                       Yoga 900-13ISK  2 in 1 Convertible   \n1290       Lenovo                   IdeaPad 100S-14IBR            Notebook   \n1291           HP  15-AC110nv (i7-6500U/6GB/1TB/Radeon            Notebook   \n1292         Asus  X553SA-XX031T (N3050/4GB/500GB/W10)            Notebook   \n\n           Inches                            ScreenResolution  \\\nlaptop_ID                                                       \n1            13.3          IPS Panel Retina Display 2560x1600   \n2            13.3                                    1440x900   \n3            15.6                           Full HD 1920x1080   \n4            15.4          IPS Panel Retina Display 2880x1800   \n5            13.3          IPS Panel Retina Display 2560x1600   \n...           ...                                         ...   \n1288         14.0   IPS Panel Full HD / Touchscreen 1920x1080   \n1289         13.3  IPS Panel Quad HD+ / Touchscreen 3200x1800   \n1290         14.0                                    1366x768   \n1291         15.6                                    1366x768   \n1292         15.6                                    1366x768   \n\n                                            Cpu   Ram               Memory  \\\nlaptop_ID                                                                    \n1                          Intel Core i5 2.3GHz   8GB            128GB SSD   \n2                          Intel Core i5 1.8GHz   8GB  128GB Flash Storage   \n3                    Intel Core i5 7200U 2.5GHz   8GB            256GB SSD   \n4                          Intel Core i7 2.7GHz  16GB            512GB SSD   \n5                          Intel Core i5 3.1GHz   8GB            256GB SSD   \n...                                         ...   ...                  ...   \n1288                 Intel Core i7 6500U 2.5GHz   4GB            128GB SSD   \n1289                 Intel Core i7 6500U 2.5GHz  16GB            512GB SSD   \n1290       Intel Celeron Dual Core N3050 1.6GHz   2GB   64GB Flash Storage   \n1291                 Intel Core i7 6500U 2.5GHz   6GB              1TB HDD   \n1292       Intel Celeron Dual Core N3050 1.6GHz   4GB            500GB HDD   \n\n                                    Gpu       OpSys  Weight    Price  \nlaptop_ID                                                             \n1          Intel Iris Plus Graphics 640       macOS  1.37kg  1442.58  \n2                Intel HD Graphics 6000       macOS  1.34kg   967.98  \n3                 Intel HD Graphics 620       No OS  1.86kg   619.16  \n4                    AMD Radeon Pro 455       macOS  1.83kg  2732.33  \n5          Intel Iris Plus Graphics 650       macOS  1.37kg  1942.12  \n...                                 ...         ...     ...      ...  \n1288              Intel HD Graphics 520  Windows 10   1.8kg   687.00  \n1289              Intel HD Graphics 520  Windows 10   1.3kg  1614.12  \n1290                  Intel HD Graphics  Windows 10   1.5kg   246.59  \n1291                 AMD Radeon R5 M330  Windows 10  2.19kg   822.68  \n1292                  Intel HD Graphics  Windows 10   2.2kg   397.34  \n\n[1275 rows x 12 columns]",
      "text/html": "<div>\n<style scoped>\n    .dataframe tbody tr th:only-of-type {\n        vertical-align: middle;\n    }\n\n    .dataframe tbody tr th {\n        vertical-align: top;\n    }\n\n    .dataframe thead th {\n        text-align: right;\n    }\n</style>\n<table border=\"1\" class=\"dataframe\">\n  <thead>\n    <tr style=\"text-align: right;\">\n      <th></th>\n      <th>Company</th>\n      <th>Product</th>\n      <th>TypeName</th>\n      <th>Inches</th>\n      <th>ScreenResolution</th>\n      <th>Cpu</th>\n      <th>Ram</th>\n      <th>Memory</th>\n      <th>Gpu</th>\n      <th>OpSys</th>\n      <th>Weight</th>\n      <th>Price</th>\n    </tr>\n    <tr>\n      <th>laptop_ID</th>\n      <th></th>\n      <th></th>\n      <th></th>\n      <th></th>\n      <th></th>\n      <th></th>\n      <th></th>\n      <th></th>\n      <th></th>\n      <th></th>\n      <th></th>\n      <th></th>\n    </tr>\n  </thead>\n  <tbody>\n    <tr>\n      <th>1</th>\n      <td>Apple</td>\n      <td>MacBook Pro</td>\n      <td>Ultrabook</td>\n      <td>13.3</td>\n      <td>IPS Panel Retina Display 2560x1600</td>\n      <td>Intel Core i5 2.3GHz</td>\n      <td>8GB</td>\n      <td>128GB SSD</td>\n      <td>Intel Iris Plus Graphics 640</td>\n      <td>macOS</td>\n      <td>1.37kg</td>\n      <td>1442.58</td>\n    </tr>\n    <tr>\n      <th>2</th>\n      <td>Apple</td>\n      <td>Macbook Air</td>\n      <td>Ultrabook</td>\n      <td>13.3</td>\n      <td>1440x900</td>\n      <td>Intel Core i5 1.8GHz</td>\n      <td>8GB</td>\n      <td>128GB Flash Storage</td>\n      <td>Intel HD Graphics 6000</td>\n      <td>macOS</td>\n      <td>1.34kg</td>\n      <td>967.98</td>\n    </tr>\n    <tr>\n      <th>3</th>\n      <td>HP</td>\n      <td>250 G6</td>\n      <td>Notebook</td>\n      <td>15.6</td>\n      <td>Full HD 1920x1080</td>\n      <td>Intel Core i5 7200U 2.5GHz</td>\n      <td>8GB</td>\n      <td>256GB SSD</td>\n      <td>Intel HD Graphics 620</td>\n      <td>No OS</td>\n      <td>1.86kg</td>\n      <td>619.16</td>\n    </tr>\n    <tr>\n      <th>4</th>\n      <td>Apple</td>\n      <td>MacBook Pro</td>\n      <td>Ultrabook</td>\n      <td>15.4</td>\n      <td>IPS Panel Retina Display 2880x1800</td>\n      <td>Intel Core i7 2.7GHz</td>\n      <td>16GB</td>\n      <td>512GB SSD</td>\n      <td>AMD Radeon Pro 455</td>\n      <td>macOS</td>\n      <td>1.83kg</td>\n      <td>2732.33</td>\n    </tr>\n    <tr>\n      <th>5</th>\n      <td>Apple</td>\n      <td>MacBook Pro</td>\n      <td>Ultrabook</td>\n      <td>13.3</td>\n      <td>IPS Panel Retina Display 2560x1600</td>\n      <td>Intel Core i5 3.1GHz</td>\n      <td>8GB</td>\n      <td>256GB SSD</td>\n      <td>Intel Iris Plus Graphics 650</td>\n      <td>macOS</td>\n      <td>1.37kg</td>\n      <td>1942.12</td>\n    </tr>\n    <tr>\n      <th>...</th>\n      <td>...</td>\n      <td>...</td>\n      <td>...</td>\n      <td>...</td>\n      <td>...</td>\n      <td>...</td>\n      <td>...</td>\n      <td>...</td>\n      <td>...</td>\n      <td>...</td>\n      <td>...</td>\n      <td>...</td>\n    </tr>\n    <tr>\n      <th>1288</th>\n      <td>Lenovo</td>\n      <td>Yoga 500-14ISK</td>\n      <td>2 in 1 Convertible</td>\n      <td>14.0</td>\n      <td>IPS Panel Full HD / Touchscreen 1920x1080</td>\n      <td>Intel Core i7 6500U 2.5GHz</td>\n      <td>4GB</td>\n      <td>128GB SSD</td>\n      <td>Intel HD Graphics 520</td>\n      <td>Windows 10</td>\n      <td>1.8kg</td>\n      <td>687.00</td>\n    </tr>\n    <tr>\n      <th>1289</th>\n      <td>Lenovo</td>\n      <td>Yoga 900-13ISK</td>\n      <td>2 in 1 Convertible</td>\n      <td>13.3</td>\n      <td>IPS Panel Quad HD+ / Touchscreen 3200x1800</td>\n      <td>Intel Core i7 6500U 2.5GHz</td>\n      <td>16GB</td>\n      <td>512GB SSD</td>\n      <td>Intel HD Graphics 520</td>\n      <td>Windows 10</td>\n      <td>1.3kg</td>\n      <td>1614.12</td>\n    </tr>\n    <tr>\n      <th>1290</th>\n      <td>Lenovo</td>\n      <td>IdeaPad 100S-14IBR</td>\n      <td>Notebook</td>\n      <td>14.0</td>\n      <td>1366x768</td>\n      <td>Intel Celeron Dual Core N3050 1.6GHz</td>\n      <td>2GB</td>\n      <td>64GB Flash Storage</td>\n      <td>Intel HD Graphics</td>\n      <td>Windows 10</td>\n      <td>1.5kg</td>\n      <td>246.59</td>\n    </tr>\n    <tr>\n      <th>1291</th>\n      <td>HP</td>\n      <td>15-AC110nv (i7-6500U/6GB/1TB/Radeon</td>\n      <td>Notebook</td>\n      <td>15.6</td>\n      <td>1366x768</td>\n      <td>Intel Core i7 6500U 2.5GHz</td>\n      <td>6GB</td>\n      <td>1TB HDD</td>\n      <td>AMD Radeon R5 M330</td>\n      <td>Windows 10</td>\n      <td>2.19kg</td>\n      <td>822.68</td>\n    </tr>\n    <tr>\n      <th>1292</th>\n      <td>Asus</td>\n      <td>X553SA-XX031T (N3050/4GB/500GB/W10)</td>\n      <td>Notebook</td>\n      <td>15.6</td>\n      <td>1366x768</td>\n      <td>Intel Celeron Dual Core N3050 1.6GHz</td>\n      <td>4GB</td>\n      <td>500GB HDD</td>\n      <td>Intel HD Graphics</td>\n      <td>Windows 10</td>\n      <td>2.2kg</td>\n      <td>397.34</td>\n    </tr>\n  </tbody>\n</table>\n<p>1275 rows × 12 columns</p>\n</div>"
     },
     "execution_count": 73,
     "metadata": {},
     "output_type": "execute_result"
    }
   ],
   "source": [
    "# convert currency into USD\n",
    "currency_rates = CurrencyRates()\n",
    "convert_rate=currency_rates.convert(base_cur='EUR',dest_cur='USD',amount=1)\n",
    "\n",
    "df['Price_euros'] = df['Price_euros'].apply(lambda x:round(x*convert_rate,2))\n",
    "df.rename(columns={'Price_euros': 'Price'},inplace=True)\n",
    "df"
   ],
   "metadata": {
    "collapsed": false,
    "ExecuteTime": {
     "end_time": "2024-04-04T17:04:33.465186Z",
     "start_time": "2024-04-04T17:04:32.597315300Z"
    }
   }
  },
  {
   "cell_type": "code",
   "execution_count": 74,
   "metadata": {
    "ExecuteTime": {
     "end_time": "2024-04-04T17:04:33.509413400Z",
     "start_time": "2024-04-04T17:04:33.457126700Z"
    }
   },
   "outputs": [
    {
     "data": {
      "text/plain": "          Company                              Product            TypeName  \\\nlaptop_ID                                                                    \n1           Apple                          MacBook Pro           Ultrabook   \n2           Apple                          Macbook Air           Ultrabook   \n3              HP                               250 G6            Notebook   \n4           Apple                          MacBook Pro           Ultrabook   \n5           Apple                          MacBook Pro           Ultrabook   \n...           ...                                  ...                 ...   \n1288       Lenovo                       Yoga 500-14ISK  2 in 1 Convertible   \n1289       Lenovo                       Yoga 900-13ISK  2 in 1 Convertible   \n1290       Lenovo                   IdeaPad 100S-14IBR            Notebook   \n1291           HP  15-AC110nv (i7-6500U/6GB/1TB/Radeon            Notebook   \n1292         Asus  X553SA-XX031T (N3050/4GB/500GB/W10)            Notebook   \n\n           Inches                            ScreenResolution  \\\nlaptop_ID                                                       \n1            13.3          IPS Panel Retina Display 2560x1600   \n2            13.3                                    1440x900   \n3            15.6                           Full HD 1920x1080   \n4            15.4          IPS Panel Retina Display 2880x1800   \n5            13.3          IPS Panel Retina Display 2560x1600   \n...           ...                                         ...   \n1288         14.0   IPS Panel Full HD / Touchscreen 1920x1080   \n1289         13.3  IPS Panel Quad HD+ / Touchscreen 3200x1800   \n1290         14.0                                    1366x768   \n1291         15.6                                    1366x768   \n1292         15.6                                    1366x768   \n\n                                            Cpu   Ram               Memory  \\\nlaptop_ID                                                                    \n1                          Intel Core i5 2.3GHz   8GB            128GB SSD   \n2                          Intel Core i5 1.8GHz   8GB  128GB Flash Storage   \n3                    Intel Core i5 7200U 2.5GHz   8GB            256GB SSD   \n4                          Intel Core i7 2.7GHz  16GB            512GB SSD   \n5                          Intel Core i5 3.1GHz   8GB            256GB SSD   \n...                                         ...   ...                  ...   \n1288                 Intel Core i7 6500U 2.5GHz   4GB            128GB SSD   \n1289                 Intel Core i7 6500U 2.5GHz  16GB            512GB SSD   \n1290       Intel Celeron Dual Core N3050 1.6GHz   2GB   64GB Flash Storage   \n1291                 Intel Core i7 6500U 2.5GHz   6GB              1TB HDD   \n1292       Intel Celeron Dual Core N3050 1.6GHz   4GB            500GB HDD   \n\n                                    Gpu       OpSys  Weight    Price  \nlaptop_ID                                                             \n1          Intel Iris Plus Graphics 640       macOS  1.37kg  1442.58  \n2                Intel HD Graphics 6000       macOS  1.34kg   967.98  \n3                 Intel HD Graphics 620       No OS  1.86kg   619.16  \n4                    AMD Radeon Pro 455       macOS  1.83kg  2732.33  \n5          Intel Iris Plus Graphics 650       macOS  1.37kg  1942.12  \n...                                 ...         ...     ...      ...  \n1288              Intel HD Graphics 520  Windows 10   1.8kg   687.00  \n1289              Intel HD Graphics 520  Windows 10   1.3kg  1614.12  \n1290                  Intel HD Graphics  Windows 10   1.5kg   246.59  \n1291                 AMD Radeon R5 M330  Windows 10  2.19kg   822.68  \n1292                  Intel HD Graphics  Windows 10   2.2kg   397.34  \n\n[1275 rows x 12 columns]",
      "text/html": "<div>\n<style scoped>\n    .dataframe tbody tr th:only-of-type {\n        vertical-align: middle;\n    }\n\n    .dataframe tbody tr th {\n        vertical-align: top;\n    }\n\n    .dataframe thead th {\n        text-align: right;\n    }\n</style>\n<table border=\"1\" class=\"dataframe\">\n  <thead>\n    <tr style=\"text-align: right;\">\n      <th></th>\n      <th>Company</th>\n      <th>Product</th>\n      <th>TypeName</th>\n      <th>Inches</th>\n      <th>ScreenResolution</th>\n      <th>Cpu</th>\n      <th>Ram</th>\n      <th>Memory</th>\n      <th>Gpu</th>\n      <th>OpSys</th>\n      <th>Weight</th>\n      <th>Price</th>\n    </tr>\n    <tr>\n      <th>laptop_ID</th>\n      <th></th>\n      <th></th>\n      <th></th>\n      <th></th>\n      <th></th>\n      <th></th>\n      <th></th>\n      <th></th>\n      <th></th>\n      <th></th>\n      <th></th>\n      <th></th>\n    </tr>\n  </thead>\n  <tbody>\n    <tr>\n      <th>1</th>\n      <td>Apple</td>\n      <td>MacBook Pro</td>\n      <td>Ultrabook</td>\n      <td>13.3</td>\n      <td>IPS Panel Retina Display 2560x1600</td>\n      <td>Intel Core i5 2.3GHz</td>\n      <td>8GB</td>\n      <td>128GB SSD</td>\n      <td>Intel Iris Plus Graphics 640</td>\n      <td>macOS</td>\n      <td>1.37kg</td>\n      <td>1442.58</td>\n    </tr>\n    <tr>\n      <th>2</th>\n      <td>Apple</td>\n      <td>Macbook Air</td>\n      <td>Ultrabook</td>\n      <td>13.3</td>\n      <td>1440x900</td>\n      <td>Intel Core i5 1.8GHz</td>\n      <td>8GB</td>\n      <td>128GB Flash Storage</td>\n      <td>Intel HD Graphics 6000</td>\n      <td>macOS</td>\n      <td>1.34kg</td>\n      <td>967.98</td>\n    </tr>\n    <tr>\n      <th>3</th>\n      <td>HP</td>\n      <td>250 G6</td>\n      <td>Notebook</td>\n      <td>15.6</td>\n      <td>Full HD 1920x1080</td>\n      <td>Intel Core i5 7200U 2.5GHz</td>\n      <td>8GB</td>\n      <td>256GB SSD</td>\n      <td>Intel HD Graphics 620</td>\n      <td>No OS</td>\n      <td>1.86kg</td>\n      <td>619.16</td>\n    </tr>\n    <tr>\n      <th>4</th>\n      <td>Apple</td>\n      <td>MacBook Pro</td>\n      <td>Ultrabook</td>\n      <td>15.4</td>\n      <td>IPS Panel Retina Display 2880x1800</td>\n      <td>Intel Core i7 2.7GHz</td>\n      <td>16GB</td>\n      <td>512GB SSD</td>\n      <td>AMD Radeon Pro 455</td>\n      <td>macOS</td>\n      <td>1.83kg</td>\n      <td>2732.33</td>\n    </tr>\n    <tr>\n      <th>5</th>\n      <td>Apple</td>\n      <td>MacBook Pro</td>\n      <td>Ultrabook</td>\n      <td>13.3</td>\n      <td>IPS Panel Retina Display 2560x1600</td>\n      <td>Intel Core i5 3.1GHz</td>\n      <td>8GB</td>\n      <td>256GB SSD</td>\n      <td>Intel Iris Plus Graphics 650</td>\n      <td>macOS</td>\n      <td>1.37kg</td>\n      <td>1942.12</td>\n    </tr>\n    <tr>\n      <th>...</th>\n      <td>...</td>\n      <td>...</td>\n      <td>...</td>\n      <td>...</td>\n      <td>...</td>\n      <td>...</td>\n      <td>...</td>\n      <td>...</td>\n      <td>...</td>\n      <td>...</td>\n      <td>...</td>\n      <td>...</td>\n    </tr>\n    <tr>\n      <th>1288</th>\n      <td>Lenovo</td>\n      <td>Yoga 500-14ISK</td>\n      <td>2 in 1 Convertible</td>\n      <td>14.0</td>\n      <td>IPS Panel Full HD / Touchscreen 1920x1080</td>\n      <td>Intel Core i7 6500U 2.5GHz</td>\n      <td>4GB</td>\n      <td>128GB SSD</td>\n      <td>Intel HD Graphics 520</td>\n      <td>Windows 10</td>\n      <td>1.8kg</td>\n      <td>687.00</td>\n    </tr>\n    <tr>\n      <th>1289</th>\n      <td>Lenovo</td>\n      <td>Yoga 900-13ISK</td>\n      <td>2 in 1 Convertible</td>\n      <td>13.3</td>\n      <td>IPS Panel Quad HD+ / Touchscreen 3200x1800</td>\n      <td>Intel Core i7 6500U 2.5GHz</td>\n      <td>16GB</td>\n      <td>512GB SSD</td>\n      <td>Intel HD Graphics 520</td>\n      <td>Windows 10</td>\n      <td>1.3kg</td>\n      <td>1614.12</td>\n    </tr>\n    <tr>\n      <th>1290</th>\n      <td>Lenovo</td>\n      <td>IdeaPad 100S-14IBR</td>\n      <td>Notebook</td>\n      <td>14.0</td>\n      <td>1366x768</td>\n      <td>Intel Celeron Dual Core N3050 1.6GHz</td>\n      <td>2GB</td>\n      <td>64GB Flash Storage</td>\n      <td>Intel HD Graphics</td>\n      <td>Windows 10</td>\n      <td>1.5kg</td>\n      <td>246.59</td>\n    </tr>\n    <tr>\n      <th>1291</th>\n      <td>HP</td>\n      <td>15-AC110nv (i7-6500U/6GB/1TB/Radeon</td>\n      <td>Notebook</td>\n      <td>15.6</td>\n      <td>1366x768</td>\n      <td>Intel Core i7 6500U 2.5GHz</td>\n      <td>6GB</td>\n      <td>1TB HDD</td>\n      <td>AMD Radeon R5 M330</td>\n      <td>Windows 10</td>\n      <td>2.19kg</td>\n      <td>822.68</td>\n    </tr>\n    <tr>\n      <th>1292</th>\n      <td>Asus</td>\n      <td>X553SA-XX031T (N3050/4GB/500GB/W10)</td>\n      <td>Notebook</td>\n      <td>15.6</td>\n      <td>1366x768</td>\n      <td>Intel Celeron Dual Core N3050 1.6GHz</td>\n      <td>4GB</td>\n      <td>500GB HDD</td>\n      <td>Intel HD Graphics</td>\n      <td>Windows 10</td>\n      <td>2.2kg</td>\n      <td>397.34</td>\n    </tr>\n  </tbody>\n</table>\n<p>1275 rows × 12 columns</p>\n</div>"
     },
     "execution_count": 74,
     "metadata": {},
     "output_type": "execute_result"
    }
   ],
   "source": [
    "# Remove rows with empty cells\n",
    "df = df.dropna()\n",
    "df"
   ]
  },
  {
   "cell_type": "code",
   "execution_count": 75,
   "outputs": [],
   "source": [
    "df['Ram'] = df['Ram'].str.replace('GB', '').astype(int)"
   ],
   "metadata": {
    "collapsed": false,
    "ExecuteTime": {
     "end_time": "2024-04-04T17:04:33.510340700Z",
     "start_time": "2024-04-04T17:04:33.478654500Z"
    }
   }
  },
  {
   "cell_type": "code",
   "execution_count": 76,
   "metadata": {
    "ExecuteTime": {
     "end_time": "2024-04-04T17:04:33.572630500Z",
     "start_time": "2024-04-04T17:04:33.487012700Z"
    }
   },
   "outputs": [],
   "source": [
    "# save DataFrame back to the laptop specifications csv file\n",
    "df.to_csv(\"laptops_cleaned.csv\")"
   ]
  }
 ],
 "metadata": {
  "kernelspec": {
   "display_name": "Python 3",
   "language": "python",
   "name": "python3"
  },
  "language_info": {
   "codemirror_mode": {
    "name": "ipython",
    "version": 3
   },
   "file_extension": ".py",
   "mimetype": "text/x-python",
   "name": "python",
   "nbconvert_exporter": "python",
   "pygments_lexer": "ipython3",
   "version": "3.12.0"
  }
 },
 "nbformat": 4,
 "nbformat_minor": 2
}
