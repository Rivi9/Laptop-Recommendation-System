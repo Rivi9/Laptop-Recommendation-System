{
 "nbformat": 4,
 "nbformat_minor": 0,
 "metadata": {
  "colab": {
   "provenance": []
  },
  "kernelspec": {
   "name": "python3",
   "language": "python",
   "display_name": "Python 3 (ipykernel)"
  },
  "language_info": {
   "name": "python"
  }
 },
 "cells": [
  {
   "cell_type": "markdown",
   "source": [
    "#### Install necessary libraries"
   ],
   "metadata": {
    "id": "4pGnLqbLV25Z"
   }
  },
  {
   "cell_type": "code",
   "execution_count": 1,
   "metadata": {
    "id": "C0OB_OuGove9",
    "colab": {
     "base_uri": "https://localhost:8080/"
    },
    "outputId": "0b7e81a4-c49f-4bd2-abae-e4d42f8a1cbb",
    "ExecuteTime": {
     "end_time": "2024-04-07T20:09:44.221812Z",
     "start_time": "2024-04-07T20:09:38.837056Z"
    }
   },
   "outputs": [
    {
     "name": "stdout",
     "output_type": "stream",
     "text": [
      "^C\n",
      "Note: you may need to restart the kernel to use updated packages.\n"
     ]
    }
   ],
   "source": [
    "pip install fasttext"
   ]
  },
  {
   "cell_type": "markdown",
   "source": [
    "#### Import necessary libraries"
   ],
   "metadata": {
    "id": "qBCYErdOV7M7"
   }
  },
  {
   "cell_type": "code",
   "source": [
    "import re\n",
    "import nltk\n",
    "import fasttext\n",
    "import numpy as np\n",
    "import pandas as pd\n",
    "import seaborn as sns\n",
    "import matplotlib.pyplot as plt\n",
    "from nltk.corpus import stopwords\n",
    "from nltk.stem import PorterStemmer\n",
    "from nltk.tokenize import word_tokenize\n",
    "from sklearn.model_selection import train_test_split\n",
    "from sklearn.metrics import confusion_matrix, classification_report"
   ],
   "metadata": {
    "id": "JXsegQBBRVfV",
    "ExecuteTime": {
     "end_time": "2024-04-07T20:09:55.541985Z",
     "start_time": "2024-04-07T20:09:55.537079Z"
    }
   },
   "execution_count": 5,
   "outputs": []
  },
  {
   "cell_type": "markdown",
   "source": [
    "#### Download necessary NLTK data"
   ],
   "metadata": {
    "id": "5lmG-m0QWD15"
   }
  },
  {
   "cell_type": "code",
   "source": [
    "nltk.download('punkt')\n",
    "nltk.download('stopwords')"
   ],
   "metadata": {
    "colab": {
     "base_uri": "https://localhost:8080/"
    },
    "id": "oFFYmYUNWHi2",
    "outputId": "881f1d8a-ffdf-41c3-f3d2-96cd4f77b101",
    "ExecuteTime": {
     "end_time": "2024-04-07T20:10:55.626346Z",
     "start_time": "2024-04-07T20:10:55.616366Z"
    }
   },
   "execution_count": 15,
   "outputs": [
    {
     "name": "stderr",
     "output_type": "stream",
     "text": [
      "[nltk_data] Downloading package punkt to\n",
      "[nltk_data]     C:\\Users\\DELL\\AppData\\Roaming\\nltk_data...\n",
      "[nltk_data]   Package punkt is already up-to-date!\n",
      "[nltk_data] Downloading package stopwords to\n",
      "[nltk_data]     C:\\Users\\DELL\\AppData\\Roaming\\nltk_data...\n",
      "[nltk_data]   Package stopwords is already up-to-date!\n"
     ]
    },
    {
     "data": {
      "text/plain": "True"
     },
     "execution_count": 15,
     "metadata": {},
     "output_type": "execute_result"
    }
   ]
  },
  {
   "cell_type": "markdown",
   "source": [
    "#### Load the dataset"
   ],
   "metadata": {
    "id": "rXI-UAGlWSQa"
   }
  },
  {
   "cell_type": "code",
   "source": [
    "# Load the text classsification dataset\n",
    "df = pd.read_csv(\"Sentences - Sheet1 (3).csv\",names = [\"inputs\", \"category\"], header=None)\n",
    "print(df.shape)\n",
    "df.head(6)"
   ],
   "metadata": {
    "colab": {
     "base_uri": "https://localhost:8080/",
     "height": 255
    },
    "id": "HdJWn3CARhuM",
    "outputId": "49c3d47f-fc57-4a59-d542-41ca2a048151",
    "ExecuteTime": {
     "end_time": "2024-04-07T20:10:55.851321Z",
     "start_time": "2024-04-07T20:10:55.808183Z"
    }
   },
   "execution_count": 16,
   "outputs": [
    {
     "name": "stdout",
     "output_type": "stream",
     "text": [
      "(989, 2)\n"
     ]
    },
    {
     "data": {
      "text/plain": "                     inputs category\n0            Travel Blogger    Basic\n1             Food Blogging    Basic\n2  digital content designer    Basic\n3            content writer    Basic\n4              food blogger    Basic\n5    social media assistant    Basic",
      "text/html": "<div>\n<style scoped>\n    .dataframe tbody tr th:only-of-type {\n        vertical-align: middle;\n    }\n\n    .dataframe tbody tr th {\n        vertical-align: top;\n    }\n\n    .dataframe thead th {\n        text-align: right;\n    }\n</style>\n<table border=\"1\" class=\"dataframe\">\n  <thead>\n    <tr style=\"text-align: right;\">\n      <th></th>\n      <th>inputs</th>\n      <th>category</th>\n    </tr>\n  </thead>\n  <tbody>\n    <tr>\n      <th>0</th>\n      <td>Travel Blogger</td>\n      <td>Basic</td>\n    </tr>\n    <tr>\n      <th>1</th>\n      <td>Food Blogging</td>\n      <td>Basic</td>\n    </tr>\n    <tr>\n      <th>2</th>\n      <td>digital content designer</td>\n      <td>Basic</td>\n    </tr>\n    <tr>\n      <th>3</th>\n      <td>content writer</td>\n      <td>Basic</td>\n    </tr>\n    <tr>\n      <th>4</th>\n      <td>food blogger</td>\n      <td>Basic</td>\n    </tr>\n    <tr>\n      <th>5</th>\n      <td>social media assistant</td>\n      <td>Basic</td>\n    </tr>\n  </tbody>\n</table>\n</div>"
     },
     "execution_count": 16,
     "metadata": {},
     "output_type": "execute_result"
    }
   ]
  },
  {
   "cell_type": "markdown",
   "source": [
    "#### Exploring the dataset"
   ],
   "metadata": {
    "id": "wGmqaglnxcg1"
   }
  },
  {
   "cell_type": "code",
   "source": [
    "# Basic information about the dataset\n",
    "print(df.info())"
   ],
   "metadata": {
    "colab": {
     "base_uri": "https://localhost:8080/"
    },
    "id": "TgdtrVJNxbeb",
    "outputId": "d58ec56e-2cf0-4ba5-afcd-679244189f1b",
    "ExecuteTime": {
     "end_time": "2024-04-07T20:10:55.909294Z",
     "start_time": "2024-04-07T20:10:55.868059Z"
    }
   },
   "execution_count": 17,
   "outputs": [
    {
     "name": "stdout",
     "output_type": "stream",
     "text": [
      "<class 'pandas.core.frame.DataFrame'>\n",
      "RangeIndex: 989 entries, 0 to 988\n",
      "Data columns (total 2 columns):\n",
      " #   Column    Non-Null Count  Dtype \n",
      "---  ------    --------------  ----- \n",
      " 0   inputs    989 non-null    object\n",
      " 1   category  988 non-null    object\n",
      "dtypes: object(2)\n",
      "memory usage: 15.6+ KB\n",
      "None\n"
     ]
    }
   ]
  },
  {
   "cell_type": "code",
   "source": [
    "# Identify the unique categories\n",
    "df.category.unique()"
   ],
   "metadata": {
    "id": "r3Dn1NibStmN",
    "colab": {
     "base_uri": "https://localhost:8080/"
    },
    "outputId": "26a4c8f7-8e80-409e-afb5-494662c35b66",
    "ExecuteTime": {
     "end_time": "2024-04-07T20:10:56.042724Z",
     "start_time": "2024-04-07T20:10:56.031675Z"
    }
   },
   "execution_count": 18,
   "outputs": [
    {
     "data": {
      "text/plain": "array(['Basic', nan, 'IT', 'Gaming', 'Creative_Design',\n       'Business_Professional', 'Student_Education'], dtype=object)"
     },
     "execution_count": 18,
     "metadata": {},
     "output_type": "execute_result"
    }
   ]
  },
  {
   "cell_type": "code",
   "source": [
    "# Number of records belonging to each category\n",
    "category_counts = df[\"category\"].value_counts()\n",
    "print(category_counts)"
   ],
   "metadata": {
    "id": "xlj683h0S1nr",
    "colab": {
     "base_uri": "https://localhost:8080/"
    },
    "outputId": "e09109a8-7b68-4432-9445-f92e6906715d",
    "ExecuteTime": {
     "end_time": "2024-04-07T20:10:56.212184Z",
     "start_time": "2024-04-07T20:10:56.198392Z"
    }
   },
   "execution_count": 19,
   "outputs": [
    {
     "name": "stdout",
     "output_type": "stream",
     "text": [
      "category\n",
      "IT                       194\n",
      "Gaming                   159\n",
      "Creative_Design          159\n",
      "Business_Professional    159\n",
      "Student_Education        159\n",
      "Basic                    158\n",
      "Name: count, dtype: int64\n"
     ]
    }
   ]
  },
  {
   "cell_type": "code",
   "source": [
    "# Drop NA values\n",
    "df.dropna(inplace=True)"
   ],
   "metadata": {
    "id": "BoZzWFeJSnzm",
    "ExecuteTime": {
     "end_time": "2024-04-07T20:10:56.721250Z",
     "start_time": "2024-04-07T20:10:56.710119Z"
    }
   },
   "execution_count": 20,
   "outputs": []
  },
  {
   "cell_type": "code",
   "source": [
    "# Plotting the distribution of categories\n",
    "plt.figure(figsize=(8,5))\n",
    "sns.countplot(y='category', data=df)\n",
    "plt.title('Laptop Category Distribution')\n",
    "plt.xlabel('Count')\n",
    "plt.ylabel('Category')\n",
    "plt.show()"
   ],
   "metadata": {
    "colab": {
     "base_uri": "https://localhost:8080/",
     "height": 487
    },
    "id": "DJvRfWQMyAmH",
    "outputId": "20c523c9-38d1-46e8-fc46-d205f3a1de81",
    "ExecuteTime": {
     "end_time": "2024-04-07T20:10:58.037367Z",
     "start_time": "2024-04-07T20:10:57.358135Z"
    }
   },
   "execution_count": 21,
   "outputs": [
    {
     "data": {
      "text/plain": "<Figure size 800x500 with 1 Axes>",
      "image/png": "[encoded data removed]"
     },
     "metadata": {},
     "output_type": "display_data"
    }
   ]
  },
  {
   "cell_type": "markdown",
   "source": [
    "#### Preprocess the text data\n",
    "\n",
    "*   Removing punctuation\n",
    "*   Convert to lowercase\n",
    "*   Remove extra spaces\n",
    "*   Tokenize\n",
    "*   Remove stopwords\n",
    "*   Perform stemming"
   ],
   "metadata": {
    "id": "bFCWS8y1Xq73"
   }
  },
  {
   "cell_type": "code",
   "source": [
    "# Combine label and inputsth a preprocessing step\n",
    "df['category'] = '__label__' + df['category'].astype(str)\n",
    "\n",
    "stop_words = set(stopwords.words('english'))\n",
    "# Add necessary stopwords\n",
    "custom_stopwords = ['tasks', 'task', 'masters, master, bachelor, bachelors',  'advanced']\n",
    "\n",
    "# Extend the stopwords set with custom stopwords\n",
    "stop_words.update(custom_stopwords)\n",
    "\n",
    "def preprocess_with_stemming(text):\n",
    "    # Remove punctuation and make lowercase\n",
    "    text = re.sub(r'[^\\w\\s]', '', text).lower()\n",
    "    # Remove extra spaces\n",
    "    text = re.sub(' +', ' ', text)\n",
    "    # Tokenization\n",
    "    word_tokens = word_tokenize(text)\n",
    "    filtered_text = [word for word in word_tokens if word not in stop_words]\n",
    "    # Stemming\n",
    "    stemmer = PorterStemmer()\n",
    "    # Stemming and join the words back into a string\n",
    "    stemmed_words = [stemmer.stem(word) for word in word_tokens]\n",
    "    return ' '.join(stemmed_words)\n",
    "\n",
    "df['sentence_description'] = df['category'] + ' ' + df['inputs'].map(preprocess_with_stemming)"
   ],
   "metadata": {
    "id": "n4CAZpvsS5Eo",
    "ExecuteTime": {
     "end_time": "2024-04-07T20:10:58.225686Z",
     "start_time": "2024-04-07T20:10:58.041386Z"
    }
   },
   "execution_count": 22,
   "outputs": []
  },
  {
   "cell_type": "markdown",
   "source": [
    "#### Split data for training and testing - 20%"
   ],
   "metadata": {
    "id": "AOecI4bkYO5P"
   }
  },
  {
   "cell_type": "code",
   "source": [
    "# Split data for training and testing\n",
    "train, test = train_test_split(df, test_size=0.2, random_state=40)\n",
    "\n",
    "# Save training and testing data to files\n",
    "train.to_csv(\"laptop.train\", columns=[\"sentence_description\"], index=False, header=False)\n",
    "test.to_csv(\"laptop.test\", columns=[\"sentence_description\"], index=False, header=False)"
   ],
   "metadata": {
    "id": "yW0DtawDTjp3",
    "ExecuteTime": {
     "end_time": "2024-04-07T20:10:58.277681Z",
     "start_time": "2024-04-07T20:10:58.226694Z"
    }
   },
   "execution_count": 23,
   "outputs": []
  },
  {
   "cell_type": "markdown",
   "source": [
    "#### Train the FastText model"
   ],
   "metadata": {
    "id": "VuqZyWPGYdC0"
   }
  },
  {
   "cell_type": "code",
   "source": [
    "# Train the FastText model\n",
    "model = fasttext.train_supervised(input=\"laptop.train\", lr=0.5, epoch=25, wordNgrams=2, minCount=1)"
   ],
   "metadata": {
    "id": "SPf_ceKgTniN",
    "ExecuteTime": {
     "end_time": "2024-04-07T20:11:00.418299Z",
     "start_time": "2024-04-07T20:10:58.281692Z"
    }
   },
   "execution_count": 24,
   "outputs": []
  },
  {
   "cell_type": "markdown",
   "source": [
    "#### Evaluate model performance"
   ],
   "metadata": {
    "id": "nQ3F0EiUYolM"
   }
  },
  {
   "cell_type": "code",
   "source": [
    "# Evaluate and print model performance\n",
    "print(model.test(\"laptop.test\"))"
   ],
   "metadata": {
    "id": "MWEszahgTq_8",
    "colab": {
     "base_uri": "https://localhost:8080/"
    },
    "outputId": "8b631edd-4a80-4a6f-f181-afaa046fe0ee",
    "ExecuteTime": {
     "end_time": "2024-04-07T20:11:00.428329Z",
     "start_time": "2024-04-07T20:11:00.420307Z"
    }
   },
   "execution_count": 25,
   "outputs": [
    {
     "name": "stdout",
     "output_type": "stream",
     "text": [
      "(198, 0.8282828282828283, 0.8282828282828283)\n"
     ]
    }
   ]
  },
  {
   "cell_type": "markdown",
   "source": [
    "#### Confusion matrix and Classification report"
   ],
   "metadata": {
    "id": "hskUUDBHY6wj"
   }
  },
  {
   "cell_type": "code",
   "source": [
    "# Load the test data\n",
    "test_df = pd.read_csv(\"laptop.test\", names=[\"sentence_description\"])\n",
    "\n",
    "# Separate the labels and inputs\n",
    "# test_df[['true_labels', 'inputs']] = test_df['sentence_description'].str.split(' ', 1, expand=True)\n",
    "# Separate the labels and inputs with correct parameters\n",
    "test_df[['true_labels', 'inputs']] = test_df['sentence_description'].str.split(' ', n=1, expand=True)\n",
    "\n",
    "# Preprocess the inputs in the test set\n",
    "test_df['processed_inputs'] = test_df['inputs'].apply(lambda x: preprocess_with_stemming(x))\n",
    "\n",
    "# Predict labels for the test set inputs\n",
    "predictions = test_df['processed_inputs'].apply(lambda sentence: model.predict(sentence)[0][0])\n",
    "\n",
    "# Since predictions are returned as tuples, extract the first element which is the predicted label\n",
    "test_df['predicted_labels'] = predictions\n",
    "\n",
    "# Extract the labels (removing the '__label__' prefix for comparison and reporting)\n",
    "test_df['true_labels'] = test_df['true_labels'].str.replace('__label__', '')\n",
    "test_df['predicted_labels'] = test_df['predicted_labels'].str.replace('__label__', '')\n",
    "\n",
    "# Generate and print the confusion matrix\n",
    "labels = np.unique(test_df['true_labels'])\n",
    "conf_matrix = confusion_matrix(test_df['true_labels'], test_df['predicted_labels'], labels=labels)\n",
    "print(\"Confusion Matrix:\")\n",
    "print(conf_matrix)\n",
    "\n",
    "# Generate and print the classification report\n",
    "print(\"\\nClassification Report:\")\n",
    "print(classification_report(test_df['true_labels'], test_df['predicted_labels'], labels=labels))\n",
    "\n",
    "# Plot confusion matrix\n",
    "plt.figure(figsize=(10, 7))\n",
    "sns.heatmap(conf_matrix, annot=True, fmt='g', cmap='Blues', xticklabels=labels, yticklabels=labels)\n",
    "plt.xlabel('Predicted labels')\n",
    "plt.ylabel('True labels')\n",
    "plt.title('Confusion Matrix')\n",
    "plt.show()"
   ],
   "metadata": {
    "id": "Dg2qbiD2Uh-Z",
    "colab": {
     "base_uri": "https://localhost:8080/",
     "height": 1000
    },
    "outputId": "7fbcda47-73ac-45e3-9aed-f57a327f77fb",
    "ExecuteTime": {
     "end_time": "2024-04-07T20:11:01.224918Z",
     "start_time": "2024-04-07T20:11:00.438007Z"
    }
   },
   "execution_count": 26,
   "outputs": [
    {
     "name": "stdout",
     "output_type": "stream",
     "text": [
      "Confusion Matrix:\n",
      "[[32  1  0  0  0  0]\n",
      " [ 3 23  0  0  1  1]\n",
      " [ 4  1 26  0  4  1]\n",
      " [ 0  1  1 21  1  1]\n",
      " [ 0  2  0  0 30  1]\n",
      " [ 3  3  0  1  4 32]]\n",
      "\n",
      "Classification Report:\n",
      "                       precision    recall  f1-score   support\n",
      "\n",
      "                Basic       0.76      0.97      0.85        33\n",
      "Business_Professional       0.74      0.82      0.78        28\n",
      "      Creative_Design       0.96      0.72      0.83        36\n",
      "               Gaming       0.95      0.84      0.89        25\n",
      "                   IT       0.75      0.91      0.82        33\n",
      "    Student_Education       0.89      0.74      0.81        43\n",
      "\n",
      "             accuracy                           0.83       198\n",
      "            macro avg       0.84      0.83      0.83       198\n",
      "         weighted avg       0.85      0.83      0.83       198\n"
     ]
    },
    {
     "data": {
      "text/plain": "<Figure size 1000x700 with 2 Axes>",
      "image/png": "[encoded data removed]"
     },
     "metadata": {},
     "output_type": "display_data"
    }
   ]
  },
  {
   "cell_type": "markdown",
   "source": [
    "#### Test with custom inputs"
   ],
   "metadata": {
    "id": "9CIXBo8odewx"
   }
  },
  {
   "cell_type": "code",
   "source": [
    "# function for preprocessing individual inputs\n",
    "def preprocess_input(input):\n",
    "    # Preprocess the input\n",
    "    preprocessed_title = preprocess_with_stemming(input)  # Use the same preprocessing function used for training\n",
    "    return preprocessed_title\n",
    "\n",
    "sentences_to_test = [\n",
    "    \"I am a digital artist looking for a laptop that can handle heavy graphic design software.\",\n",
    "    \"As a student studying computer science, I need a laptop with great battery life for coding sessions.\",\n",
    "    \"I love playing the latest PC games, so I'm searching for a laptop with a high-performance GPU.\",\n",
    "    \"Being a freelance writer, I need a lightweight and portable laptop with a comfortable keyboard.\",\n",
    "    \"As an engineering student, I require a laptop that can run CAD software smoothly.\",\n",
    "    \"I'm a business analyst often working with large datasets, so I need a laptop with plenty of RAM and a fast processor.\",\n",
    "    \"As a video editor, I'm in need of a laptop with a high-resolution display and powerful graphics capabilities.\",\n",
    "    \"I teach online courses and need a laptop with a high-quality webcam and microphone for lectures.\",\n",
    "    \"As a travel blogger, I'm looking for a durable laptop that can handle being on the road.\",\n",
    "    \"I am an AI researcher requiring a laptop with advanced computing power for machine learning tasks.\",\n",
    "    \"for coding activities\"\n",
    "]\n",
    "\n",
    "# Predict categories for the inputs\n",
    "for sentence in sentences_to_test:\n",
    "    preprocessed_sentence = preprocess_input(sentence)\n",
    "    prediction = model.predict(preprocessed_sentence)\n",
    "    print(f\"Text: '{sentence}', Predicted Category: {prediction[0][0].replace('__label__', '')}\")"
   ],
   "metadata": {
    "id": "KcCHaRlsUlC9",
    "colab": {
     "base_uri": "https://localhost:8080/"
    },
    "outputId": "6fa2d95c-6be2-435a-a2b2-83fc1308f26b",
    "ExecuteTime": {
     "end_time": "2024-04-07T20:11:01.246279Z",
     "start_time": "2024-04-07T20:11:01.231960Z"
    }
   },
   "execution_count": 27,
   "outputs": [
    {
     "name": "stdout",
     "output_type": "stream",
     "text": [
      "Text: 'I am a digital artist looking for a laptop that can handle heavy graphic design software.', Predicted Category: Creative_Design\n",
      "Text: 'As a student studying computer science, I need a laptop with great battery life for coding sessions.', Predicted Category: Student_Education\n",
      "Text: 'I love playing the latest PC games, so I'm searching for a laptop with a high-performance GPU.', Predicted Category: Gaming\n",
      "Text: 'Being a freelance writer, I need a lightweight and portable laptop with a comfortable keyboard.', Predicted Category: Basic\n",
      "Text: 'As an engineering student, I require a laptop that can run CAD software smoothly.', Predicted Category: Gaming\n",
      "Text: 'I'm a business analyst often working with large datasets, so I need a laptop with plenty of RAM and a fast processor.', Predicted Category: Gaming\n",
      "Text: 'As a video editor, I'm in need of a laptop with a high-resolution display and powerful graphics capabilities.', Predicted Category: Creative_Design\n",
      "Text: 'I teach online courses and need a laptop with a high-quality webcam and microphone for lectures.', Predicted Category: Student_Education\n",
      "Text: 'As a travel blogger, I'm looking for a durable laptop that can handle being on the road.', Predicted Category: Basic\n",
      "Text: 'I am an AI researcher requiring a laptop with advanced computing power for machine learning tasks.', Predicted Category: IT\n",
      "Text: 'for coding activities', Predicted Category: IT\n"
     ]
    }
   ]
  },
  {
   "cell_type": "code",
   "source": [
    "# List of inputs to test\n",
    "inputs_to_test = [\"Software Engineer\", \"Graphic Designer\", \"Marketing lead\",\n",
    "                      \"ml lecturer\", \"computer science\", \"event planner\",\n",
    "                      \"primary educator\", \"UX/UI designer\", \"accounts assistant\",\n",
    "                      \"project lead\", \"intern finance analyst\", 'gamer',\n",
    "                   'I play flight simulator and go to school',\n",
    "                  'Tutoring students in advanced mathematics',\n",
    "                  'I need a laptop compatible for both software engineering and gaming',\n",
    "                  \"i need a laptop for spanish lessons and graphic designing\",\n",
    "                  \"i need a portable laptop\",\n",
    "                  \"computer science student\",\n",
    "                  \"for an undergraduate\",\n",
    "                  \"for university\",\n",
    "                  \"data science undergraduate and gamer\"\n",
    "                  ]\n",
    "\n",
    "\n",
    "# Predict categories for the inputs\n",
    "for sentence in inputs_to_test:\n",
    "    preprocessed_sentence = preprocess_input(sentence)\n",
    "    prediction = model.predict(preprocessed_sentence)\n",
    "    print(f\"Text: '{sentence}', Predicted Category: {prediction[0][0].replace('__label__', '')}\")"
   ],
   "metadata": {
    "colab": {
     "base_uri": "https://localhost:8080/"
    },
    "id": "iA4vmN-jXQqJ",
    "outputId": "10327426-1ca2-44c1-ef08-8a1f46e76bb3",
    "ExecuteTime": {
     "end_time": "2024-04-07T20:11:01.269951Z",
     "start_time": "2024-04-07T20:11:01.248288Z"
    }
   },
   "execution_count": 28,
   "outputs": [
    {
     "name": "stdout",
     "output_type": "stream",
     "text": [
      "Text: 'Software Engineer', Predicted Category: IT\n",
      "Text: 'Graphic Designer', Predicted Category: Creative_Design\n",
      "Text: 'Marketing lead', Predicted Category: Business_Professional\n",
      "Text: 'ml lecturer', Predicted Category: IT\n",
      "Text: 'computer science', Predicted Category: IT\n",
      "Text: 'event planner', Predicted Category: Basic\n",
      "Text: 'primary educator', Predicted Category: Student_Education\n",
      "Text: 'UX/UI designer', Predicted Category: Creative_Design\n",
      "Text: 'accounts assistant', Predicted Category: Business_Professional\n",
      "Text: 'project lead', Predicted Category: IT\n",
      "Text: 'intern finance analyst', Predicted Category: IT\n",
      "Text: 'gamer', Predicted Category: Gaming\n",
      "Text: 'I play flight simulator and go to school', Predicted Category: Gaming\n",
      "Text: 'Tutoring students in advanced mathematics', Predicted Category: Student_Education\n",
      "Text: 'I need a laptop compatible for both software engineering and gaming', Predicted Category: Gaming\n",
      "Text: 'i need a laptop for spanish lessons and graphic designing', Predicted Category: Creative_Design\n",
      "Text: 'i need a portable laptop', Predicted Category: Student_Education\n",
      "Text: 'computer science student', Predicted Category: Student_Education\n",
      "Text: 'for an undergraduate', Predicted Category: Student_Education\n",
      "Text: 'for university', Predicted Category: Student_Education\n",
      "Text: 'data science undergraduate and gamer', Predicted Category: Gaming\n"
     ]
    }
   ]
  },
  {
   "cell_type": "code",
   "source": [
    "print(model.predict(\"Searching for a laptop with a color-accurate display and powerful graphics capabilities for digital art creation.\")) # Wrong\n",
    "print(model.predict(\"I want a device with a stylus and touch screen for graphic design and photo editing.\"))"
   ],
   "metadata": {
    "colab": {
     "base_uri": "https://localhost:8080/"
    },
    "id": "pUPvAxO3JCjb",
    "outputId": "cdc9c3ed-1219-4f4b-a198-ee54950bf81d",
    "ExecuteTime": {
     "end_time": "2024-04-07T20:11:01.285583Z",
     "start_time": "2024-04-07T20:11:01.273962Z"
    }
   },
   "execution_count": 29,
   "outputs": [
    {
     "name": "stdout",
     "output_type": "stream",
     "text": [
      "(('__label__Creative_Design',), array([0.4713712]))\n",
      "(('__label__Creative_Design',), array([0.6579265]))\n"
     ]
    }
   ]
  },
  {
   "cell_type": "code",
   "source": [
    "print(model.predict(\"I require a lightweight laptop with robust security features for my business travels.\"))\n",
    "print(model.predict(\"Looking for a device with long battery life to take to school\"))"
   ],
   "metadata": {
    "colab": {
     "base_uri": "https://localhost:8080/"
    },
    "id": "yJ7-wZliGrGg",
    "outputId": "12f9670d-5c14-4b3a-cf4f-d507c97e4017",
    "ExecuteTime": {
     "end_time": "2024-04-07T20:11:01.294950Z",
     "start_time": "2024-04-07T20:11:01.289591Z"
    }
   },
   "execution_count": 30,
   "outputs": [
    {
     "name": "stdout",
     "output_type": "stream",
     "text": [
      "(('__label__Business_Professional',), array([0.30194059]))\n",
      "(('__label__Student_Education',), array([0.6810919]))\n"
     ]
    }
   ]
  },
  {
   "cell_type": "markdown",
   "source": [
    "#### Save the trained model"
   ],
   "metadata": {
    "id": "le_9mYDPhCq5"
   }
  },
  {
   "cell_type": "code",
   "source": [
    "model.save_model(\"input_classification.bin\")"
   ],
   "metadata": {
    "id": "wzdvblhqUnl6",
    "ExecuteTime": {
     "end_time": "2024-04-07T20:11:37.621136Z",
     "start_time": "2024-04-07T20:11:23.934056Z"
    }
   },
   "execution_count": 32,
   "outputs": []
  }
 ]
}
