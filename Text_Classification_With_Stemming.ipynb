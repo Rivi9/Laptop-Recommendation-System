{
  "nbformat": 4,
  "nbformat_minor": 0,
  "metadata": {
    "colab": {
      "provenance": [],
      "authorship_tag": "ABX9TyMPhzNU4vaGspRWjOoJsClK",
      "include_colab_link": true
    },
    "kernelspec": {
      "name": "python3",
      "display_name": "Python 3"
    },
    "language_info": {
      "name": "python"
    }
  },
  "cells": [
    {
      "cell_type": "markdown",
      "metadata": {
        "id": "view-in-github",
        "colab_type": "text"
      },
      "source": [
        "<a href=\"https://colab.research.google.com/github/Rivi9/Laptop-Recommendation-System/blob/NLP-Model/Text_Classification_With_Stemming.ipynb\" target=\"_parent\"><img src=\"https://colab.research.google.com/assets/colab-badge.svg\" alt=\"Open In Colab\"/></a>"
      ]
    },
    {
      "cell_type": "markdown",
      "source": [
        "## **Text Classification Model**\n",
        "\n",
        "---\n",
        "\n"
      ],
      "metadata": {
        "id": "yIl5QW_veI5F"
      }
    },
    {
      "cell_type": "markdown",
      "source": [
        "#### Install necessary libraries"
      ],
      "metadata": {
        "id": "87Tif_vye4XW"
      }
    },
    {
      "cell_type": "code",
      "execution_count": 1,
      "metadata": {
        "colab": {
          "base_uri": "https://localhost:8080/"
        },
        "id": "QTVvpop8Ze5l",
        "outputId": "0e022e05-43f6-403d-c38f-2d4f27b1eca5"
      },
      "outputs": [
        {
          "output_type": "stream",
          "name": "stdout",
          "text": [
            "Collecting fasttext\n",
            "  Downloading fasttext-0.9.2.tar.gz (68 kB)\n",
            "\u001b[?25l     \u001b[90m━━━━━━━━━━━━━━━━━━━━━━━━━━━━━━━━━━━━━━━━\u001b[0m \u001b[32m0.0/68.8 kB\u001b[0m \u001b[31m?\u001b[0m eta \u001b[36m-:--:--\u001b[0m\r\u001b[2K     \u001b[90m━━━━━━━━━━━━━━━━━━━━━━━━━━━━━━━━━━━━━━━━\u001b[0m \u001b[32m68.8/68.8 kB\u001b[0m \u001b[31m2.0 MB/s\u001b[0m eta \u001b[36m0:00:00\u001b[0m\n",
            "\u001b[?25h  Preparing metadata (setup.py) ... \u001b[?25l\u001b[?25hdone\n",
            "Collecting pybind11>=2.2 (from fasttext)\n",
            "  Using cached pybind11-2.11.1-py3-none-any.whl (227 kB)\n",
            "Requirement already satisfied: setuptools>=0.7.0 in /usr/local/lib/python3.10/dist-packages (from fasttext) (67.7.2)\n",
            "Requirement already satisfied: numpy in /usr/local/lib/python3.10/dist-packages (from fasttext) (1.25.2)\n",
            "Building wheels for collected packages: fasttext\n",
            "  Building wheel for fasttext (setup.py) ... \u001b[?25l\u001b[?25hdone\n",
            "  Created wheel for fasttext: filename=fasttext-0.9.2-cp310-cp310-linux_x86_64.whl size=4199772 sha256=6309de8089a7d4efc3209cb71d52f7e9585dd9a051810f4b5910abddc1c8a524\n",
            "  Stored in directory: /root/.cache/pip/wheels/a5/13/75/f811c84a8ab36eedbaef977a6a58a98990e8e0f1967f98f394\n",
            "Successfully built fasttext\n",
            "Installing collected packages: pybind11, fasttext\n",
            "Successfully installed fasttext-0.9.2 pybind11-2.11.1\n"
          ]
        }
      ],
      "source": [
        "pip install fasttext"
      ]
    },
    {
      "cell_type": "markdown",
      "source": [
        "#### Import necessary libraries"
      ],
      "metadata": {
        "id": "t4FT4WNge_Mq"
      }
    },
    {
      "cell_type": "code",
      "source": [
        "import re\n",
        "import nltk\n",
        "import fasttext\n",
        "import numpy as np\n",
        "import pandas as pd\n",
        "import seaborn as sns\n",
        "import matplotlib.pyplot as plt\n",
        "from nltk.corpus import stopwords\n",
        "from nltk.stem import PorterStemmer\n",
        "from nltk.tokenize import word_tokenize\n",
        "from sklearn.model_selection import train_test_split\n",
        "from sklearn.metrics import confusion_matrix, classification_report"
      ],
      "metadata": {
        "id": "O2qG1lW1d9w1"
      },
      "execution_count": 12,
      "outputs": []
    },
    {
      "cell_type": "markdown",
      "source": [
        "#### Download necessary NLTK data"
      ],
      "metadata": {
        "id": "zAP6ETcffWJx"
      }
    },
    {
      "cell_type": "code",
      "source": [
        "nltk.download('punkt')\n",
        "nltk.download('stopwords')"
      ],
      "metadata": {
        "colab": {
          "base_uri": "https://localhost:8080/"
        },
        "id": "FPeFLfVJaeKv",
        "outputId": "97621352-27e1-48cf-c9f6-459b4e644991"
      },
      "execution_count": 14,
      "outputs": [
        {
          "output_type": "stream",
          "name": "stderr",
          "text": [
            "[nltk_data] Downloading package punkt to /root/nltk_data...\n",
            "[nltk_data]   Package punkt is already up-to-date!\n",
            "[nltk_data] Downloading package stopwords to /root/nltk_data...\n",
            "[nltk_data]   Package stopwords is already up-to-date!\n"
          ]
        },
        {
          "output_type": "execute_result",
          "data": {
            "text/plain": [
              "True"
            ]
          },
          "metadata": {},
          "execution_count": 14
        }
      ]
    },
    {
      "cell_type": "markdown",
      "source": [
        "#### Load the dataset"
      ],
      "metadata": {
        "id": "GXOwMNf2gHlT"
      }
    },
    {
      "cell_type": "code",
      "source": [
        "# Load the text classsification dataset\n",
        "df = pd.read_csv(\"/content/Text Classification Laptops - New - Sheet1 (10).csv\", names=[\"sentences\", \"category\"], header=None)\n",
        "print(df.shape)\n",
        "df.head(6)"
      ],
      "metadata": {
        "colab": {
          "base_uri": "https://localhost:8080/",
          "height": 255
        },
        "id": "2jl3NrlVahfH",
        "outputId": "497e3abb-432f-45ad-da49-5d842cc7e45c"
      },
      "execution_count": 15,
      "outputs": [
        {
          "output_type": "stream",
          "name": "stdout",
          "text": [
            "(744, 2)\n"
          ]
        },
        {
          "output_type": "execute_result",
          "data": {
            "text/plain": [
              "                                           sentences               category\n",
              "0  I use my laptop as a software engineer to writ...                     IT\n",
              "1  As a graphic designer, I use my laptop to crea...        Creative_Design\n",
              "2  I use my laptop as a writer to craft stories, ...  Business_Professional\n",
              "3  As a musician, I use my laptop to compose musi...        Creative_Design\n",
              "4  I use my laptop as a gamer to play online game...                 Gaming\n",
              "5  As a student, I use my laptop to take online c...      Student_Education"
            ],
            "text/html": [
              "\n",
              "  <div id=\"df-13028e42-d510-48b8-ac37-c0254acb3c14\" class=\"colab-df-container\">\n",
              "    <div>\n",
              "<style scoped>\n",
              "    .dataframe tbody tr th:only-of-type {\n",
              "        vertical-align: middle;\n",
              "    }\n",
              "\n",
              "    .dataframe tbody tr th {\n",
              "        vertical-align: top;\n",
              "    }\n",
              "\n",
              "    .dataframe thead th {\n",
              "        text-align: right;\n",
              "    }\n",
              "</style>\n",
              "<table border=\"1\" class=\"dataframe\">\n",
              "  <thead>\n",
              "    <tr style=\"text-align: right;\">\n",
              "      <th></th>\n",
              "      <th>sentences</th>\n",
              "      <th>category</th>\n",
              "    </tr>\n",
              "  </thead>\n",
              "  <tbody>\n",
              "    <tr>\n",
              "      <th>0</th>\n",
              "      <td>I use my laptop as a software engineer to writ...</td>\n",
              "      <td>IT</td>\n",
              "    </tr>\n",
              "    <tr>\n",
              "      <th>1</th>\n",
              "      <td>As a graphic designer, I use my laptop to crea...</td>\n",
              "      <td>Creative_Design</td>\n",
              "    </tr>\n",
              "    <tr>\n",
              "      <th>2</th>\n",
              "      <td>I use my laptop as a writer to craft stories, ...</td>\n",
              "      <td>Business_Professional</td>\n",
              "    </tr>\n",
              "    <tr>\n",
              "      <th>3</th>\n",
              "      <td>As a musician, I use my laptop to compose musi...</td>\n",
              "      <td>Creative_Design</td>\n",
              "    </tr>\n",
              "    <tr>\n",
              "      <th>4</th>\n",
              "      <td>I use my laptop as a gamer to play online game...</td>\n",
              "      <td>Gaming</td>\n",
              "    </tr>\n",
              "    <tr>\n",
              "      <th>5</th>\n",
              "      <td>As a student, I use my laptop to take online c...</td>\n",
              "      <td>Student_Education</td>\n",
              "    </tr>\n",
              "  </tbody>\n",
              "</table>\n",
              "</div>\n",
              "    <div class=\"colab-df-buttons\">\n",
              "\n",
              "  <div class=\"colab-df-container\">\n",
              "    <button class=\"colab-df-convert\" onclick=\"convertToInteractive('df-13028e42-d510-48b8-ac37-c0254acb3c14')\"\n",
              "            title=\"Convert this dataframe to an interactive table.\"\n",
              "            style=\"display:none;\">\n",
              "\n",
              "  <svg xmlns=\"http://www.w3.org/2000/svg\" height=\"24px\" viewBox=\"0 -960 960 960\">\n",
              "    <path d=\"M120-120v-720h720v720H120Zm60-500h600v-160H180v160Zm220 220h160v-160H400v160Zm0 220h160v-160H400v160ZM180-400h160v-160H180v160Zm440 0h160v-160H620v160ZM180-180h160v-160H180v160Zm440 0h160v-160H620v160Z\"/>\n",
              "  </svg>\n",
              "    </button>\n",
              "\n",
              "  <style>\n",
              "    .colab-df-container {\n",
              "      display:flex;\n",
              "      gap: 12px;\n",
              "    }\n",
              "\n",
              "    .colab-df-convert {\n",
              "      background-color: #E8F0FE;\n",
              "      border: none;\n",
              "      border-radius: 50%;\n",
              "      cursor: pointer;\n",
              "      display: none;\n",
              "      fill: #1967D2;\n",
              "      height: 32px;\n",
              "      padding: 0 0 0 0;\n",
              "      width: 32px;\n",
              "    }\n",
              "\n",
              "    .colab-df-convert:hover {\n",
              "      background-color: #E2EBFA;\n",
              "      box-shadow: 0px 1px 2px rgba(60, 64, 67, 0.3), 0px 1px 3px 1px rgba(60, 64, 67, 0.15);\n",
              "      fill: #174EA6;\n",
              "    }\n",
              "\n",
              "    .colab-df-buttons div {\n",
              "      margin-bottom: 4px;\n",
              "    }\n",
              "\n",
              "    [theme=dark] .colab-df-convert {\n",
              "      background-color: #3B4455;\n",
              "      fill: #D2E3FC;\n",
              "    }\n",
              "\n",
              "    [theme=dark] .colab-df-convert:hover {\n",
              "      background-color: #434B5C;\n",
              "      box-shadow: 0px 1px 3px 1px rgba(0, 0, 0, 0.15);\n",
              "      filter: drop-shadow(0px 1px 2px rgba(0, 0, 0, 0.3));\n",
              "      fill: #FFFFFF;\n",
              "    }\n",
              "  </style>\n",
              "\n",
              "    <script>\n",
              "      const buttonEl =\n",
              "        document.querySelector('#df-13028e42-d510-48b8-ac37-c0254acb3c14 button.colab-df-convert');\n",
              "      buttonEl.style.display =\n",
              "        google.colab.kernel.accessAllowed ? 'block' : 'none';\n",
              "\n",
              "      async function convertToInteractive(key) {\n",
              "        const element = document.querySelector('#df-13028e42-d510-48b8-ac37-c0254acb3c14');\n",
              "        const dataTable =\n",
              "          await google.colab.kernel.invokeFunction('convertToInteractive',\n",
              "                                                    [key], {});\n",
              "        if (!dataTable) return;\n",
              "\n",
              "        const docLinkHtml = 'Like what you see? Visit the ' +\n",
              "          '<a target=\"_blank\" href=https://colab.research.google.com/notebooks/data_table.ipynb>data table notebook</a>'\n",
              "          + ' to learn more about interactive tables.';\n",
              "        element.innerHTML = '';\n",
              "        dataTable['output_type'] = 'display_data';\n",
              "        await google.colab.output.renderOutput(dataTable, element);\n",
              "        const docLink = document.createElement('div');\n",
              "        docLink.innerHTML = docLinkHtml;\n",
              "        element.appendChild(docLink);\n",
              "      }\n",
              "    </script>\n",
              "  </div>\n",
              "\n",
              "\n",
              "<div id=\"df-31baaedb-c6d8-4a81-a233-bd3f3d7f0286\">\n",
              "  <button class=\"colab-df-quickchart\" onclick=\"quickchart('df-31baaedb-c6d8-4a81-a233-bd3f3d7f0286')\"\n",
              "            title=\"Suggest charts\"\n",
              "            style=\"display:none;\">\n",
              "\n",
              "<svg xmlns=\"http://www.w3.org/2000/svg\" height=\"24px\"viewBox=\"0 0 24 24\"\n",
              "     width=\"24px\">\n",
              "    <g>\n",
              "        <path d=\"M19 3H5c-1.1 0-2 .9-2 2v14c0 1.1.9 2 2 2h14c1.1 0 2-.9 2-2V5c0-1.1-.9-2-2-2zM9 17H7v-7h2v7zm4 0h-2V7h2v10zm4 0h-2v-4h2v4z\"/>\n",
              "    </g>\n",
              "</svg>\n",
              "  </button>\n",
              "\n",
              "<style>\n",
              "  .colab-df-quickchart {\n",
              "      --bg-color: #E8F0FE;\n",
              "      --fill-color: #1967D2;\n",
              "      --hover-bg-color: #E2EBFA;\n",
              "      --hover-fill-color: #174EA6;\n",
              "      --disabled-fill-color: #AAA;\n",
              "      --disabled-bg-color: #DDD;\n",
              "  }\n",
              "\n",
              "  [theme=dark] .colab-df-quickchart {\n",
              "      --bg-color: #3B4455;\n",
              "      --fill-color: #D2E3FC;\n",
              "      --hover-bg-color: #434B5C;\n",
              "      --hover-fill-color: #FFFFFF;\n",
              "      --disabled-bg-color: #3B4455;\n",
              "      --disabled-fill-color: #666;\n",
              "  }\n",
              "\n",
              "  .colab-df-quickchart {\n",
              "    background-color: var(--bg-color);\n",
              "    border: none;\n",
              "    border-radius: 50%;\n",
              "    cursor: pointer;\n",
              "    display: none;\n",
              "    fill: var(--fill-color);\n",
              "    height: 32px;\n",
              "    padding: 0;\n",
              "    width: 32px;\n",
              "  }\n",
              "\n",
              "  .colab-df-quickchart:hover {\n",
              "    background-color: var(--hover-bg-color);\n",
              "    box-shadow: 0 1px 2px rgba(60, 64, 67, 0.3), 0 1px 3px 1px rgba(60, 64, 67, 0.15);\n",
              "    fill: var(--button-hover-fill-color);\n",
              "  }\n",
              "\n",
              "  .colab-df-quickchart-complete:disabled,\n",
              "  .colab-df-quickchart-complete:disabled:hover {\n",
              "    background-color: var(--disabled-bg-color);\n",
              "    fill: var(--disabled-fill-color);\n",
              "    box-shadow: none;\n",
              "  }\n",
              "\n",
              "  .colab-df-spinner {\n",
              "    border: 2px solid var(--fill-color);\n",
              "    border-color: transparent;\n",
              "    border-bottom-color: var(--fill-color);\n",
              "    animation:\n",
              "      spin 1s steps(1) infinite;\n",
              "  }\n",
              "\n",
              "  @keyframes spin {\n",
              "    0% {\n",
              "      border-color: transparent;\n",
              "      border-bottom-color: var(--fill-color);\n",
              "      border-left-color: var(--fill-color);\n",
              "    }\n",
              "    20% {\n",
              "      border-color: transparent;\n",
              "      border-left-color: var(--fill-color);\n",
              "      border-top-color: var(--fill-color);\n",
              "    }\n",
              "    30% {\n",
              "      border-color: transparent;\n",
              "      border-left-color: var(--fill-color);\n",
              "      border-top-color: var(--fill-color);\n",
              "      border-right-color: var(--fill-color);\n",
              "    }\n",
              "    40% {\n",
              "      border-color: transparent;\n",
              "      border-right-color: var(--fill-color);\n",
              "      border-top-color: var(--fill-color);\n",
              "    }\n",
              "    60% {\n",
              "      border-color: transparent;\n",
              "      border-right-color: var(--fill-color);\n",
              "    }\n",
              "    80% {\n",
              "      border-color: transparent;\n",
              "      border-right-color: var(--fill-color);\n",
              "      border-bottom-color: var(--fill-color);\n",
              "    }\n",
              "    90% {\n",
              "      border-color: transparent;\n",
              "      border-bottom-color: var(--fill-color);\n",
              "    }\n",
              "  }\n",
              "</style>\n",
              "\n",
              "  <script>\n",
              "    async function quickchart(key) {\n",
              "      const quickchartButtonEl =\n",
              "        document.querySelector('#' + key + ' button');\n",
              "      quickchartButtonEl.disabled = true;  // To prevent multiple clicks.\n",
              "      quickchartButtonEl.classList.add('colab-df-spinner');\n",
              "      try {\n",
              "        const charts = await google.colab.kernel.invokeFunction(\n",
              "            'suggestCharts', [key], {});\n",
              "      } catch (error) {\n",
              "        console.error('Error during call to suggestCharts:', error);\n",
              "      }\n",
              "      quickchartButtonEl.classList.remove('colab-df-spinner');\n",
              "      quickchartButtonEl.classList.add('colab-df-quickchart-complete');\n",
              "    }\n",
              "    (() => {\n",
              "      let quickchartButtonEl =\n",
              "        document.querySelector('#df-31baaedb-c6d8-4a81-a233-bd3f3d7f0286 button');\n",
              "      quickchartButtonEl.style.display =\n",
              "        google.colab.kernel.accessAllowed ? 'block' : 'none';\n",
              "    })();\n",
              "  </script>\n",
              "</div>\n",
              "\n",
              "    </div>\n",
              "  </div>\n"
            ],
            "application/vnd.google.colaboratory.intrinsic+json": {
              "type": "dataframe",
              "variable_name": "df",
              "summary": "{\n  \"name\": \"df\",\n  \"rows\": 744,\n  \"fields\": [\n    {\n      \"column\": \"sentences\",\n      \"properties\": {\n        \"dtype\": \"string\",\n        \"num_unique_values\": 744,\n        \"samples\": [\n          \"I'm a Chief Finance Officer who wants a great laptop\",\n          \"My laptop is vital for renewable energy research. I analyze sustainable energy sources, conduct feasibility studies, and write research papers on green technologies.\",\n          \"Want a laptop to take to uni and watch movies when I'm free.\"\n        ],\n        \"semantic_type\": \"\",\n        \"description\": \"\"\n      }\n    },\n    {\n      \"column\": \"category\",\n      \"properties\": {\n        \"dtype\": \"category\",\n        \"num_unique_values\": 6,\n        \"samples\": [\n          \"IT\",\n          \"Creative_Design\",\n          \"Basic\"\n        ],\n        \"semantic_type\": \"\",\n        \"description\": \"\"\n      }\n    }\n  ]\n}"
            }
          },
          "metadata": {},
          "execution_count": 15
        }
      ]
    },
    {
      "cell_type": "code",
      "source": [
        "# Drop NA values\n",
        "df.dropna(inplace=True)"
      ],
      "metadata": {
        "id": "QsxYJAZMhEd-"
      },
      "execution_count": 18,
      "outputs": []
    },
    {
      "cell_type": "code",
      "source": [
        "df.category.unique()"
      ],
      "metadata": {
        "colab": {
          "base_uri": "https://localhost:8080/"
        },
        "id": "V-MtB-YjgySU",
        "outputId": "351db9af-bbb5-4160-d142-91eaa5489fd0"
      },
      "execution_count": 16,
      "outputs": [
        {
          "output_type": "execute_result",
          "data": {
            "text/plain": [
              "array(['IT', 'Creative_Design', 'Business_Professional', 'Gaming',\n",
              "       'Student_Education', 'Basic'], dtype=object)"
            ]
          },
          "metadata": {},
          "execution_count": 16
        }
      ]
    },
    {
      "cell_type": "code",
      "source": [
        "category_counts = df[\"category\"].value_counts()\n",
        "print(category_counts)"
      ],
      "metadata": {
        "colab": {
          "base_uri": "https://localhost:8080/"
        },
        "id": "pAKXd5WqgzoO",
        "outputId": "e4814bce-f9d7-456c-b921-ca38d4bd0606"
      },
      "execution_count": 17,
      "outputs": [
        {
          "output_type": "stream",
          "name": "stdout",
          "text": [
            "Basic                    149\n",
            "Business_Professional    142\n",
            "Student_Education        138\n",
            "IT                       112\n",
            "Gaming                   103\n",
            "Creative_Design          100\n",
            "Name: category, dtype: int64\n"
          ]
        }
      ]
    },
    {
      "cell_type": "markdown",
      "source": [
        "#### Preprocess the text data\n",
        "\n",
        "*   Removing punctuation\n",
        "*   Convert to lowercase\n",
        "*   Remove extra spaces\n",
        "*   Tokenize\n",
        "*   Remove stopwords\n",
        "*   Perform stemming"
      ],
      "metadata": {
        "id": "hGQBZF1HhMAy"
      }
    },
    {
      "cell_type": "code",
      "source": [
        "# Combine label and sentences with a preprocessing step\n",
        "df['category'] = '__label__' + df['category'].astype(str)\n",
        "\n",
        "stop_words = set(stopwords.words('english'))\n",
        "\n",
        "def preprocess_with_stemming(text):\n",
        "    # Remove punctuation and make lowercase\n",
        "    text = re.sub(r'[^\\w\\s]', '', text).lower()\n",
        "    # Remove extra spaces\n",
        "    text = re.sub(' +', ' ', text)\n",
        "    # Tokenization and stop words removal\n",
        "    word_tokens = word_tokenize(text)\n",
        "    filtered_text = [word for word in word_tokens if word not in stop_words]\n",
        "    # Stemming\n",
        "    porter = PorterStemmer()\n",
        "    stemmed_text = [porter.stem(word) for word in filtered_text]\n",
        "    return ' '.join(stemmed_text)\n",
        "\n",
        "df['sentence_description'] = df['category'] + ' ' + df['sentences'].map(preprocess_with_stemming)\n"
      ],
      "metadata": {
        "id": "wMDiKQmigb3W"
      },
      "execution_count": 19,
      "outputs": []
    },
    {
      "cell_type": "markdown",
      "source": [
        "#### Split data for training and testing"
      ],
      "metadata": {
        "id": "hE4jRZwJiF_u"
      }
    },
    {
      "cell_type": "code",
      "source": [
        "# Split data for training and testing\n",
        "train, test = train_test_split(df, test_size=0.2)\n",
        "\n",
        "# Save training and testing data to files\n",
        "train.to_csv(\"laptop.train\", columns=[\"sentence_description\"], index=False, header=False)\n",
        "test.to_csv(\"laptop.test\", columns=[\"sentence_description\"], index=False, header=False)"
      ],
      "metadata": {
        "id": "nViQAOSxapFj"
      },
      "execution_count": 24,
      "outputs": []
    },
    {
      "cell_type": "markdown",
      "source": [
        "#### Train the FastText model"
      ],
      "metadata": {
        "id": "l2mtaLsUiWCv"
      }
    },
    {
      "cell_type": "code",
      "source": [
        "# Train the FastText model\n",
        "model = fasttext.train_supervised(input=\"laptop.train\", lr=0.5, epoch=25, wordNgrams=2, minCount=1)"
      ],
      "metadata": {
        "colab": {
          "base_uri": "https://localhost:8080/"
        },
        "id": "-CN8sf3VaszO",
        "outputId": "7f854c16-19ef-426b-fbeb-6e736ff69571"
      },
      "execution_count": 25,
      "outputs": [
        {
          "output_type": "stream",
          "name": "stdout",
          "text": [
            "(149, 0.7919463087248322, 0.7919463087248322)\n"
          ]
        }
      ]
    },
    {
      "cell_type": "markdown",
      "source": [
        "#### Evaluate model performance"
      ],
      "metadata": {
        "id": "GSS27ELCinLl"
      }
    },
    {
      "cell_type": "code",
      "source": [
        "# Evaluate and print model performance\n",
        "print(model.test(\"laptop.test\"))"
      ],
      "metadata": {
        "colab": {
          "base_uri": "https://localhost:8080/"
        },
        "id": "_-VdVdlAityr",
        "outputId": "6f9458c3-eaed-4e29-aa79-bc7199b5c7ac"
      },
      "execution_count": 26,
      "outputs": [
        {
          "output_type": "stream",
          "name": "stdout",
          "text": [
            "(149, 0.7919463087248322, 0.7919463087248322)\n"
          ]
        }
      ]
    },
    {
      "cell_type": "markdown",
      "source": [
        "#### Confusion Matrix and Classification Report"
      ],
      "metadata": {
        "id": "or7HpPb_jPJk"
      }
    },
    {
      "cell_type": "code",
      "source": [
        "# Load the test data\n",
        "test_df = pd.read_csv(\"laptop.test\", names=[\"sentence_description\"])\n",
        "\n",
        "# Separate the labels and sentences\n",
        "test_df[['true_labels', 'sentences']] = test_df['sentence_description'].str.split(' ', 1, expand=True)\n",
        "\n",
        "# Preprocess the sentences in the test set\n",
        "test_df['processed_sentences'] = test_df['sentences'].apply(lambda x: preprocess_with_stemming(x))\n",
        "\n",
        "# Predict labels for the test set\n",
        "test_df['predicted_labels'] = test_df['processed_sentences'].apply(lambda x: model.predict(x)[0][0])\n",
        "\n",
        "# Extract the labels (removing the '__label__' prefix for comparison and reporting)\n",
        "test_df['true_labels'] = test_df['true_labels'].str.replace('__label__', '')\n",
        "test_df['predicted_labels'] = test_df['predicted_labels'].str.replace('__label__', '')\n",
        "\n",
        "# Generate and print the confusion matrix\n",
        "labels = np.unique(test_df['true_labels'])\n",
        "conf_matrix = confusion_matrix(test_df['true_labels'], test_df['predicted_labels'], labels=labels)\n",
        "print(\"Confusion Matrix:\")\n",
        "print(conf_matrix)\n",
        "\n",
        "# Generate and print the classification report\n",
        "print(\"\\nClassification Report:\")\n",
        "print(classification_report(test_df['true_labels'], test_df['predicted_labels'], target_names=labels))\n",
        "\n",
        "# Plot confusion matrix in blue\n",
        "plt.figure(figsize=(10, 7))\n",
        "sns.heatmap(conf_matrix, annot=True, fmt='g', cmap='Blues', xticklabels=labels, yticklabels=labels)\n",
        "plt.xlabel('Predicted labels')\n",
        "plt.ylabel('True labels')\n",
        "plt.title('Confusion Matrix')\n",
        "plt.show()"
      ],
      "metadata": {
        "colab": {
          "base_uri": "https://localhost:8080/",
          "height": 1000
        },
        "id": "9-ZmlofwjTY8",
        "outputId": "27f7fff0-1d33-4d71-ff44-39f874985486"
      },
      "execution_count": 28,
      "outputs": [
        {
          "output_type": "stream",
          "name": "stderr",
          "text": [
            "<ipython-input-28-68ff2447efc7>:5: FutureWarning: In a future version of pandas all arguments of StringMethods.split except for the argument 'pat' will be keyword-only.\n",
            "  test_df[['true_labels', 'sentences']] = test_df['sentence_description'].str.split(' ', 1, expand=True)\n"
          ]
        },
        {
          "output_type": "stream",
          "name": "stdout",
          "text": [
            "Confusion Matrix:\n",
            "[[24  3  0  1  0  0]\n",
            " [ 4 14  0  0  4  2]\n",
            " [ 3  1 22  0  1  0]\n",
            " [ 3  1  0 22  0  0]\n",
            " [ 2  1  1  0 12  4]\n",
            " [ 1  1  0  0  0 22]]\n",
            "\n",
            "Classification Report:\n",
            "                       precision    recall  f1-score   support\n",
            "\n",
            "                Basic       0.65      0.86      0.74        28\n",
            "Business_Professional       0.67      0.58      0.62        24\n",
            "      Creative_Design       0.96      0.81      0.88        27\n",
            "               Gaming       0.96      0.85      0.90        26\n",
            "                   IT       0.71      0.60      0.65        20\n",
            "    Student_Education       0.79      0.92      0.85        24\n",
            "\n",
            "             accuracy                           0.78       149\n",
            "            macro avg       0.79      0.77      0.77       149\n",
            "         weighted avg       0.79      0.78      0.78       149\n",
            "\n"
          ]
        },
        {
          "output_type": "display_data",
          "data": {
            "text/plain": [
              "<Figure size 1000x700 with 2 Axes>"
            ],
            "image/png": "[encoded data removed]"
          },
          "metadata": {}
        }
      ]
    },
    {
      "cell_type": "markdown",
      "source": [
        "#### Test with custom inputs"
      ],
      "metadata": {
        "id": "oWUYJnbEiw6e"
      }
    },
    {
      "cell_type": "code",
      "source": [
        "def predict_category(sentence):\n",
        "    preprocessed_sentence = preprocess_with_stemming(sentence)  # preprocessing the inputs\n",
        "    return model.predict(preprocessed_sentence)\n",
        "\n",
        "# Test with a custom sentence\n",
        "print(predict_category(\"I need a laptop for gaming and school\"))"
      ],
      "metadata": {
        "colab": {
          "base_uri": "https://localhost:8080/"
        },
        "id": "mXQxEdW2avxp",
        "outputId": "919184c0-641e-40c2-938c-52dc3aa28934"
      },
      "execution_count": 27,
      "outputs": [
        {
          "output_type": "stream",
          "name": "stdout",
          "text": [
            "(('__label__Gaming',), array([0.96068192]))\n"
          ]
        }
      ]
    },
    {
      "cell_type": "code",
      "source": [
        "sentences = [\n",
        "    \"I need a powerful machine for video editing and graphic design work.\",\n",
        "    \"Looking for a budget-friendly laptop for my college assignments.\",\n",
        "    \"I require a laptop with high security and robust performance for my business operations.\",\n",
        "    \"Seeking a laptop that can handle programming and software development tasks efficiently.\",\n",
        "    \"I want a simple laptop for browsing the internet, watching movies, and checking emails.\",\n",
        "    \"Looking for a durable laptop that can withstand travel and outdoor use.\",\n",
        "    \"Need a laptop with a long battery life for day-long classes and lectures.\",\n",
        "    \"I need a laptop for a data science undergraduate\",\n",
        "    \"I need a laptop for an Artificial Intelligence lecturer\"\n",
        "]\n",
        "\n",
        "for sentence in sentences:\n",
        "    prediction = predict_category(sentence)\n",
        "    print(f\"Sentence: '{sentence}'\\nPredicted Category: {prediction}\\n\")\n"
      ],
      "metadata": {
        "colab": {
          "base_uri": "https://localhost:8080/"
        },
        "id": "cmGGbp1ua-B-",
        "outputId": "1ce3301d-1756-4063-d335-f11fb4194585"
      },
      "execution_count": 36,
      "outputs": [
        {
          "output_type": "stream",
          "name": "stdout",
          "text": [
            "Sentence: 'I need a powerful machine for video editing and graphic design work.'\n",
            "Predicted Category: (('__label__Creative_Design',), array([0.99945027]))\n",
            "\n",
            "Sentence: 'Looking for a budget-friendly laptop for my college assignments.'\n",
            "Predicted Category: (('__label__Basic',), array([0.68052059]))\n",
            "\n",
            "Sentence: 'I require a laptop with high security and robust performance for my business operations.'\n",
            "Predicted Category: (('__label__Business_Professional',), array([0.59083658]))\n",
            "\n",
            "Sentence: 'Seeking a laptop that can handle programming and software development tasks efficiently.'\n",
            "Predicted Category: (('__label__IT',), array([0.98903543]))\n",
            "\n",
            "Sentence: 'I want a simple laptop for browsing the internet, watching movies, and checking emails.'\n",
            "Predicted Category: (('__label__Basic',), array([0.97404802]))\n",
            "\n",
            "Sentence: 'Looking for a durable laptop that can withstand travel and outdoor use.'\n",
            "Predicted Category: (('__label__Basic',), array([0.96245366]))\n",
            "\n",
            "Sentence: 'Need a laptop with a long battery life for day-long classes and lectures.'\n",
            "Predicted Category: (('__label__Student_Education',), array([0.98740804]))\n",
            "\n",
            "Sentence: 'I need a laptop for a data science undergraduate'\n",
            "Predicted Category: (('__label__IT',), array([0.74097705]))\n",
            "\n",
            "Sentence: 'I need a laptop for an Artificial Intelligence lecturer'\n",
            "Predicted Category: (('__label__IT',), array([0.96964592]))\n",
            "\n"
          ]
        }
      ]
    },
    {
      "cell_type": "markdown",
      "source": [
        "#### Save the trained model"
      ],
      "metadata": {
        "id": "86P_GpKzjwgx"
      }
    },
    {
      "cell_type": "code",
      "source": [
        "model.save_model(\"fasttext_modelStemming.bin\")"
      ],
      "metadata": {
        "id": "AJVcmui0dclA"
      },
      "execution_count": 10,
      "outputs": []
    }
  ]
}