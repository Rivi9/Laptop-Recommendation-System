{
 "nbformat": 4,
 "nbformat_minor": 0,
 "metadata": {
  "colab": {
   "provenance": [],
   "toc_visible": true,
   "authorship_tag": "ABX9TyOmNB9wlqaQpauvTSsHUjuc",
   "include_colab_link": true
  },
  "kernelspec": {
   "name": "python3",
   "language": "python",
   "display_name": "Python 3 (ipykernel)"
  },
  "language_info": {
   "name": "python"
  }
 },
 "cells": [
  {
   "cell_type": "markdown",
   "metadata": {
    "id": "view-in-github",
    "colab_type": "text"
   },
   "source": [
    "<a href=\"https://colab.research.google.com/github/Rivi9/Laptop-Recommendation-System/blob/Main-Model/laptop_recommender.ipynb\" target=\"_parent\"><img src=\"https://colab.research.google.com/assets/colab-badge.svg\" alt=\"Open In Colab\"/></a>"
   ]
  },
  {
   "cell_type": "markdown",
   "source": [
    "# Import Necessary Libraries"
   ],
   "metadata": {
    "id": "KyKpyURcOCs0"
   }
  },
  {
   "cell_type": "code",
   "execution_count": 1,
   "metadata": {
    "id": "kZXHlZn4MQF-",
    "colab": {
     "base_uri": "https://localhost:8080/"
    },
    "outputId": "fa3153f5-d7ef-4d82-a196-a35f30dcb954",
    "ExecuteTime": {
     "end_time": "2024-04-04T09:54:43.557062500Z",
     "start_time": "2024-04-04T09:54:43.195161Z"
    }
   },
   "outputs": [
    {
     "ename": "ModuleNotFoundError",
     "evalue": "No module named 'nltk'",
     "output_type": "error",
     "traceback": [
      "\u001B[1;31m---------------------------------------------------------------------------\u001B[0m",
      "\u001B[1;31mModuleNotFoundError\u001B[0m                       Traceback (most recent call last)",
      "Cell \u001B[1;32mIn[1], line 3\u001B[0m\n\u001B[0;32m      1\u001B[0m \u001B[38;5;28;01mimport\u001B[39;00m \u001B[38;5;21;01mpandas\u001B[39;00m \u001B[38;5;28;01mas\u001B[39;00m \u001B[38;5;21;01mpd\u001B[39;00m\n\u001B[0;32m      2\u001B[0m \u001B[38;5;28;01mimport\u001B[39;00m \u001B[38;5;21;01mnumpy\u001B[39;00m \u001B[38;5;28;01mas\u001B[39;00m \u001B[38;5;21;01mnp\u001B[39;00m\n\u001B[1;32m----> 3\u001B[0m \u001B[38;5;28;01mimport\u001B[39;00m \u001B[38;5;21;01mnltk\u001B[39;00m\n\u001B[0;32m      4\u001B[0m \u001B[38;5;28;01mfrom\u001B[39;00m \u001B[38;5;21;01mnltk\u001B[39;00m\u001B[38;5;21;01m.\u001B[39;00m\u001B[38;5;21;01mstem\u001B[39;00m\u001B[38;5;21;01m.\u001B[39;00m\u001B[38;5;21;01mporter\u001B[39;00m \u001B[38;5;28;01mimport\u001B[39;00m PorterStemmer\n\u001B[0;32m      5\u001B[0m \u001B[38;5;28;01mfrom\u001B[39;00m \u001B[38;5;21;01mgensim\u001B[39;00m\u001B[38;5;21;01m.\u001B[39;00m\u001B[38;5;21;01mmodels\u001B[39;00m \u001B[38;5;28;01mimport\u001B[39;00m Word2Vec\n",
      "\u001B[1;31mModuleNotFoundError\u001B[0m: No module named 'nltk'"
     ]
    }
   ],
   "source": [
    "import pandas as pd\n",
    "import numpy as np\n",
    "import nltk\n",
    "from nltk.stem.porter import PorterStemmer\n",
    "from gensim.models import Word2Vec\n",
    "from nltk.tokenize import word_tokenize\n",
    "from sklearn.metrics.pairwise import cosine_similarity\n",
    "import pickle\n",
    "import matplotlib.pyplot as plt\n",
    "import seaborn as sns\n",
    "from forex_python.converter import CurrencyRates\n",
    "\n",
    "nltk.download('punkt')"
   ]
  },
  {
   "cell_type": "markdown",
   "source": [
    "# Data Cleaning and Formatting"
   ],
   "metadata": {
    "id": "fElAM7IoOCHq"
   }
  },
  {
   "cell_type": "markdown",
   "source": [
    "**Load in the Data and Examine**"
   ],
   "metadata": {
    "id": "1bVSmuJTOIFJ"
   }
  },
  {
   "cell_type": "code",
   "source": [
    "df = pd.read_csv('laptops.csv')"
   ],
   "metadata": {
    "id": "2NDo3SZaOLSz",
    "ExecuteTime": {
     "end_time": "2024-04-04T09:54:43.706414500Z",
     "start_time": "2024-04-04T09:54:43.562065100Z"
    }
   },
   "execution_count": null,
   "outputs": []
  },
  {
   "cell_type": "code",
   "source": [
    "df.head(3)"
   ],
   "metadata": {
    "colab": {
     "base_uri": "https://localhost:8080/",
     "height": 424
    },
    "id": "BMuaTrWqOOOf",
    "outputId": "3c99f513-9ca5-47bb-fae4-bc7d5e400763",
    "ExecuteTime": {
     "start_time": "2024-04-04T09:54:43.563064300Z"
    }
   },
   "execution_count": null,
   "outputs": []
  },
  {
   "cell_type": "code",
   "source": [
    "df.shape"
   ],
   "metadata": {
    "colab": {
     "base_uri": "https://localhost:8080/"
    },
    "id": "DAfNsqCvOQQv",
    "outputId": "c7d41773-a210-4550-9163-0b2099aca232",
    "ExecuteTime": {
     "start_time": "2024-04-04T09:54:43.564066300Z"
    }
   },
   "execution_count": null,
   "outputs": []
  },
  {
   "cell_type": "code",
   "source": [
    "df"
   ],
   "metadata": {
    "id": "_MUGUyq-RSIT",
    "outputId": "a5e59088-cefd-4854-e981-7b0b5a7a466e",
    "colab": {
     "base_uri": "https://localhost:8080/",
     "height": 1000
    },
    "ExecuteTime": {
     "start_time": "2024-04-04T09:54:43.564066300Z"
    }
   },
   "execution_count": null,
   "outputs": []
  },
  {
   "cell_type": "markdown",
   "source": [
    "**Data Types and Missing Values**"
   ],
   "metadata": {
    "id": "5Cej65PyOSqN"
   }
  },
  {
   "cell_type": "code",
   "source": [
    "df.info()"
   ],
   "metadata": {
    "colab": {
     "base_uri": "https://localhost:8080/"
    },
    "id": "A5xwHJsMOTVn",
    "outputId": "2c5d76c8-45e9-452e-8636-2708240a0869",
    "ExecuteTime": {
     "start_time": "2024-04-04T09:54:43.565066800Z"
    }
   },
   "execution_count": null,
   "outputs": []
  },
  {
   "cell_type": "code",
   "source": [
    "df.isnull().sum()"
   ],
   "metadata": {
    "colab": {
     "base_uri": "https://localhost:8080/"
    },
    "id": "sDwixwAj3az3",
    "outputId": "f674b7cb-3404-4637-984b-2636f6068cf6",
    "ExecuteTime": {
     "start_time": "2024-04-04T09:54:43.568065Z"
    }
   },
   "execution_count": null,
   "outputs": []
  },
  {
   "cell_type": "markdown",
   "source": [
    "**Drop Columns and Null Values**"
   ],
   "metadata": {
    "id": "eeHzam2t3gt5"
   }
  },
  {
   "cell_type": "code",
   "source": [],
   "metadata": {
    "id": "teE8AlMv4qNB",
    "ExecuteTime": {
     "start_time": "2024-04-04T09:54:43.570064600Z"
    }
   },
   "execution_count": null,
   "outputs": []
  },
  {
   "cell_type": "code",
   "source": [],
   "metadata": {
    "id": "aT6vyPF_4u9w",
    "ExecuteTime": {
     "start_time": "2024-04-04T09:54:43.572065900Z"
    }
   },
   "execution_count": null,
   "outputs": []
  },
  {
   "cell_type": "code",
   "source": [
    "df = df.drop(['rating','no_of_ratings','no_of_reviews'], axis = 1)"
   ],
   "metadata": {
    "id": "hENzVMK55CQp",
    "ExecuteTime": {
     "start_time": "2024-04-04T09:54:43.575063700Z"
    }
   },
   "execution_count": null,
   "outputs": []
  },
  {
   "cell_type": "code",
   "source": [
    "df.head()"
   ],
   "metadata": {
    "colab": {
     "base_uri": "https://localhost:8080/",
     "height": 432
    },
    "id": "L3QLAZKr5ZU-",
    "outputId": "7cb92ebf-521c-4ef5-8141-fa56b7ebfe77",
    "ExecuteTime": {
     "start_time": "2024-04-04T09:54:43.578063800Z"
    }
   },
   "execution_count": null,
   "outputs": []
  },
  {
   "cell_type": "code",
   "source": [
    "df = df.dropna()"
   ],
   "metadata": {
    "id": "MME3hmrQ9amo",
    "ExecuteTime": {
     "start_time": "2024-04-04T09:54:43.581065400Z"
    }
   },
   "execution_count": null,
   "outputs": []
  },
  {
   "cell_type": "code",
   "source": [
    "df.isnull().sum()"
   ],
   "metadata": {
    "colab": {
     "base_uri": "https://localhost:8080/"
    },
    "id": "gT7Ixf0_9mQ9",
    "outputId": "65fbe57d-300b-4101-ace4-09bc9ea2917c",
    "ExecuteTime": {
     "start_time": "2024-04-04T09:54:43.584066700Z"
    }
   },
   "execution_count": null,
   "outputs": []
  },
  {
   "cell_type": "code",
   "source": [
    "df.nunique()"
   ],
   "metadata": {
    "colab": {
     "base_uri": "https://localhost:8080/"
    },
    "id": "MeqLaDFG9ef_",
    "outputId": "fc167bba-0631-477a-ddad-b4c5888c334a",
    "ExecuteTime": {
     "start_time": "2024-04-04T09:54:43.587068500Z"
    }
   },
   "execution_count": null,
   "outputs": []
  },
  {
   "cell_type": "code",
   "source": [
    "df.shape"
   ],
   "metadata": {
    "colab": {
     "base_uri": "https://localhost:8080/"
    },
    "id": "wHwZtplW9ft-",
    "outputId": "953bdeeb-3f8e-46e0-80b5-ff1522528b4e",
    "ExecuteTime": {
     "start_time": "2024-04-04T09:54:43.590066500Z"
    }
   },
   "execution_count": null,
   "outputs": []
  },
  {
   "cell_type": "markdown",
   "source": [],
   "metadata": {
    "id": "jxu00A7F3I3C"
   }
  },
  {
   "cell_type": "code",
   "source": [
    "df.duplicated().sum()"
   ],
   "metadata": {
    "colab": {
     "base_uri": "https://localhost:8080/"
    },
    "id": "X1HqCKxbOm-h",
    "outputId": "97a0cf86-a859-4fc2-e10b-0a0bdce104ce",
    "ExecuteTime": {
     "start_time": "2024-04-04T09:54:43.592065300Z"
    }
   },
   "execution_count": null,
   "outputs": []
  },
  {
   "cell_type": "code",
   "source": [
    "df.iloc[0].laptop_brand"
   ],
   "metadata": {
    "colab": {
     "base_uri": "https://localhost:8080/",
     "height": 35
    },
    "id": "up2CmPhmOoWm",
    "outputId": "4fd3ce4d-b615-4fef-a190-ab2b1f6da9d4",
    "ExecuteTime": {
     "start_time": "2024-04-04T09:54:43.595066400Z"
    }
   },
   "execution_count": null,
   "outputs": []
  },
  {
   "cell_type": "code",
   "execution_count": null,
   "outputs": [],
   "source": [],
   "metadata": {
    "collapsed": false,
    "ExecuteTime": {
     "start_time": "2024-04-04T09:54:43.598069Z"
    }
   }
  },
  {
   "cell_type": "code",
   "source": [
    "df.head(1)"
   ],
   "metadata": {
    "colab": {
     "base_uri": "https://localhost:8080/",
     "height": 115
    },
    "id": "EWzvZa3HOqNw",
    "outputId": "8495d0a2-a2a0-4f6b-9d8e-68952c1445b7",
    "ExecuteTime": {
     "start_time": "2024-04-04T09:54:43.602067800Z"
    }
   },
   "execution_count": null,
   "outputs": []
  },
  {
   "cell_type": "code",
   "source": [
    "df['processor'] = df['processor'].apply(lambda x:x.split())\n",
    "df['ram'] = df['ram'].apply(lambda x:x.split())\n",
    "df['os'] = df['os'].apply(lambda x:x.split())\n",
    "df['use'] = df['usecases'].apply(lambda x:x.split())"
   ],
   "metadata": {
    "id": "miIdjHbQOrxr",
    "ExecuteTime": {
     "start_time": "2024-04-04T09:54:43.605143100Z"
    }
   },
   "execution_count": null,
   "outputs": []
  },
  {
   "cell_type": "code",
   "source": [
    "df['tags'] = df['processor']+df['ram']+df['os']+df['use']"
   ],
   "metadata": {
    "id": "KdqS_2xEOtOr",
    "ExecuteTime": {
     "start_time": "2024-04-04T09:54:43.609145800Z"
    }
   },
   "execution_count": null,
   "outputs": []
  },
  {
   "cell_type": "code",
   "source": [
    "df.head(1)"
   ],
   "metadata": {
    "colab": {
     "base_uri": "https://localhost:8080/",
     "height": 188
    },
    "id": "vasP3baMO_iP",
    "outputId": "f14897d4-53b9-4160-bdce-f8bd1d0edada",
    "ExecuteTime": {
     "start_time": "2024-04-04T09:54:43.611148300Z"
    }
   },
   "execution_count": null,
   "outputs": []
  },
  {
   "cell_type": "code",
   "source": [
    "df.iloc[0].tags"
   ],
   "metadata": {
    "colab": {
     "base_uri": "https://localhost:8080/"
    },
    "id": "UIIJDxpbPA29",
    "outputId": "064ccd5b-d9e6-45e6-cc38-1d6cbd472e6d",
    "ExecuteTime": {
     "start_time": "2024-04-04T09:54:43.614144900Z"
    }
   },
   "execution_count": null,
   "outputs": []
  },
  {
   "cell_type": "code",
   "source": [
    "new = df.drop(columns=['processor','ram','os','storage','os_brand','processor_brand','use'])"
   ],
   "metadata": {
    "id": "p3AFOQUDPDLx",
    "ExecuteTime": {
     "start_time": "2024-04-04T09:54:43.617154800Z"
    }
   },
   "execution_count": null,
   "outputs": []
  },
  {
   "cell_type": "code",
   "source": [
    "new.head(2)"
   ],
   "metadata": {
    "colab": {
     "base_uri": "https://localhost:8080/",
     "height": 129
    },
    "id": "C3KrtTfZPGxN",
    "outputId": "d0826914-9d3e-43d4-fa0e-74dcf8f14476",
    "ExecuteTime": {
     "start_time": "2024-04-04T09:54:43.620146700Z"
    }
   },
   "execution_count": null,
   "outputs": []
  },
  {
   "cell_type": "code",
   "source": [
    "new['tags'] = new['tags'].apply(lambda x:\" \".join(x))"
   ],
   "metadata": {
    "id": "uxoQ7UE6PI4V",
    "ExecuteTime": {
     "start_time": "2024-04-04T09:54:43.624145400Z"
    }
   },
   "execution_count": null,
   "outputs": []
  },
  {
   "cell_type": "code",
   "source": [
    "new.iloc[0].tags"
   ],
   "metadata": {
    "colab": {
     "base_uri": "https://localhost:8080/",
     "height": 35
    },
    "id": "fV7KsOL1PNA3",
    "outputId": "afe34d3f-5345-414c-b2ab-9f7c111a646d",
    "ExecuteTime": {
     "start_time": "2024-04-04T09:54:43.625145800Z"
    }
   },
   "execution_count": null,
   "outputs": []
  },
  {
   "cell_type": "code",
   "source": [
    "new.head(2)"
   ],
   "metadata": {
    "colab": {
     "base_uri": "https://localhost:8080/",
     "height": 129
    },
    "id": "U2Kmw3MvPOWb",
    "outputId": "5d57782a-962b-415f-d0ed-d6ba7794b2cf",
    "ExecuteTime": {
     "start_time": "2024-04-04T09:54:43.627147500Z"
    }
   },
   "execution_count": null,
   "outputs": []
  },
  {
   "cell_type": "code",
   "source": [
    "ps = PorterStemmer()"
   ],
   "metadata": {
    "id": "hTsU8uBsPUj7",
    "ExecuteTime": {
     "start_time": "2024-04-04T09:54:43.628207600Z"
    }
   },
   "execution_count": null,
   "outputs": []
  },
  {
   "cell_type": "code",
   "source": [
    "def stem(text):\n",
    "    y=[]\n",
    "    for i in text.split():\n",
    "        y.append(ps.stem(i))\n",
    "\n",
    "    return \" \".join(y)"
   ],
   "metadata": {
    "id": "2oyIGBVIPWh0",
    "ExecuteTime": {
     "start_time": "2024-04-04T09:54:43.630246Z"
    }
   },
   "execution_count": null,
   "outputs": []
  },
  {
   "cell_type": "code",
   "source": [
    "new['tags'] = new['tags'].apply(stem)"
   ],
   "metadata": {
    "id": "KQikP8OGPXjY",
    "ExecuteTime": {
     "start_time": "2024-04-04T09:54:43.632240400Z"
    }
   },
   "execution_count": null,
   "outputs": []
  },
  {
   "cell_type": "code",
   "source": [
    "new.iloc[0].tags"
   ],
   "metadata": {
    "colab": {
     "base_uri": "https://localhost:8080/",
     "height": 35
    },
    "id": "gKeopllm6dj2",
    "outputId": "e9203943-eadf-4633-9cca-95442401e59b",
    "ExecuteTime": {
     "start_time": "2024-04-04T09:54:43.634315700Z"
    }
   },
   "execution_count": null,
   "outputs": []
  },
  {
   "cell_type": "code",
   "source": [
    "new.head(2)"
   ],
   "metadata": {
    "colab": {
     "base_uri": "https://localhost:8080/",
     "height": 129
    },
    "id": "wEGnmF91PY0S",
    "outputId": "09fd35f3-033d-4553-d671-53a7f6bcb69c",
    "ExecuteTime": {
     "start_time": "2024-04-04T09:54:43.635314700Z"
    }
   },
   "execution_count": null,
   "outputs": []
  },
  {
   "cell_type": "code",
   "execution_count": null,
   "outputs": [],
   "source": [
    "currency_rates = CurrencyRates()\n",
    "\n",
    "new['price'] = new['price'].apply(lambda x:currency_rates.convert(base_cur='INR',dest_cur='USD',amount=x))"
   ],
   "metadata": {
    "collapsed": false,
    "ExecuteTime": {
     "start_time": "2024-04-04T09:54:43.637315700Z"
    }
   }
  },
  {
   "cell_type": "code",
   "source": [
    "new['usecases'] = new['usecases'].str.replace(' Gaming','Gaming')\n",
    "new['usecases'] = new['usecases'].str.replace(' Business/Professional','Business/Professional')\n",
    "new['usecases'] = new['usecases'].str.replace(' Multimedia/Entertainment','IT')\n",
    "new['usecases'] = new['usecases'].str.replace(' Student/Education','Student/Education')\n",
    "new['usecases'] = new['usecases'].str.replace(' Creative/Design','Creative/Design')\n",
    "new['usecases'] = new['usecases'].str.replace(' Travel/On-the-go','Basic')\n",
    "new['usecases'] = new['usecases'].str.replace(' Home/Everyday use','Basic')\n",
    "new['usecases'] = new['usecases'].str.replace(' Programming/Development','IT')\n",
    "new['usecases'] = new['usecases'].str.replace(' Budget Friendly','Basic')\n",
    "new['usecases'] = new['usecases'].str.replace('Ultra-portable','IT')\n",
    "\n",
    "\n"
   ],
   "metadata": {
    "id": "F0oRIXGOAlwE",
    "ExecuteTime": {
     "start_time": "2024-04-04T09:54:43.640319900Z"
    }
   },
   "execution_count": null,
   "outputs": []
  },
  {
   "cell_type": "code",
   "source": [
    "new.groupby('usecases').size().plot(kind='barh', color=sns.palettes.mpl_palette('Dark2'))\n",
    "plt.gca().spines[['top', 'right',]].set_visible(False)"
   ],
   "metadata": {
    "colab": {
     "base_uri": "https://localhost:8080/",
     "height": 430
    },
    "id": "taz7CL_EyZ8u",
    "outputId": "41f0196d-dd03-4f9a-d840-ef809da3ee61",
    "ExecuteTime": {
     "start_time": "2024-04-04T09:54:43.642317500Z"
    }
   },
   "execution_count": null,
   "outputs": []
  },
  {
   "cell_type": "markdown",
   "source": [
    "# Vectorization"
   ],
   "metadata": {
    "id": "gYI1W09s6oOT"
   }
  },
  {
   "cell_type": "markdown",
   "source": [
    "**Word2Vec**"
   ],
   "metadata": {
    "id": "XzyZgRcX67Yg"
   }
  },
  {
   "cell_type": "code",
   "source": [
    "# Tokenize the tags\n",
    "new['tags_tokens'] = new['tags'].apply(word_tokenize)"
   ],
   "metadata": {
    "id": "CZcOEU1ZPc7y",
    "ExecuteTime": {
     "start_time": "2024-04-04T09:54:43.644320400Z"
    }
   },
   "execution_count": null,
   "outputs": []
  },
  {
   "cell_type": "code",
   "source": [
    "# Train the Word2Vec model\n",
    "model = Word2Vec(sentences=new['tags_tokens'], vector_size=100, window=5, min_count=1, workers=4)"
   ],
   "metadata": {
    "id": "TRl9ICIH7S6j",
    "ExecuteTime": {
     "start_time": "2024-04-04T09:54:43.646318500Z"
    }
   },
   "execution_count": null,
   "outputs": []
  },
  {
   "cell_type": "code",
   "source": [
    "# Get the Word2Vec vectors for each laptop\n",
    "word2vec_vectors = []\n",
    "for tags_tokens in new['tags_tokens']:\n",
    "    vectors = [model.wv[word] for word in tags_tokens if word in model.wv]\n",
    "    if vectors:\n",
    "        word2vec_vectors.append(np.mean(vectors, axis=0))\n",
    "    else:\n",
    "        word2vec_vectors.append(np.zeros(100))"
   ],
   "metadata": {
    "id": "i1WsOVYU7WOO",
    "ExecuteTime": {
     "start_time": "2024-04-04T09:54:43.648314500Z"
    }
   },
   "execution_count": null,
   "outputs": []
  },
  {
   "cell_type": "code",
   "source": [
    "word2vec_vectors = np.array(word2vec_vectors)"
   ],
   "metadata": {
    "id": "pRTEc1JK7Wak",
    "ExecuteTime": {
     "start_time": "2024-04-04T09:54:43.650316300Z"
    }
   },
   "execution_count": null,
   "outputs": []
  },
  {
   "cell_type": "markdown",
   "source": [
    "**Cosine Similarity**"
   ],
   "metadata": {
    "id": "I-b7TM617pxP"
   }
  },
  {
   "cell_type": "code",
   "source": [
    "word2vec_similarity = cosine_similarity(word2vec_vectors)"
   ],
   "metadata": {
    "id": "mvB3GPzo70Wf",
    "ExecuteTime": {
     "start_time": "2024-04-04T09:54:43.652321900Z"
    }
   },
   "execution_count": null,
   "outputs": []
  },
  {
   "cell_type": "code",
   "source": [
    "#Print the similarity of the first laptop with others\n",
    "print(word2vec_similarity[0])\n"
   ],
   "metadata": {
    "colab": {
     "base_uri": "https://localhost:8080/"
    },
    "id": "ogYuVDnEP1tX",
    "outputId": "5139a828-bd40-446e-a899-2b9f681ab31e",
    "ExecuteTime": {
     "start_time": "2024-04-04T09:54:43.653318500Z"
    }
   },
   "execution_count": null,
   "outputs": []
  },
  {
   "cell_type": "markdown",
   "source": [
    "# Recommendation"
   ],
   "metadata": {
    "id": "Ai1C-6WlxHGT"
   }
  },
  {
   "cell_type": "code",
   "source": [
    "# def recommends(laptop):\n",
    "#     index = new[new['usecases']==laptop].index[0]\n",
    "#     distances = sorted(list(enumerate(word2vec_similarity[index])), reverse=True, key = lambda x:x[1])\n",
    "#     for i in distances[1:10]:\n",
    "#         print(new.iloc[i[0]].price)"
   ],
   "metadata": {
    "id": "JTftgAbFP3LW",
    "ExecuteTime": {
     "start_time": "2024-04-04T09:54:43.655317100Z"
    }
   },
   "execution_count": null,
   "outputs": []
  },
  {
   "cell_type": "code",
   "source": [
    "def recommends():\n",
    "  use = input('Enter the Workfield :-')\n",
    "  index = new[new['usecases'] == use].index[0]\n",
    "  distances = sorted(list(enumerate(word2vec_similarity[index])), reverse=True, key=lambda x: x[1])\n",
    "  printed_names = set()\n",
    "  for i in distances[1:50]:\n",
    "    row_index = i[0]\n",
    "    name = new.iloc[row_index]['name']\n",
    "    price = new.iloc[row_index]['price']\n",
    "    if name not in printed_names:\n",
    "      printed_names.add(name)\n",
    "      print(name)\n",
    "      print(price)\n"
   ],
   "metadata": {
    "id": "781ob8BKP4gA",
    "ExecuteTime": {
     "start_time": "2024-04-04T09:54:43.656315700Z"
    }
   },
   "execution_count": null,
   "outputs": []
  },
  {
   "cell_type": "code",
   "source": [
    "# sorted(list(enumerate(word2vec_similarity[0])), reverse=True, key = lambda x:x[1])"
   ],
   "metadata": {
    "id": "1XDXNWHVP5Rw",
    "ExecuteTime": {
     "start_time": "2024-04-04T09:54:43.658315Z"
    }
   },
   "execution_count": null,
   "outputs": []
  },
  {
   "cell_type": "code",
   "source": [
    "recommends()"
   ],
   "metadata": {
    "colab": {
     "base_uri": "https://localhost:8080/"
    },
    "id": "2Iz5d9awP-Xp",
    "outputId": "97102067-502c-4fdd-c77c-2eabbbddc6eb",
    "ExecuteTime": {
     "start_time": "2024-04-04T09:54:43.661318100Z"
    }
   },
   "execution_count": null,
   "outputs": []
  },
  {
   "cell_type": "markdown",
   "source": [
    "# Export the Dataframe and the Model"
   ],
   "metadata": {
    "id": "v-2ukVN5xA1K"
   }
  },
  {
   "cell_type": "code",
   "source": [
    "pickle.dump(new, open('dataframe.pkl','wb'))\n",
    "pickle.dump(word2vec_similarity, open('word2vec_similarity.pkl','wb'))"
   ],
   "metadata": {
    "id": "QZFAwnFAv6iM",
    "ExecuteTime": {
     "start_time": "2024-04-04T09:54:43.663319600Z"
    }
   },
   "execution_count": null,
   "outputs": []
  },
  {
   "cell_type": "code",
   "source": [],
   "metadata": {
    "id": "R4G7-qUdwUrv",
    "ExecuteTime": {
     "start_time": "2024-04-04T09:54:43.665314900Z"
    }
   },
   "execution_count": null,
   "outputs": []
  }
 ]
}
