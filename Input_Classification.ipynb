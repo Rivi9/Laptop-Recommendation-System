{
  "nbformat": 4,
  "nbformat_minor": 0,
  "metadata": {
    "colab": {
      "provenance": [],
      "gpuType": "T4",
      "authorship_tag": "ABX9TyO2iejTFCSucNdS/+9G6tAa",
      "include_colab_link": true
    },
    "kernelspec": {
      "name": "python3",
      "display_name": "Python 3"
    },
    "language_info": {
      "name": "python"
    },
    "accelerator": "GPU"
  },
  "cells": [
    {
      "cell_type": "markdown",
      "metadata": {
        "id": "view-in-github",
        "colab_type": "text"
      },
      "source": [
        "<a href=\"https://colab.research.google.com/github/Rivi9/Laptop-Recommendation-System/blob/NLP-Model/Input_Classification.ipynb\" target=\"_parent\"><img src=\"https://colab.research.google.com/assets/colab-badge.svg\" alt=\"Open In Colab\"/></a>"
      ]
    },
    {
      "cell_type": "markdown",
      "source": [
        "##**Text Classification - FastText**"
      ],
      "metadata": {
        "id": "_PqzDd1YVNSr"
      }
    },
    {
      "cell_type": "markdown",
      "source": [
        "#### Install necessary libraries"
      ],
      "metadata": {
        "id": "4pGnLqbLV25Z"
      }
    },
    {
      "cell_type": "code",
      "execution_count": 48,
      "metadata": {
        "id": "C0OB_OuGove9",
        "colab": {
          "base_uri": "https://localhost:8080/"
        },
        "outputId": "d2672c37-6880-4d91-9a4a-8b0354c6c36f"
      },
      "outputs": [
        {
          "output_type": "stream",
          "name": "stdout",
          "text": [
            "Requirement already satisfied: fasttext in /usr/local/lib/python3.10/dist-packages (0.9.2)\n",
            "Requirement already satisfied: pybind11>=2.2 in /usr/local/lib/python3.10/dist-packages (from fasttext) (2.11.1)\n",
            "Requirement already satisfied: setuptools>=0.7.0 in /usr/local/lib/python3.10/dist-packages (from fasttext) (67.7.2)\n",
            "Requirement already satisfied: numpy in /usr/local/lib/python3.10/dist-packages (from fasttext) (1.25.2)\n"
          ]
        }
      ],
      "source": [
        "pip install fasttext"
      ]
    },
    {
      "cell_type": "markdown",
      "source": [
        "#### Import necessary libraries"
      ],
      "metadata": {
        "id": "qBCYErdOV7M7"
      }
    },
    {
      "cell_type": "code",
      "source": [
        "import re\n",
        "import nltk\n",
        "import fasttext\n",
        "import numpy as np\n",
        "import pandas as pd\n",
        "import seaborn as sns\n",
        "import matplotlib.pyplot as plt\n",
        "from nltk.corpus import stopwords\n",
        "from nltk.stem import PorterStemmer\n",
        "from nltk.tokenize import word_tokenize\n",
        "from sklearn.model_selection import train_test_split\n",
        "from sklearn.metrics import confusion_matrix, classification_report"
      ],
      "metadata": {
        "id": "JXsegQBBRVfV"
      },
      "execution_count": 49,
      "outputs": []
    },
    {
      "cell_type": "markdown",
      "source": [
        "#### Download necessary NLTK data"
      ],
      "metadata": {
        "id": "5lmG-m0QWD15"
      }
    },
    {
      "cell_type": "code",
      "source": [
        "nltk.download('punkt')"
      ],
      "metadata": {
        "colab": {
          "base_uri": "https://localhost:8080/"
        },
        "id": "oFFYmYUNWHi2",
        "outputId": "05ae8f46-31a0-4485-9cd8-360d12156cb6"
      },
      "execution_count": 50,
      "outputs": [
        {
          "output_type": "stream",
          "name": "stderr",
          "text": [
            "[nltk_data] Downloading package punkt to /root/nltk_data...\n",
            "[nltk_data]   Package punkt is already up-to-date!\n"
          ]
        },
        {
          "output_type": "execute_result",
          "data": {
            "text/plain": [
              "True"
            ]
          },
          "metadata": {},
          "execution_count": 50
        }
      ]
    },
    {
      "cell_type": "markdown",
      "source": [
        "#### Load the dataset"
      ],
      "metadata": {
        "id": "rXI-UAGlWSQa"
      }
    },
    {
      "cell_type": "code",
      "source": [
        "# Load the text classsification dataset\n",
        "df = pd.read_csv(\"/content/Inputs - Sheet1.csv\",names = [\"inputs\", \"category\"], header=None)\n",
        "print(df.shape)\n",
        "df.head(6)"
      ],
      "metadata": {
        "colab": {
          "base_uri": "https://localhost:8080/",
          "height": 255
        },
        "id": "HdJWn3CARhuM",
        "outputId": "969a492f-892d-4999-9db0-7e8c3f58ed02"
      },
      "execution_count": 51,
      "outputs": [
        {
          "output_type": "stream",
          "name": "stdout",
          "text": [
            "(3309, 2)\n"
          ]
        },
        {
          "output_type": "execute_result",
          "data": {
            "text/plain": [
              "                                inputs category\n",
              "0    senior technical support engineer       IT\n",
              "1                  head of it services       IT\n",
              "2                js front end engineer       IT\n",
              "3  privileged access management expert       IT\n",
              "4                     devops engineers       IT\n",
              "5                        data modeller       IT"
            ],
            "text/html": [
              "\n",
              "  <div id=\"df-e37f7b3f-684f-4700-a703-0378b680537a\" class=\"colab-df-container\">\n",
              "    <div>\n",
              "<style scoped>\n",
              "    .dataframe tbody tr th:only-of-type {\n",
              "        vertical-align: middle;\n",
              "    }\n",
              "\n",
              "    .dataframe tbody tr th {\n",
              "        vertical-align: top;\n",
              "    }\n",
              "\n",
              "    .dataframe thead th {\n",
              "        text-align: right;\n",
              "    }\n",
              "</style>\n",
              "<table border=\"1\" class=\"dataframe\">\n",
              "  <thead>\n",
              "    <tr style=\"text-align: right;\">\n",
              "      <th></th>\n",
              "      <th>inputs</th>\n",
              "      <th>category</th>\n",
              "    </tr>\n",
              "  </thead>\n",
              "  <tbody>\n",
              "    <tr>\n",
              "      <th>0</th>\n",
              "      <td>senior technical support engineer</td>\n",
              "      <td>IT</td>\n",
              "    </tr>\n",
              "    <tr>\n",
              "      <th>1</th>\n",
              "      <td>head of it services</td>\n",
              "      <td>IT</td>\n",
              "    </tr>\n",
              "    <tr>\n",
              "      <th>2</th>\n",
              "      <td>js front end engineer</td>\n",
              "      <td>IT</td>\n",
              "    </tr>\n",
              "    <tr>\n",
              "      <th>3</th>\n",
              "      <td>privileged access management expert</td>\n",
              "      <td>IT</td>\n",
              "    </tr>\n",
              "    <tr>\n",
              "      <th>4</th>\n",
              "      <td>devops engineers</td>\n",
              "      <td>IT</td>\n",
              "    </tr>\n",
              "    <tr>\n",
              "      <th>5</th>\n",
              "      <td>data modeller</td>\n",
              "      <td>IT</td>\n",
              "    </tr>\n",
              "  </tbody>\n",
              "</table>\n",
              "</div>\n",
              "    <div class=\"colab-df-buttons\">\n",
              "\n",
              "  <div class=\"colab-df-container\">\n",
              "    <button class=\"colab-df-convert\" onclick=\"convertToInteractive('df-e37f7b3f-684f-4700-a703-0378b680537a')\"\n",
              "            title=\"Convert this dataframe to an interactive table.\"\n",
              "            style=\"display:none;\">\n",
              "\n",
              "  <svg xmlns=\"http://www.w3.org/2000/svg\" height=\"24px\" viewBox=\"0 -960 960 960\">\n",
              "    <path d=\"M120-120v-720h720v720H120Zm60-500h600v-160H180v160Zm220 220h160v-160H400v160Zm0 220h160v-160H400v160ZM180-400h160v-160H180v160Zm440 0h160v-160H620v160ZM180-180h160v-160H180v160Zm440 0h160v-160H620v160Z\"/>\n",
              "  </svg>\n",
              "    </button>\n",
              "\n",
              "  <style>\n",
              "    .colab-df-container {\n",
              "      display:flex;\n",
              "      gap: 12px;\n",
              "    }\n",
              "\n",
              "    .colab-df-convert {\n",
              "      background-color: #E8F0FE;\n",
              "      border: none;\n",
              "      border-radius: 50%;\n",
              "      cursor: pointer;\n",
              "      display: none;\n",
              "      fill: #1967D2;\n",
              "      height: 32px;\n",
              "      padding: 0 0 0 0;\n",
              "      width: 32px;\n",
              "    }\n",
              "\n",
              "    .colab-df-convert:hover {\n",
              "      background-color: #E2EBFA;\n",
              "      box-shadow: 0px 1px 2px rgba(60, 64, 67, 0.3), 0px 1px 3px 1px rgba(60, 64, 67, 0.15);\n",
              "      fill: #174EA6;\n",
              "    }\n",
              "\n",
              "    .colab-df-buttons div {\n",
              "      margin-bottom: 4px;\n",
              "    }\n",
              "\n",
              "    [theme=dark] .colab-df-convert {\n",
              "      background-color: #3B4455;\n",
              "      fill: #D2E3FC;\n",
              "    }\n",
              "\n",
              "    [theme=dark] .colab-df-convert:hover {\n",
              "      background-color: #434B5C;\n",
              "      box-shadow: 0px 1px 3px 1px rgba(0, 0, 0, 0.15);\n",
              "      filter: drop-shadow(0px 1px 2px rgba(0, 0, 0, 0.3));\n",
              "      fill: #FFFFFF;\n",
              "    }\n",
              "  </style>\n",
              "\n",
              "    <script>\n",
              "      const buttonEl =\n",
              "        document.querySelector('#df-e37f7b3f-684f-4700-a703-0378b680537a button.colab-df-convert');\n",
              "      buttonEl.style.display =\n",
              "        google.colab.kernel.accessAllowed ? 'block' : 'none';\n",
              "\n",
              "      async function convertToInteractive(key) {\n",
              "        const element = document.querySelector('#df-e37f7b3f-684f-4700-a703-0378b680537a');\n",
              "        const dataTable =\n",
              "          await google.colab.kernel.invokeFunction('convertToInteractive',\n",
              "                                                    [key], {});\n",
              "        if (!dataTable) return;\n",
              "\n",
              "        const docLinkHtml = 'Like what you see? Visit the ' +\n",
              "          '<a target=\"_blank\" href=https://colab.research.google.com/notebooks/data_table.ipynb>data table notebook</a>'\n",
              "          + ' to learn more about interactive tables.';\n",
              "        element.innerHTML = '';\n",
              "        dataTable['output_type'] = 'display_data';\n",
              "        await google.colab.output.renderOutput(dataTable, element);\n",
              "        const docLink = document.createElement('div');\n",
              "        docLink.innerHTML = docLinkHtml;\n",
              "        element.appendChild(docLink);\n",
              "      }\n",
              "    </script>\n",
              "  </div>\n",
              "\n",
              "\n",
              "<div id=\"df-5d547fd8-dca9-4ac4-a4bb-40dd1e3f95a2\">\n",
              "  <button class=\"colab-df-quickchart\" onclick=\"quickchart('df-5d547fd8-dca9-4ac4-a4bb-40dd1e3f95a2')\"\n",
              "            title=\"Suggest charts\"\n",
              "            style=\"display:none;\">\n",
              "\n",
              "<svg xmlns=\"http://www.w3.org/2000/svg\" height=\"24px\"viewBox=\"0 0 24 24\"\n",
              "     width=\"24px\">\n",
              "    <g>\n",
              "        <path d=\"M19 3H5c-1.1 0-2 .9-2 2v14c0 1.1.9 2 2 2h14c1.1 0 2-.9 2-2V5c0-1.1-.9-2-2-2zM9 17H7v-7h2v7zm4 0h-2V7h2v10zm4 0h-2v-4h2v4z\"/>\n",
              "    </g>\n",
              "</svg>\n",
              "  </button>\n",
              "\n",
              "<style>\n",
              "  .colab-df-quickchart {\n",
              "      --bg-color: #E8F0FE;\n",
              "      --fill-color: #1967D2;\n",
              "      --hover-bg-color: #E2EBFA;\n",
              "      --hover-fill-color: #174EA6;\n",
              "      --disabled-fill-color: #AAA;\n",
              "      --disabled-bg-color: #DDD;\n",
              "  }\n",
              "\n",
              "  [theme=dark] .colab-df-quickchart {\n",
              "      --bg-color: #3B4455;\n",
              "      --fill-color: #D2E3FC;\n",
              "      --hover-bg-color: #434B5C;\n",
              "      --hover-fill-color: #FFFFFF;\n",
              "      --disabled-bg-color: #3B4455;\n",
              "      --disabled-fill-color: #666;\n",
              "  }\n",
              "\n",
              "  .colab-df-quickchart {\n",
              "    background-color: var(--bg-color);\n",
              "    border: none;\n",
              "    border-radius: 50%;\n",
              "    cursor: pointer;\n",
              "    display: none;\n",
              "    fill: var(--fill-color);\n",
              "    height: 32px;\n",
              "    padding: 0;\n",
              "    width: 32px;\n",
              "  }\n",
              "\n",
              "  .colab-df-quickchart:hover {\n",
              "    background-color: var(--hover-bg-color);\n",
              "    box-shadow: 0 1px 2px rgba(60, 64, 67, 0.3), 0 1px 3px 1px rgba(60, 64, 67, 0.15);\n",
              "    fill: var(--button-hover-fill-color);\n",
              "  }\n",
              "\n",
              "  .colab-df-quickchart-complete:disabled,\n",
              "  .colab-df-quickchart-complete:disabled:hover {\n",
              "    background-color: var(--disabled-bg-color);\n",
              "    fill: var(--disabled-fill-color);\n",
              "    box-shadow: none;\n",
              "  }\n",
              "\n",
              "  .colab-df-spinner {\n",
              "    border: 2px solid var(--fill-color);\n",
              "    border-color: transparent;\n",
              "    border-bottom-color: var(--fill-color);\n",
              "    animation:\n",
              "      spin 1s steps(1) infinite;\n",
              "  }\n",
              "\n",
              "  @keyframes spin {\n",
              "    0% {\n",
              "      border-color: transparent;\n",
              "      border-bottom-color: var(--fill-color);\n",
              "      border-left-color: var(--fill-color);\n",
              "    }\n",
              "    20% {\n",
              "      border-color: transparent;\n",
              "      border-left-color: var(--fill-color);\n",
              "      border-top-color: var(--fill-color);\n",
              "    }\n",
              "    30% {\n",
              "      border-color: transparent;\n",
              "      border-left-color: var(--fill-color);\n",
              "      border-top-color: var(--fill-color);\n",
              "      border-right-color: var(--fill-color);\n",
              "    }\n",
              "    40% {\n",
              "      border-color: transparent;\n",
              "      border-right-color: var(--fill-color);\n",
              "      border-top-color: var(--fill-color);\n",
              "    }\n",
              "    60% {\n",
              "      border-color: transparent;\n",
              "      border-right-color: var(--fill-color);\n",
              "    }\n",
              "    80% {\n",
              "      border-color: transparent;\n",
              "      border-right-color: var(--fill-color);\n",
              "      border-bottom-color: var(--fill-color);\n",
              "    }\n",
              "    90% {\n",
              "      border-color: transparent;\n",
              "      border-bottom-color: var(--fill-color);\n",
              "    }\n",
              "  }\n",
              "</style>\n",
              "\n",
              "  <script>\n",
              "    async function quickchart(key) {\n",
              "      const quickchartButtonEl =\n",
              "        document.querySelector('#' + key + ' button');\n",
              "      quickchartButtonEl.disabled = true;  // To prevent multiple clicks.\n",
              "      quickchartButtonEl.classList.add('colab-df-spinner');\n",
              "      try {\n",
              "        const charts = await google.colab.kernel.invokeFunction(\n",
              "            'suggestCharts', [key], {});\n",
              "      } catch (error) {\n",
              "        console.error('Error during call to suggestCharts:', error);\n",
              "      }\n",
              "      quickchartButtonEl.classList.remove('colab-df-spinner');\n",
              "      quickchartButtonEl.classList.add('colab-df-quickchart-complete');\n",
              "    }\n",
              "    (() => {\n",
              "      let quickchartButtonEl =\n",
              "        document.querySelector('#df-5d547fd8-dca9-4ac4-a4bb-40dd1e3f95a2 button');\n",
              "      quickchartButtonEl.style.display =\n",
              "        google.colab.kernel.accessAllowed ? 'block' : 'none';\n",
              "    })();\n",
              "  </script>\n",
              "</div>\n",
              "\n",
              "    </div>\n",
              "  </div>\n"
            ],
            "application/vnd.google.colaboratory.intrinsic+json": {
              "type": "dataframe",
              "variable_name": "df",
              "summary": "{\n  \"name\": \"df\",\n  \"rows\": 3309,\n  \"fields\": [\n    {\n      \"column\": \"inputs\",\n      \"properties\": {\n        \"dtype\": \"string\",\n        \"num_unique_values\": 3227,\n        \"samples\": [\n          \"digital product owner\",\n          \"senior it support engineer\",\n          \"graduate marketing associate\"\n        ],\n        \"semantic_type\": \"\",\n        \"description\": \"\"\n      }\n    },\n    {\n      \"column\": \"category\",\n      \"properties\": {\n        \"dtype\": \"category\",\n        \"num_unique_values\": 6,\n        \"samples\": [\n          \"IT\",\n          \"Creative_Design\",\n          \"Gaming\"\n        ],\n        \"semantic_type\": \"\",\n        \"description\": \"\"\n      }\n    }\n  ]\n}"
            }
          },
          "metadata": {},
          "execution_count": 51
        }
      ]
    },
    {
      "cell_type": "code",
      "source": [
        "# Drop NA values\n",
        "df.dropna(inplace=True)"
      ],
      "metadata": {
        "id": "BoZzWFeJSnzm"
      },
      "execution_count": 52,
      "outputs": []
    },
    {
      "cell_type": "code",
      "source": [
        "# Identify the unique categories\n",
        "df.category.unique()"
      ],
      "metadata": {
        "colab": {
          "base_uri": "https://localhost:8080/"
        },
        "id": "r3Dn1NibStmN",
        "outputId": "dedde1e3-de5f-4116-8f3a-b296e2ef41a4"
      },
      "execution_count": 53,
      "outputs": [
        {
          "output_type": "execute_result",
          "data": {
            "text/plain": [
              "array(['IT', 'Creative_Design', 'Business_Professional', 'Basic',\n",
              "       'Student_Education', 'Gaming'], dtype=object)"
            ]
          },
          "metadata": {},
          "execution_count": 53
        }
      ]
    },
    {
      "cell_type": "code",
      "source": [
        "# Number of records belonging to each category\n",
        "category_counts = df[\"category\"].value_counts()\n",
        "print(category_counts)"
      ],
      "metadata": {
        "colab": {
          "base_uri": "https://localhost:8080/"
        },
        "id": "xlj683h0S1nr",
        "outputId": "0920b721-0fa8-4076-b08c-471defb588d8"
      },
      "execution_count": 54,
      "outputs": [
        {
          "output_type": "stream",
          "name": "stdout",
          "text": [
            "IT                       1288\n",
            "Business_Professional     938\n",
            "Student_Education         729\n",
            "Gaming                    142\n",
            "Basic                     111\n",
            "Creative_Design           101\n",
            "Name: category, dtype: int64\n"
          ]
        }
      ]
    },
    {
      "cell_type": "markdown",
      "source": [
        "#### Preprocess the text data\n",
        "\n",
        "*   Removing punctuation\n",
        "*   Convert to lowercase\n",
        "*   Remove extra spaces\n",
        "*   Tokenize\n",
        "*   Remove stopwords\n",
        "*   Perform stemming"
      ],
      "metadata": {
        "id": "bFCWS8y1Xq73"
      }
    },
    {
      "cell_type": "code",
      "source": [
        "# Combine label and inputsth a preprocessing step\n",
        "df['category'] = '__label__' + df['category'].astype(str)\n",
        "\n",
        "def preprocess_with_stemming(text):\n",
        "    # Remove punctuation and make lowercase\n",
        "    text = re.sub(r'[^\\w\\s]', '', text).lower()\n",
        "    # Remove extra spaces\n",
        "    text = re.sub(' +', ' ', text)\n",
        "    # Tokenization\n",
        "    word_tokens = word_tokenize(text)\n",
        "    return ' '.join(word_tokens)\n",
        "\n",
        "# def preprocess_with_stemming(text):\n",
        "#     # Initialize the Porter Stemmer\n",
        "#     stemmer = PorterStemmer()\n",
        "\n",
        "#     # Remove punctuation and make lowercase\n",
        "#     text = re.sub(r'[^\\w\\s]', '', text).lower()\n",
        "\n",
        "#     # Remove extra spaces\n",
        "#     text = re.sub(' +', ' ', text)\n",
        "\n",
        "#     # Tokenization\n",
        "#     word_tokens = word_tokenize(text)\n",
        "\n",
        "#     # Stemming and join the words back into a string\n",
        "#     stemmed_words = [stemmer.stem(word) for word in word_tokens]\n",
        "#     return ' '.join(stemmed_words)\n",
        "\n",
        "df['sentence_description'] = df['category'] + ' ' + df['inputs'].map(preprocess_with_stemming)"
      ],
      "metadata": {
        "id": "n4CAZpvsS5Eo"
      },
      "execution_count": 55,
      "outputs": []
    },
    {
      "cell_type": "markdown",
      "source": [
        "#### Split data for training and testing - 20%"
      ],
      "metadata": {
        "id": "AOecI4bkYO5P"
      }
    },
    {
      "cell_type": "code",
      "source": [
        "# Split data for training and testing\n",
        "train, test = train_test_split(df, test_size=0.2, random_state=40)\n",
        "\n",
        "# Save training and testing data to files\n",
        "train.to_csv(\"laptop.train\", columns=[\"sentence_description\"], index=False, header=False)\n",
        "test.to_csv(\"laptop.test\", columns=[\"sentence_description\"], index=False, header=False)"
      ],
      "metadata": {
        "id": "yW0DtawDTjp3"
      },
      "execution_count": 56,
      "outputs": []
    },
    {
      "cell_type": "markdown",
      "source": [
        "#### Train the FastText model"
      ],
      "metadata": {
        "id": "VuqZyWPGYdC0"
      }
    },
    {
      "cell_type": "code",
      "source": [
        "# Train the FastText model\n",
        "model = fasttext.train_supervised(input=\"laptop.train\", lr=0.5, epoch=25, wordNgrams=2, minCount=1)"
      ],
      "metadata": {
        "id": "SPf_ceKgTniN"
      },
      "execution_count": 57,
      "outputs": []
    },
    {
      "cell_type": "markdown",
      "source": [
        "#### Evaluate model performance"
      ],
      "metadata": {
        "id": "nQ3F0EiUYolM"
      }
    },
    {
      "cell_type": "code",
      "source": [
        "# Evaluate and print model performance\n",
        "print(model.test(\"laptop.test\"))"
      ],
      "metadata": {
        "colab": {
          "base_uri": "https://localhost:8080/"
        },
        "id": "MWEszahgTq_8",
        "outputId": "eec1727b-c9bf-4ddb-d627-21f33066ea92"
      },
      "execution_count": 58,
      "outputs": [
        {
          "output_type": "stream",
          "name": "stdout",
          "text": [
            "(662, 0.850453172205438, 0.850453172205438)\n"
          ]
        }
      ]
    },
    {
      "cell_type": "markdown",
      "source": [
        "#### Confusion matrix and Classification report"
      ],
      "metadata": {
        "id": "hskUUDBHY6wj"
      }
    },
    {
      "cell_type": "code",
      "source": [
        "# Load the test data\n",
        "test_df = pd.read_csv(\"laptop.test\", names=[\"sentence_description\"])\n",
        "\n",
        "# Separate the labels and inputs\n",
        "test_df[['true_labels', 'inputs']] = test_df['sentence_description'].str.split(' ', 1, expand=True)\n",
        "\n",
        "# Preprocess the inputs in the test set\n",
        "test_df['processed_inputs'] = test_df['inputs'].apply(lambda x: preprocess_with_stemming(x))\n",
        "\n",
        "# Predict labels for the test set inputs\n",
        "predictions = test_df['processed_inputs'].apply(lambda sentence: model.predict(sentence)[0][0])\n",
        "\n",
        "# Since predictions are returned as tuples, extract the first element which is the predicted label\n",
        "test_df['predicted_labels'] = predictions\n",
        "\n",
        "# Extract the labels (removing the '__label__' prefix for comparison and reporting)\n",
        "test_df['true_labels'] = test_df['true_labels'].str.replace('__label__', '')\n",
        "test_df['predicted_labels'] = test_df['predicted_labels'].str.replace('__label__', '')\n",
        "\n",
        "# Generate and print the confusion matrix\n",
        "labels = np.unique(test_df['true_labels'])\n",
        "conf_matrix = confusion_matrix(test_df['true_labels'], test_df['predicted_labels'], labels=labels)\n",
        "print(\"Confusion Matrix:\")\n",
        "print(conf_matrix)\n",
        "\n",
        "# Generate and print the classification report\n",
        "print(\"\\nClassification Report:\")\n",
        "print(classification_report(test_df['true_labels'], test_df['predicted_labels'], labels=labels))\n",
        "\n",
        "# Plot confusion matrix\n",
        "plt.figure(figsize=(10, 7))\n",
        "sns.heatmap(conf_matrix, annot=True, fmt='g', cmap='Blues', xticklabels=labels, yticklabels=labels)\n",
        "plt.xlabel('Predicted labels')\n",
        "plt.ylabel('True labels')\n",
        "plt.title('Confusion Matrix')\n",
        "plt.show()"
      ],
      "metadata": {
        "colab": {
          "base_uri": "https://localhost:8080/",
          "height": 1000
        },
        "id": "Dg2qbiD2Uh-Z",
        "outputId": "33e9b8dd-4cf9-4b5a-9a2f-bf95e47f0a2a"
      },
      "execution_count": 59,
      "outputs": [
        {
          "output_type": "stream",
          "name": "stdout",
          "text": [
            "Confusion Matrix:\n",
            "[[ 14   5   0   0   1   6]\n",
            " [  0 180   0   0  12  10]\n",
            " [  0   3  18   0   2   0]\n",
            " [  0   0   0  22   0   9]\n",
            " [  0  23   0   0 205   1]\n",
            " [  3  15   0   0   9 124]]\n",
            "\n",
            "Classification Report:\n",
            "                       precision    recall  f1-score   support\n",
            "\n",
            "                Basic       0.82      0.54      0.65        26\n",
            "Business_Professional       0.80      0.89      0.84       202\n",
            "      Creative_Design       1.00      0.78      0.88        23\n",
            "               Gaming       1.00      0.71      0.83        31\n",
            "                   IT       0.90      0.90      0.90       229\n",
            "    Student_Education       0.83      0.82      0.82       151\n",
            "\n",
            "             accuracy                           0.85       662\n",
            "            macro avg       0.89      0.77      0.82       662\n",
            "         weighted avg       0.86      0.85      0.85       662\n",
            "\n"
          ]
        },
        {
          "output_type": "stream",
          "name": "stderr",
          "text": [
            "<ipython-input-59-ec9969ec9ea8>:5: FutureWarning: In a future version of pandas all arguments of StringMethods.split except for the argument 'pat' will be keyword-only.\n",
            "  test_df[['true_labels', 'inputs']] = test_df['sentence_description'].str.split(' ', 1, expand=True)\n"
          ]
        },
        {
          "output_type": "display_data",
          "data": {
            "text/plain": [
              "<Figure size 1000x700 with 2 Axes>"
            ],
            "image/png": "[encoded data removed]"
          },
          "metadata": {}
        }
      ]
    },
    {
      "cell_type": "markdown",
      "source": [
        "#### Test with custom inputs"
      ],
      "metadata": {
        "id": "9CIXBo8odewx"
      }
    },
    {
      "cell_type": "code",
      "source": [
        "# function for preprocessing individual inputs\n",
        "def preprocess_input(input):\n",
        "    # Preprocess the input\n",
        "    preprocessed_title = preprocess_with_stemming(input)  # Use the same preprocessing function used for training\n",
        "    return preprocessed_title\n",
        "\n",
        "# List of inputs to test\n",
        "inputs_to_test = [\"Software Engineer\", \"Graphic Designer\", \"Marketing lead\",\n",
        "                      \"ml lecturer\", \"computer science\", \"event planner\",\n",
        "                      \"primary educator\", \"UX/UI designer\", \"accounts assistant\",\n",
        "                      \"project lead\", \"intern finance analyst\"]\n",
        "\n",
        "\n",
        "# Preprocess the inputs\n",
        "preprocessed_titles = [preprocess_input(title) for title in inputs_to_test]\n",
        "\n",
        "# Predict categories for the preprocessed inputs\n",
        "for title in preprocessed_titles:\n",
        "    prediction = model.predict(title)\n",
        "    print(f\"input: {title}, Predicted Category: {prediction[0][0].replace('__label__', '')}\")\n"
      ],
      "metadata": {
        "colab": {
          "base_uri": "https://localhost:8080/"
        },
        "id": "KcCHaRlsUlC9",
        "outputId": "df4a441d-4917-49d6-bdb7-9e0b6b97551d"
      },
      "execution_count": 60,
      "outputs": [
        {
          "output_type": "stream",
          "name": "stdout",
          "text": [
            "input: software engineer, Predicted Category: IT\n",
            "input: graphic designer, Predicted Category: Creative_Design\n",
            "input: marketing lead, Predicted Category: Business_Professional\n",
            "input: ml lecturer, Predicted Category: IT\n",
            "input: computer science, Predicted Category: IT\n",
            "input: event planner, Predicted Category: Basic\n",
            "input: primary educator, Predicted Category: Student_Education\n",
            "input: uxui designer, Predicted Category: Creative_Design\n",
            "input: accounts assistant, Predicted Category: Business_Professional\n",
            "input: project lead, Predicted Category: IT\n",
            "input: intern finance analyst, Predicted Category: IT\n"
          ]
        }
      ]
    },
    {
      "cell_type": "markdown",
      "source": [
        "#### Save the trained model"
      ],
      "metadata": {
        "id": "le_9mYDPhCq5"
      }
    },
    {
      "cell_type": "code",
      "source": [
        "# model.save_model(\"input_classificationNew.bin\")"
      ],
      "metadata": {
        "id": "wzdvblhqUnl6"
      },
      "execution_count": 61,
      "outputs": []
    }
  ]
}