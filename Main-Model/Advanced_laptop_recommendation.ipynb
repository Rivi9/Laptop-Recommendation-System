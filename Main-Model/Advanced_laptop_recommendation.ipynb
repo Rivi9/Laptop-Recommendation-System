{
 "cells": [
  {
   "cell_type": "code",
   "execution_count": 8,
   "outputs": [
    {
     "name": "stdout",
     "output_type": "stream",
     "text": [
      "Unnamed: 0                               1\n",
      "laptop_ID                                2\n",
      "Company                              Apple\n",
      "Product                        Macbook Air\n",
      "TypeName                         Ultrabook\n",
      "Inches                                13.3\n",
      "ScreenResolution                  1440x900\n",
      "Cpu                   Intel Core i5 1.8GHz\n",
      "Ram                                    8GB\n",
      "Memory                 128GB Flash Storage\n",
      "Gpu                 Intel HD Graphics 6000\n",
      "OpSys                                macOS\n",
      "Weight                              1.34kg\n",
      "Price_euros                         898.94\n",
      "Name: 1, dtype: object\n"
     ]
    }
   ],
   "source": [
    "#import spacy\n",
    "import pandas as pd\n",
    "\n",
    "# Load English tokenizer, tagger, parser, NER, and word vectors\n",
    "# nlp = spacy.load(\"en_core_web_sm\")\n",
    "\n",
    "# Load laptop data from CSV\n",
    "laptops_df = pd.read_csv(\"laptop_price.csv\")\n",
    "\n",
    "# def preprocess_text(text):\n",
    "#     \"\"\"Preprocess the text using spaCy.\"\"\"\n",
    "#     doc = nlp(text)\n",
    "#     # Extract price, RAM, and GPU information\n",
    "#     price = None\n",
    "#     ram = None\n",
    "#     gpu = None\n",
    "#     for token in doc:\n",
    "#         if token.text.lower() == 'price':\n",
    "#             price = next(doc[token.i + 1].like_num, None)\n",
    "#         elif token.text.lower() == 'ram':\n",
    "#             ram = next(doc[token.i + 1].like_num, None)\n",
    "#         elif token.text.lower() == 'gpu':\n",
    "#             gpu = next(doc[token.i + 1].like_num, None)\n",
    "#     return price, ram, gpu\n",
    "\n",
    "def recommend_laptop(price, ram, gpu):\n",
    "    \"\"\"Recommend a laptop based on price, RAM, and GPU.\"\"\"\n",
    "    # Filter laptops based on user input\n",
    "    filtered_laptops = laptops_df\n",
    "    if price:\n",
    "        filtered_laptops = filtered_laptops[filtered_laptops['Price_euros'] <= price]\n",
    "    if ram:\n",
    "        filtered_laptops = filtered_laptops[filtered_laptops['Ram'] >= ram]\n",
    "    if gpu:\n",
    "        filtered_laptops = filtered_laptops[filtered_laptops['Gpu'] == gpu]\n",
    "\n",
    "    # Sort laptops by price and return the top recommendation\n",
    "    if not filtered_laptops.empty:\n",
    "        return filtered_laptops.sort_values(by='Price_euros').iloc[0]\n",
    "    else:\n",
    "        return \"No laptops match the specified criteria.\"\n",
    "\n",
    "# Sample inputs\n",
    "# sample_text = \"I want a laptop with price around $1000, 16GB RAM, and Nvidia GPU.\"\n",
    "# sample_price, sample_ram, sample_gpu = preprocess_text(sample_text)\n",
    "\n",
    "sample_price = 900\n",
    "sample_ram = \"8GB\"\n",
    "sample_gpu = \"Intel HD Graphics 6000\"\n",
    "\n",
    "\n",
    "\n",
    "# Recommend a laptop based on sample inputs\n",
    "recommendation = recommend_laptop(sample_price, sample_ram, sample_gpu)\n",
    "print(recommendation)\n"
   ],
   "metadata": {
    "collapsed": false,
    "ExecuteTime": {
     "end_time": "2024-02-26T03:24:51.881607600Z",
     "start_time": "2024-02-26T03:24:51.811564100Z"
    }
   },
   "id": "8eece3920f9cdf7d"
  },
  {
   "cell_type": "code",
   "execution_count": null,
   "outputs": [],
   "source": [],
   "metadata": {
    "collapsed": false
   },
   "id": "34930307c488c922"
  }
 ],
 "metadata": {
  "kernelspec": {
   "display_name": "Python 3",
   "language": "python",
   "name": "python3"
  },
  "language_info": {
   "codemirror_mode": {
    "name": "ipython",
    "version": 2
   },
   "file_extension": ".py",
   "mimetype": "text/x-python",
   "name": "python",
   "nbconvert_exporter": "python",
   "pygments_lexer": "ipython2",
   "version": "2.7.6"
  }
 },
 "nbformat": 4,
 "nbformat_minor": 5
}
