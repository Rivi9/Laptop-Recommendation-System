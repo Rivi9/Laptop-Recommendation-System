{
 "cells": [
  {
   "cell_type": "code",
   "execution_count": 23,
   "outputs": [
    {
     "name": "stdout",
     "output_type": "stream",
     "text": [
      "9\n",
      "Unnamed: 0.1                                964\n",
      "Unnamed: 0                                  964\n",
      "laptop_ID                                   978\n",
      "Company                                      HP\n",
      "Product                             ProBook 450\n",
      "TypeName                               Notebook\n",
      "Inches                                     15.6\n",
      "ScreenResolution                       1366x768\n",
      "Cpu                 Intel Core i5 7200U 2.50GHz\n",
      "Ram                                           8\n",
      "Memory                                  1TB HDD\n",
      "Gpu                        Nvidia GeForce 930MX\n",
      "OpSys                                Windows 10\n",
      "Weight                                   2.04kg\n",
      "Price_euros                               846.5\n",
      "Name: 964, dtype: object\n"
     ]
    }
   ],
   "source": [
    "import spacy\n",
    "import pandas as pd\n",
    "\n",
    "# Load laptop data from CSV\n",
    "laptops_df = pd.read_csv(\"laptops_cleaned.csv\")\n",
    "nlp = spacy.load(\"en_core_web_lg\")\n",
    "\n",
    "def preprocess_text(text):\n",
    "    \"\"\"Preprocess the text using spaCy.\"\"\"\n",
    "    doc = nlp(text)\n",
    "    # Extract price, RAM, and GPU information\n",
    "    price = None\n",
    "    ram = None\n",
    "    gpu = None\n",
    "    # Initialize variables to store the words between \"and\" and \"GPU\"\n",
    "    words_between = []\n",
    "    # Iterate through tokens in the document\n",
    "    for i, token in enumerate(doc):\n",
    "        # Check if the token text is 'price'\n",
    "        if token.text.lower() == '$':\n",
    "            # Check if the next token resembles a number\n",
    "            if i + 1 < len(doc) and doc[i + 1].like_num:\n",
    "                # Extract the numerical value of the next token\n",
    "                price = float(doc[i + 1].text)\n",
    "        elif token.text.lower() == 'gb':\n",
    "            # Check if the next token resembles a number\n",
    "            if i + 1 < len(doc) and doc[i - 1].like_num:\n",
    "                # Extract the numerical value of the next token\n",
    "                ram = int(doc[i - 1].text)\n",
    "\n",
    "        # Check if the token text is 'nvidia' or 'amd'\n",
    "        if token.text.lower() in ['nvidia', 'amd', 'intel']:\n",
    "            words_between.append(token.text)\n",
    "            for j in range(i + 1, len(doc)):\n",
    "                if doc[j].text.lower() in [\".\", \"and\", \"gpu\", \",\"]:\n",
    "                    break\n",
    "                else:\n",
    "                    words_between.append(doc[j].text)\n",
    "\n",
    "    # Convert the list of words between 'and' and 'GPU' to a string\n",
    "    gpu = ' '.join(words_between)\n",
    "    return price, ram, gpu\n",
    "\n",
    "def recommend_laptop(price, ram, gpu):\n",
    "    \"\"\"Recommend a laptop based on price, RAM, and GPU.\"\"\"\n",
    "    # Filter laptops based on user input\n",
    "    filtered_laptops = laptops_df\n",
    "    if price:\n",
    "        filtered_laptops = filtered_laptops[filtered_laptops['Price_euros'] <= price]\n",
    "    if ram:\n",
    "        filtered_laptops = filtered_laptops[filtered_laptops['Ram'] >= ram]\n",
    "    if gpu:\n",
    "        filtered_laptops = filtered_laptops[filtered_laptops['Gpu'] == gpu]\n",
    "    print(len(filtered_laptops))\n",
    "    # Sort laptops by price and return the top recommendation\n",
    "    if not filtered_laptops.empty:\n",
    "        return filtered_laptops.sort_values(by='Price_euros').iloc[0]\n",
    "        #return filtered_laptops\n",
    "    else:\n",
    "        return \"No laptops match the specified criteria.\"\n",
    "\n",
    "sample_text = \"I want a laptop with a ram of 8GB, around $1000 and Nvidia GeForce 930MX gpu\"\n",
    "sample_price, sample_ram, sample_gpu = preprocess_text(sample_text)\n",
    "\n",
    "# Recommend a laptop based on sample inputs\n",
    "recommendation = recommend_laptop(sample_price, sample_ram, sample_gpu)\n",
    "print(recommendation)"
   ],
   "metadata": {
    "collapsed": false,
    "ExecuteTime": {
     "end_time": "2024-02-27T11:22:06.862602100Z",
     "start_time": "2024-02-27T11:22:05.346340400Z"
    }
   },
   "id": "8eece3920f9cdf7d"
  },
  {
   "cell_type": "code",
   "execution_count": 19,
   "outputs": [],
   "source": [],
   "metadata": {
    "collapsed": false,
    "ExecuteTime": {
     "end_time": "2024-02-27T11:18:37.283206200Z",
     "start_time": "2024-02-27T11:18:37.281703Z"
    }
   },
   "id": "34930307c488c922"
  }
 ],
 "metadata": {
  "kernelspec": {
   "display_name": "Python 3",
   "language": "python",
   "name": "python3"
  },
  "language_info": {
   "codemirror_mode": {
    "name": "ipython",
    "version": 2
   },
   "file_extension": ".py",
   "mimetype": "text/x-python",
   "name": "python",
   "nbconvert_exporter": "python",
   "pygments_lexer": "ipython2",
   "version": "2.7.6"
  }
 },
 "nbformat": 4,
 "nbformat_minor": 5
}
