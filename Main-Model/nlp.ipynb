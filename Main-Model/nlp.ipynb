{
 "cells": [
  {
   "cell_type": "code",
   "execution_count": null,
   "outputs": [
    {
     "name": "stdout",
     "output_type": "stream",
     "text": [
      "Requirement already satisfied: spacy in c:\\users\\yeran\\anaconda3\\lib\\site-packages (3.7.2)\n",
      "Collecting spacy\n",
      "  Obtaining dependency information for spacy from https://files.pythonhosted.org/packages/92/fb/d1f0605e1e8627226c6c96053fe1632e9a04a3fbcd8b5d715528cb95eb97/spacy-3.7.4-cp311-cp311-win_amd64.whl.metadata\n",
      "  Downloading spacy-3.7.4-cp311-cp311-win_amd64.whl.metadata (27 kB)\n",
      "Requirement already satisfied: spacy-legacy<3.1.0,>=3.0.11 in c:\\users\\yeran\\anaconda3\\lib\\site-packages (from spacy) (3.0.12)\n",
      "Requirement already satisfied: spacy-loggers<2.0.0,>=1.0.0 in c:\\users\\yeran\\anaconda3\\lib\\site-packages (from spacy) (1.0.4)\n",
      "Requirement already satisfied: murmurhash<1.1.0,>=0.28.0 in c:\\users\\yeran\\anaconda3\\lib\\site-packages (from spacy) (1.0.7)\n",
      "Requirement already satisfied: cymem<2.1.0,>=2.0.2 in c:\\users\\yeran\\anaconda3\\lib\\site-packages (from spacy) (2.0.6)\n",
      "Requirement already satisfied: preshed<3.1.0,>=3.0.2 in c:\\users\\yeran\\anaconda3\\lib\\site-packages (from spacy) (3.0.6)\n",
      "Requirement already satisfied: thinc<8.3.0,>=8.2.2 in c:\\users\\yeran\\anaconda3\\lib\\site-packages (from spacy) (8.2.2)\n",
      "Requirement already satisfied: wasabi<1.2.0,>=0.9.1 in c:\\users\\yeran\\anaconda3\\lib\\site-packages (from spacy) (0.9.1)\n",
      "Requirement already satisfied: srsly<3.0.0,>=2.4.3 in c:\\users\\yeran\\anaconda3\\lib\\site-packages (from spacy) (2.4.8)\n",
      "Requirement already satisfied: catalogue<2.1.0,>=2.0.6 in c:\\users\\yeran\\anaconda3\\lib\\site-packages (from spacy) (2.0.10)\n",
      "Requirement already satisfied: weasel<0.4.0,>=0.1.0 in c:\\users\\yeran\\anaconda3\\lib\\site-packages (from spacy) (0.3.4)\n",
      "Requirement already satisfied: typer<0.10.0,>=0.3.0 in c:\\users\\yeran\\anaconda3\\lib\\site-packages (from spacy) (0.9.0)\n",
      "Requirement already satisfied: smart-open<7.0.0,>=5.2.1 in c:\\users\\yeran\\anaconda3\\lib\\site-packages (from spacy) (5.2.1)\n",
      "Requirement already satisfied: tqdm<5.0.0,>=4.38.0 in c:\\users\\yeran\\anaconda3\\lib\\site-packages (from spacy) (4.65.0)\n",
      "Requirement already satisfied: requests<3.0.0,>=2.13.0 in c:\\users\\yeran\\anaconda3\\lib\\site-packages (from spacy) (2.31.0)\n",
      "Requirement already satisfied: pydantic!=1.8,!=1.8.1,<3.0.0,>=1.7.4 in c:\\users\\yeran\\anaconda3\\lib\\site-packages (from spacy) (1.10.8)\n",
      "Requirement already satisfied: jinja2 in c:\\users\\yeran\\anaconda3\\lib\\site-packages (from spacy) (3.1.2)\n",
      "Requirement already satisfied: setuptools in c:\\users\\yeran\\anaconda3\\lib\\site-packages (from spacy) (68.0.0)\n",
      "Requirement already satisfied: packaging>=20.0 in c:\\users\\yeran\\anaconda3\\lib\\site-packages (from spacy) (23.1)\n",
      "Requirement already satisfied: langcodes<4.0.0,>=3.2.0 in c:\\users\\yeran\\anaconda3\\lib\\site-packages (from spacy) (3.3.0)\n",
      "Requirement already satisfied: numpy>=1.19.0 in c:\\users\\yeran\\anaconda3\\lib\\site-packages (from spacy) (1.24.3)\n",
      "Requirement already satisfied: typing-extensions>=4.2.0 in c:\\users\\yeran\\anaconda3\\lib\\site-packages (from pydantic!=1.8,!=1.8.1,<3.0.0,>=1.7.4->spacy) (4.7.1)\n",
      "Requirement already satisfied: charset-normalizer<4,>=2 in c:\\users\\yeran\\anaconda3\\lib\\site-packages (from requests<3.0.0,>=2.13.0->spacy) (2.0.4)\n",
      "Requirement already satisfied: idna<4,>=2.5 in c:\\users\\yeran\\anaconda3\\lib\\site-packages (from requests<3.0.0,>=2.13.0->spacy) (3.4)\n",
      "Requirement already satisfied: urllib3<3,>=1.21.1 in c:\\users\\yeran\\anaconda3\\lib\\site-packages (from requests<3.0.0,>=2.13.0->spacy) (1.26.16)\n",
      "Requirement already satisfied: certifi>=2017.4.17 in c:\\users\\yeran\\anaconda3\\lib\\site-packages (from requests<3.0.0,>=2.13.0->spacy) (2024.2.2)\n",
      "Requirement already satisfied: blis<0.8.0,>=0.7.8 in c:\\users\\yeran\\anaconda3\\lib\\site-packages (from thinc<8.3.0,>=8.2.2->spacy) (0.7.9)\n",
      "Requirement already satisfied: confection<1.0.0,>=0.0.1 in c:\\users\\yeran\\anaconda3\\lib\\site-packages (from thinc<8.3.0,>=8.2.2->spacy) (0.1.4)\n",
      "Requirement already satisfied: colorama in c:\\users\\yeran\\anaconda3\\lib\\site-packages (from tqdm<5.0.0,>=4.38.0->spacy) (0.4.6)\n",
      "Requirement already satisfied: click<9.0.0,>=7.1.1 in c:\\users\\yeran\\anaconda3\\lib\\site-packages (from typer<0.10.0,>=0.3.0->spacy) (8.0.4)\n",
      "Requirement already satisfied: cloudpathlib<0.17.0,>=0.7.0 in c:\\users\\yeran\\anaconda3\\lib\\site-packages (from weasel<0.4.0,>=0.1.0->spacy) (0.16.0)\n",
      "Requirement already satisfied: MarkupSafe>=2.0 in c:\\users\\yeran\\anaconda3\\lib\\site-packages (from jinja2->spacy) (2.1.1)\n",
      "Downloading spacy-3.7.4-cp311-cp311-win_amd64.whl (12.1 MB)\n",
      "   ---------------------------------------- 0.0/12.1 MB ? eta -:--:--\n",
      "   ---------------------------------------- 0.0/12.1 MB 660.6 kB/s eta 0:00:19\n",
      "   ---------------------------------------- 0.1/12.1 MB 787.7 kB/s eta 0:00:16\n",
      "    --------------------------------------- 0.2/12.1 MB 1.3 MB/s eta 0:00:10\n",
      "    --------------------------------------- 0.3/12.1 MB 1.6 MB/s eta 0:00:08\n",
      "   - -------------------------------------- 0.4/12.1 MB 1.8 MB/s eta 0:00:07\n",
      "   -- ------------------------------------- 0.7/12.1 MB 2.7 MB/s eta 0:00:05\n",
      "   --- ------------------------------------ 1.0/12.1 MB 3.3 MB/s eta 0:00:04\n",
      "   ---- ----------------------------------- 1.3/12.1 MB 3.8 MB/s eta 0:00:03\n",
      "   ------ --------------------------------- 1.8/12.1 MB 4.3 MB/s eta 0:00:03\n",
      "   ------- -------------------------------- 2.2/12.1 MB 4.9 MB/s eta 0:00:03\n",
      "   -------- ------------------------------- 2.7/12.1 MB 5.4 MB/s eta 0:00:02\n",
      "   --------- ------------------------------ 3.0/12.1 MB 5.3 MB/s eta 0:00:02\n",
      "   ----------- ---------------------------- 3.5/12.1 MB 5.7 MB/s eta 0:00:02\n",
      "   ------------- -------------------------- 3.9/12.1 MB 6.0 MB/s eta 0:00:02\n",
      "   -------------- ------------------------- 4.3/12.1 MB 6.3 MB/s eta 0:00:02\n",
      "   --------------- ------------------------ 4.8/12.1 MB 6.5 MB/s eta 0:00:02\n",
      "   ----------------- ---------------------- 5.2/12.1 MB 6.5 MB/s eta 0:00:02\n",
      "   ------------------- -------------------- 5.8/12.1 MB 6.9 MB/s eta 0:00:01\n",
      "   -------------------- ------------------- 6.3/12.1 MB 7.1 MB/s eta 0:00:01\n",
      "   ---------------------- ----------------- 6.9/12.1 MB 7.4 MB/s eta 0:00:01\n",
      "   ------------------------ --------------- 7.5/12.1 MB 7.6 MB/s eta 0:00:01\n",
      "   -------------------------- ------------- 8.0/12.1 MB 7.7 MB/s eta 0:00:01\n",
      "   --------------------------- ------------ 8.4/12.1 MB 7.8 MB/s eta 0:00:01\n",
      "   ----------------------------- ---------- 8.9/12.1 MB 7.9 MB/s eta 0:00:01\n",
      "   ------------------------------- -------- 9.4/12.1 MB 8.0 MB/s eta 0:00:01\n",
      "   --------------------------------- ------ 10.0/12.1 MB 8.2 MB/s eta 0:00:01\n",
      "   ----------------------------------- ---- 10.6/12.1 MB 9.8 MB/s eta 0:00:01\n",
      "   ------------------------------------- -- 11.2/12.1 MB 10.2 MB/s eta 0:00:01\n",
      "   -------------------------------------- - 11.8/12.1 MB 10.6 MB/s eta 0:00:01\n",
      "   ---------------------------------------  12.1/12.1 MB 10.6 MB/s eta 0:00:01\n",
      "   ---------------------------------------- 12.1/12.1 MB 10.1 MB/s eta 0:00:00\n",
      "Installing collected packages: spacy\n",
      "  Attempting uninstall: spacy\n",
      "    Found existing installation: spacy 3.7.2\n",
      "    Uninstalling spacy-3.7.2:\n",
      "      Successfully uninstalled spacy-3.7.2\n"
     ]
    },
    {
     "name": "stderr",
     "output_type": "stream",
     "text": [
      "ERROR: Could not install packages due to an OSError: [WinError 5] Access is denied: 'C:\\\\Users\\\\yeran\\\\anaconda3\\\\Lib\\\\site-packages\\\\~pacy\\\\attrs.cp311-win_amd64.pyd'\n",
      "Consider using the `--user` option or check the permissions.\n",
      "\n"
     ]
    }
   ],
   "source": [
    "!pip install -U spacy\n",
    "!python -m spacy download en_core_web_lg"
   ],
   "metadata": {
    "collapsed": false,
    "is_executing": true,
    "ExecuteTime": {
     "start_time": "2024-02-26T16:24:19.802109100Z"
    }
   },
   "id": "4c1f4049df259a92"
  },
  {
   "cell_type": "code",
   "execution_count": null,
   "outputs": [],
   "source": [
    "import spacy\n",
    "import pandas as pd"
   ],
   "metadata": {
    "collapsed": false,
    "is_executing": true
   },
   "id": "9aaffb9481f5be9f"
  },
  {
   "cell_type": "code",
   "execution_count": null,
   "outputs": [],
   "source": [
    "nlp = spacy.load(\"en_core_web_lg\")\n",
    "laptops_df = pd.read_csv(\"laptop_price.csv\")\n",
    "\n",
    "def preprocess_text(text):\n",
    "    \"\"\"Preprocess the text using spaCy.\"\"\"\n",
    "    doc = nlp(text)\n",
    "    # Extract price, RAM, and GPU information\n",
    "    price = None\n",
    "    ram = None\n",
    "    gpu = None\n",
    "    # Initialize variables to store the words between \"and\" and \"GPU\"\n",
    "    words_between = []\n",
    "    # Iterate through tokens in the document\n",
    "    for i, token in enumerate(doc):\n",
    "        # Check if the token text is 'price'\n",
    "        if token.text.lower() == '$':\n",
    "            # Check if the next token resembles a number\n",
    "            if i + 1 < len(doc) and doc[i + 1].like_num:\n",
    "                # Extract the numerical value of the next token\n",
    "                price = float(doc[i + 1].text)\n",
    "        elif token.text.lower() == 'gb':\n",
    "            # Check if the next token resembles a number\n",
    "            if i + 1 < len(doc) and doc[i - 1].like_num:\n",
    "                # Extract the numerical value of the next token\n",
    "                ram = doc[i - 1].text\n",
    "        \n",
    "        # # Check if the token text is 'and'\n",
    "        # if token.text.lower() == 'and':\n",
    "        #     # Start collecting words after 'and' until 'GPU' is encountered\n",
    "        #     for j in range(i + 1, len(doc)):\n",
    "        #         # Check if the token text is 'GPU'\n",
    "        #         if doc[j].text.lower() == 'gpu':\n",
    "        #             break  # Exit the loop if 'GPU' is encountered\n",
    "        #         else:\n",
    "        #             # Add the token text to the list of words between 'and' and 'GPU'\n",
    "        #             words_between.append(doc[j].text)\n",
    "        \n",
    "        # Check if the token text is 'nvidia' or 'amd'\n",
    "        if token.text.lower() in ['nvidia', 'amd', 'intel']:\n",
    "            words_between.append(token.text)\n",
    "            for j in range(i+1, len(doc)):\n",
    "                if doc[j].text.lower() in [\".\", \"and\", \"gpu\", \",\"]:\n",
    "                    break\n",
    "                else:\n",
    "                    words_between.append(doc[j].text)\n",
    "    \n",
    "    # Convert the list of words between 'and' and 'GPU' to a string\n",
    "    gpu = ' '.join(words_between)\n",
    "    return price, ram+\"GB\", gpu\n",
    "\n",
    "sample_text = \"I want a laptop with a ram of 32GB, around $1500 and Nvidia GeForce GTX 1050 gpu\"\n",
    "sample_price, sample_ram, sample_gpu = preprocess_text(sample_text)\n",
    "\n",
    "print(sample_price)\n",
    "print(sample_ram)\n",
    "print(sample_gpu)"
   ],
   "metadata": {
    "collapsed": false,
    "is_executing": true
   },
   "id": "4323744f902f64da"
  },
  {
   "cell_type": "code",
   "execution_count": null,
   "outputs": [],
   "source": [],
   "metadata": {
    "collapsed": false,
    "is_executing": true
   },
   "id": "d61a72973d649a5a"
  }
 ],
 "metadata": {
  "kernelspec": {
   "display_name": "Python 3",
   "language": "python",
   "name": "python3"
  },
  "language_info": {
   "codemirror_mode": {
    "name": "ipython",
    "version": 2
   },
   "file_extension": ".py",
   "mimetype": "text/x-python",
   "name": "python",
   "nbconvert_exporter": "python",
   "pygments_lexer": "ipython2",
   "version": "2.7.6"
  }
 },
 "nbformat": 4,
 "nbformat_minor": 5
}
